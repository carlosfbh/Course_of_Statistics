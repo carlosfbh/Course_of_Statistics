{
 "cells": [
  {
   "cell_type": "code",
   "execution_count": 10,
   "metadata": {
    "collapsed": true
   },
   "outputs": [],
   "source": [
    "def factorial(n):\n",
    "    if n == 0:\n",
    "        return 1\n",
    "    else:\n",
    "        return n * factorial(n-1)\n",
    "    \n",
    "def variation_nr(n,m):\n",
    "    return factorial(m)/factorial(m-n)\n",
    "\n",
    "def variation_r(n,m):\n",
    "    return m ** n\n",
    "\n",
    "def variation_rno(n,m):\n",
    "    return (m ** n) / factorial(n)\n",
    "\n",
    "def permutation(m):\n",
    "    return factorial(m)\n",
    "\n",
    "def combination(n,m):\n",
    "    return (factorial(m)) / (factorial(m-n) * factorial(n))"
   ]
  }
 ],
 "metadata": {
  "kernelspec": {
   "display_name": "Python 3",
   "language": "python",
   "name": "python3"
  },
  "language_info": {
   "codemirror_mode": {
    "name": "ipython",
    "version": 3
   },
   "file_extension": ".py",
   "mimetype": "text/x-python",
   "name": "python",
   "nbconvert_exporter": "python",
   "pygments_lexer": "ipython3",
   "version": "3.6.3"
  }
 },
 "nbformat": 4,
 "nbformat_minor": 2
}
