{
 "cells": [
  {
   "cell_type": "code",
   "execution_count": 1,
   "metadata": {},
   "outputs": [
    {
     "name": "stdout",
     "output_type": "stream",
     "text": [
      "Populating the interactive namespace from numpy and matplotlib\n"
     ]
    }
   ],
   "source": [
    "%pylab inline"
   ]
  },
  {
   "cell_type": "code",
   "execution_count": 2,
   "metadata": {
    "collapsed": true
   },
   "outputs": [],
   "source": [
    "precios = np.array([  4.9176,   5.0208,   4.5429,   4.5573,   5.0597,   3.891 ,\n",
    "         5.898 ,   5.6039,  16.4202,  14.4598,   5.8282,   5.3003,\n",
    "         6.2712,   5.9592,   5.05  ,   5.6039,   8.2464,   6.6969,\n",
    "         7.7841,   9.0384,   5.9894,   7.5422,   8.7951,   6.0931,\n",
    "         8.3607,   8.14  ,   9.1416,  12.    ])\n",
    "area = np.array([  3.472 ,   3.531 ,   2.275 ,   4.05  ,   4.455 ,   4.455 ,\n",
    "         5.85  ,   9.52  ,   9.8   ,  12.8   ,   6.435 ,   4.9883,\n",
    "         5.52  ,   6.666 ,   5.    ,   9.52  ,   5.15  ,   6.902 ,\n",
    "         7.102 ,   7.8   ,   5.52  ,   4.    ,   9.89  ,   6.7265,\n",
    "         9.15  ,   8.    ,   7.3262,   5.    ])"
   ]
  },
  {
   "cell_type": "code",
   "execution_count": 4,
   "metadata": {
    "collapsed": true
   },
   "outputs": [],
   "source": [
    "# We are going to use a symbolic library\n",
    "from sympy import *"
   ]
  },
  {
   "cell_type": "code",
   "execution_count": 10,
   "metadata": {
    "collapsed": true
   },
   "outputs": [],
   "source": [
    "init_printing()"
   ]
  },
  {
   "cell_type": "markdown",
   "metadata": {},
   "source": [
    "$$\\nabla f(u,v)= \\left( \\frac{\\partial f}{\\partial u}(u,v), \\frac{\\partial f}{\\partial v}(u,v)\\right)=(0,0).$$\n",
    "\n",
    "\n",
    "$$\\left\\{ \\begin{array}{ll}  \\frac{\\partial f}{\\partial u}(u,v)=-2\\bar{y}+2u+2v\\bar{x}=0 \\\\\n",
    " \\frac{\\partial f}{\\partial v}(u,v)=-\\frac{2}{n}\\sum_{i=1}^nx_iy_i+2u \\bar{x}+\\frac{2v}{n}\\sum_{i=1}^nx_i^2=0 \\end{array} \\right.$$ \n",
    " \n",
    " \n",
    " $$  \\Longleftrightarrow \\; \\left\\{ \\begin{array}{ll} u+v\\bar{x}=\\bar{y} \\\\ u\\bar{x}+\n",
    " v\\frac{1}{n}\\sum_{i=1}^nx_i^2=\\frac{1}{n}\\sum_{i=1}^nx_iy_i \\end{array} \\right. .$$ \n",
    "\n",
    "$$ \\boxed{ y=\\bar{y}-\\frac{\\textrm{cov}_{x,y}}{v_x}\\bar{x}+\\frac{\\textrm{cov}_{x,y}}{v_x}x} $$"
   ]
  },
  {
   "cell_type": "code",
   "execution_count": 1,
   "metadata": {
    "collapsed": true
   },
   "outputs": [],
   "source": [
    "from sympy import *"
   ]
  },
  {
   "cell_type": "code",
   "execution_count": 2,
   "metadata": {
    "collapsed": true
   },
   "outputs": [],
   "source": [
    "init_printing()"
   ]
  },
  {
   "cell_type": "code",
   "execution_count": 4,
   "metadata": {
    "collapsed": true
   },
   "outputs": [],
   "source": [
    "# Let's try to understand this\n",
    "yi = Symbol(\"y_i\")\n",
    "xi = Symbol(\"x_i\")\n",
    "u = Symbol(\"u\")\n",
    "v = Symbol(\"v\")"
   ]
  },
  {
   "cell_type": "code",
   "execution_count": 5,
   "metadata": {},
   "outputs": [
    {
     "data": {
      "image/png": "[encoded data removed]",
      "text/latex": [
       "$$y_{i}$$"
      ],
      "text/plain": [
       "yᵢ"
      ]
     },
     "execution_count": 5,
     "metadata": {},
     "output_type": "execute_result"
    }
   ],
   "source": [
    "yi"
   ]
  },
  {
   "cell_type": "code",
   "execution_count": 6,
   "metadata": {},
   "outputs": [
    {
     "data": {
      "image/png": "[encoded data removed]",
      "text/latex": [
       "$$\\left(- u - v x_{i} + y_{i}\\right)^{2}$$"
      ],
      "text/plain": [
       "                2\n",
       "(-u - v⋅xᵢ + yᵢ) "
      ]
     },
     "execution_count": 6,
     "metadata": {},
     "output_type": "execute_result"
    }
   ],
   "source": [
    "(yi - (v*xi+u))**2"
   ]
  },
  {
   "cell_type": "code",
   "execution_count": 10,
   "metadata": {},
   "outputs": [
    {
     "data": {
      "image/png": "[encoded data removed]",
      "text/latex": [
       "$$u^{2} + 2 u v x_{i} - 2 u y_{i} + v^{2} x_{i}^{2} - 2 v x_{i} y_{i} + y_{i}^{2}$$"
      ],
      "text/plain": [
       " 2                        2   2                 2\n",
       "u  + 2⋅u⋅v⋅xᵢ - 2⋅u⋅yᵢ + v ⋅xᵢ  - 2⋅v⋅xᵢ⋅yᵢ + yᵢ "
      ]
     },
     "execution_count": 10,
     "metadata": {},
     "output_type": "execute_result"
    }
   ],
   "source": [
    "expr=expand((yi - (v*xi+u))**2)\n",
    "expr"
   ]
  },
  {
   "cell_type": "code",
   "execution_count": 9,
   "metadata": {},
   "outputs": [
    {
     "data": {
      "image/png": "[encoded data removed]",
      "text/latex": [
       "$$2 u + 2 v x_{i} - 2 y_{i}$$"
      ],
      "text/plain": [
       "2⋅u + 2⋅v⋅xᵢ - 2⋅yᵢ"
      ]
     },
     "execution_count": 9,
     "metadata": {},
     "output_type": "execute_result"
    }
   ],
   "source": [
    "diff(expr,u)"
   ]
  },
  {
   "cell_type": "code",
   "execution_count": 11,
   "metadata": {},
   "outputs": [
    {
     "data": {
      "image/png": "[encoded data removed]",
      "text/latex": [
       "$$2 u x_{i} + 2 v x_{i}^{2} - 2 x_{i} y_{i}$$"
      ],
      "text/plain": [
       "               2          \n",
       "2⋅u⋅xᵢ + 2⋅v⋅xᵢ  - 2⋅xᵢ⋅yᵢ"
      ]
     },
     "execution_count": 11,
     "metadata": {},
     "output_type": "execute_result"
    }
   ],
   "source": [
    "diff(expr,v)"
   ]
  },
  {
   "cell_type": "code",
   "execution_count": null,
   "metadata": {
    "collapsed": true
   },
   "outputs": [],
   "source": []
  },
  {
   "cell_type": "code",
   "execution_count": null,
   "metadata": {
    "collapsed": true
   },
   "outputs": [],
   "source": []
  },
  {
   "cell_type": "code",
   "execution_count": 14,
   "metadata": {
    "scrolled": true
   },
   "outputs": [
    {
     "data": {
      "image/png": "[encoded data removed]",
      "text/latex": [
       "$$\\left(- u - v x_{i} + y_{i}\\right)^{2}$$"
      ],
      "text/plain": [
       "                2\n",
       "(-u - v⋅xᵢ + yᵢ) "
      ]
     },
     "execution_count": 14,
     "metadata": {},
     "output_type": "execute_result"
    }
   ],
   "source": [
    "(yi - (v*xi+u))**2"
   ]
  },
  {
   "cell_type": "code",
   "execution_count": 16,
   "metadata": {},
   "outputs": [
    {
     "data": {
      "image/png": "[encoded data removed]",
      "text/latex": [
       "$$u^{2} + 2 u v x_{i} - 2 u y_{i} + v^{2} x_{i}^{2} - 2 v x_{i} y_{i} + y_{i}^{2}$$"
      ],
      "text/plain": [
       " 2                        2   2                 2\n",
       "u  + 2⋅u⋅v⋅xᵢ - 2⋅u⋅yᵢ + v ⋅xᵢ  - 2⋅v⋅xᵢ⋅yᵢ + yᵢ "
      ]
     },
     "execution_count": 16,
     "metadata": {},
     "output_type": "execute_result"
    }
   ],
   "source": [
    "Expr = expand((yi - (v*xi+u))**2)\n",
    "Expr"
   ]
  },
  {
   "cell_type": "code",
   "execution_count": 17,
   "metadata": {},
   "outputs": [
    {
     "data": {
      "image/png": "[encoded data removed]",
      "text/latex": [
       "$$2 u + 2 v x_{i} - 2 y_{i}$$"
      ],
      "text/plain": [
       "2⋅u + 2⋅v⋅xᵢ - 2⋅yᵢ"
      ]
     },
     "execution_count": 17,
     "metadata": {},
     "output_type": "execute_result"
    }
   ],
   "source": [
    "# Derivada de la expresion por u\n",
    "diff(Expr,u)"
   ]
  },
  {
   "cell_type": "code",
   "execution_count": 18,
   "metadata": {},
   "outputs": [
    {
     "data": {
      "image/png": "[encoded data removed]",
      "text/latex": [
       "$$2 u x_{i} + 2 v x_{i}^{2} - 2 x_{i} y_{i}$$"
      ],
      "text/plain": [
       "               2          \n",
       "2⋅u⋅xᵢ + 2⋅v⋅xᵢ  - 2⋅xᵢ⋅yᵢ"
      ]
     },
     "execution_count": 18,
     "metadata": {},
     "output_type": "execute_result"
    }
   ],
   "source": [
    "# Derivada de la expresion por v\n",
    "diff(Expr,v)"
   ]
  },
  {
   "cell_type": "code",
   "execution_count": null,
   "metadata": {
    "collapsed": true
   },
   "outputs": [],
   "source": []
  }
 ],
 "metadata": {
  "kernelspec": {
   "display_name": "Python 3",
   "language": "python",
   "name": "python3"
  },
  "language_info": {
   "codemirror_mode": {
    "name": "ipython",
    "version": 3
   },
   "file_extension": ".py",
   "mimetype": "text/x-python",
   "name": "python",
   "nbconvert_exporter": "python",
   "pygments_lexer": "ipython3",
   "version": "3.6.3"
  }
 },
 "nbformat": 4,
 "nbformat_minor": 2
}
