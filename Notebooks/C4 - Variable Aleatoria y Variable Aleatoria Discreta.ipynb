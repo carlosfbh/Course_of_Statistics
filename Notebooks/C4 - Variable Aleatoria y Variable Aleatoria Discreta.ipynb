{
 "cells": [
  {
   "cell_type": "markdown",
   "metadata": {},
   "source": [
    "## Variable Aleatoria\n",
    "\n",
    "Una variable aleatoria es una funcion que asigna valores a sucesos, ie, que mapea de sucesos a valores.\n",
    "\n",
    "*Ejemplo: Una compañía de bebidas anuncia premios en los tapones asegurando\n",
    "que en cada 1000 tapones hay 500 con inténtelo otra vez\", 300 con premio de 5 euros,\n",
    "150 con premio de 10 euros , 40 con premio de 50 euros y 10 con premio de 100 euros.\n",
    "Un individuo, al que no le gusta esa bebida, decide comprar una bebida cuyo coste\n",
    "es de 10 euros. Vamos a caracterizar la ganancia por una variable aleatoria:*\n",
    "\n",
    "$$X : \\Omega \\mapsto \\mathbb{R} \\left\\{ \\begin{array}{lllll}  X( \\textrm{inténtelo otra vez})=0-10=-10\n",
    "  \\\\ X( 5 \\textrm{ euros})=5-10=-5 \\\\ X(  10 \\textrm{ euros})=10-10=0 \\\\ X( 50 \\textrm{ euros})=50-10=40\n",
    "   \\\\ X( 100 \\textrm{ euros})=100-10=90 , \\end{array} \\right. $$"
   ]
  },
  {
   "cell_type": "markdown",
   "metadata": {},
   "source": [
    "### Ejercicio  \n",
    "\n",
    "El lanzamiento de un dado nos cuesta 2 euros. Si sacamos un múltiplo\n",
    "de tres, nos devuelven el dinero mientras que si obtenemos un múltiplo de 5 nos\n",
    "dan 5 euros.\n",
    "Calcúlese al probabilidad de que al jugar una vez\n",
    "1. obtengamos una ganancia de 3 euros;\n",
    "2. no perdamos dinero;\n",
    "3. perdamos dinero"
   ]
  },
  {
   "cell_type": "markdown",
   "metadata": {},
   "source": [
    "### Ejercicio: \n",
    "\n",
    "En el ejemplor de la compania de bebidas, vamos a calcular las probabilidades:\n",
    "\n",
    "$P(100)$\n",
    "\n",
    "$P(-7, 3)$\n",
    "\n",
    "$P(30, \\infty)$\n",
    "\n",
    "$P(-\\infty, 20)$\n",
    "\n",
    "$P(6)$\n",
    "\n",
    "$P(40)$"
   ]
  },
  {
   "cell_type": "markdown",
   "metadata": {},
   "source": [
    "### La funcion de distribucion $F_X$\n",
    "\n",
    "Es una funcion que asocia los valores de una variable aleatoria con sus respectivas probabilidades:\n",
    "\n",
    "\n",
    "$$ \\boxed{ \\begin{array}{ll} F_X: \\mathbb{R} \\; \\longmapsto \\; [0,1] \\\\ \\hspace{1cm} x\n",
    "\\longrightarrow F_X(x)=P(-\\infty, x]=P(\\{ \\omega \\in \\Omega: \\; X(\\omega) \\leq x\\}) \\end{array} } $$"
   ]
  },
  {
   "cell_type": "markdown",
   "metadata": {},
   "source": [
    "### Ejercicio\n",
    "\n",
    "Vamos a calcular la funcion en el caso de la compania de bebidas"
   ]
  },
  {
   "cell_type": "markdown",
   "metadata": {},
   "source": [
    "### Propiedades de la funcion de distribucion:\n",
    "\n",
    "* $\\lim_{x \\rightarrow -\\infty}F(x)=0, \\hspace{0.5cm}\\lim_{x \\rightarrow \\infty}F(x)=1.$\n",
    "\n",
    "     * $P(\\emptyset)=\\lim_{x \\rightarrow -\\infty}P(-\\infty,x]=\\lim_{x \\rightarrow\n",
    " -\\infty}F(x)=0$,\n",
    " \n",
    "     * $P(\\mathbb{R})=\\lim_{x \\rightarrow \\infty}P(-\\infty,x]=\\lim_{x \\rightarrow\n",
    " \\infty}F(x)=1$.\n",
    " \n",
    "* $F$ es creciente, $x_1 \\leq x_2 \\;\\;\n",
    "\\Longrightarrow \\; F(x_1) \\leq F(x_2)$. \n",
    "\n",
    "* $F$ es continua por la derecha, $\\lim_{h \\rightarrow 0,\n",
    "h>0}F(x+h)=F(x).$"
   ]
  },
  {
   "cell_type": "markdown",
   "metadata": {},
   "source": [
    "## Variables aleatorias discretas\n",
    "\n",
    "### Funcion de probabilidad $P_X$ "
   ]
  },
  {
   "cell_type": "markdown",
   "metadata": {},
   "source": [
    "### Ejercicio\n",
    "\n",
    "Calculemos la funcion de probabilidad:\n",
    "\n",
    "* En el ejemplo de la promocion\n",
    "* En el ejemplo de la suma de dos dados"
   ]
  },
  {
   "cell_type": "markdown",
   "metadata": {},
   "source": [
    "### Distribucion de Bernouilli\n",
    "\n",
    "Exito y fracaso: Un experimento aleatorio con un solo intento."
   ]
  },
  {
   "cell_type": "markdown",
   "metadata": {},
   "source": [
    "### Distribucion binomial\n",
    "\n",
    "Equivale a la suma de $n$ Bernouillis:\n",
    "\n",
    "$$B=X_1+X_2+ \\cdot \\cdot \\cdot +X_n $$"
   ]
  },
  {
   "cell_type": "markdown",
   "metadata": {},
   "source": [
    "### Ejercicio\n",
    "\n",
    "Suponiendo que la probabilidad de que un recién nacido\n",
    "sea niña es 0,51, hallar la probabilidad de que una familia de 6\n",
    "hijos tenga:\n",
    "1. por lo menos una niña,\n",
    "2. por lo menos un niño,\n",
    "3. por lo menos dos niños y una niña"
   ]
  },
  {
   "cell_type": "markdown",
   "metadata": {},
   "source": [
    "La funcion de probabilidad de una distribucion binomial es:\n",
    "\n",
    "$$\n",
    "\\boxed{ P(X=k)=\\left(\n",
    "                   \\begin{array}{c}\n",
    "                     n \\\\\n",
    "                     k \\\\\n",
    "                   \\end{array}\n",
    "                 \\right)p^k(1-p)^{n-k}, \\hspace{0.5cm} k=0,1,2, \\cdot \\cdot \\cdot, n  }\n",
    "$$"
   ]
  },
  {
   "cell_type": "code",
   "execution_count": 3,
   "metadata": {
    "collapsed": true
   },
   "outputs": [],
   "source": [
    "#Distribución binomial\n",
    "p = 0.51\n",
    "n = 6"
   ]
  },
  {
   "cell_type": "code",
   "execution_count": 4,
   "metadata": {
    "collapsed": true
   },
   "outputs": [],
   "source": [
    "from scipy import stats"
   ]
  },
  {
   "cell_type": "code",
   "execution_count": 6,
   "metadata": {
    "collapsed": true
   },
   "outputs": [],
   "source": [
    "mi_binomial = stats.binom(n,p)"
   ]
  },
  {
   "cell_type": "code",
   "execution_count": 9,
   "metadata": {},
   "outputs": [
    {
     "data": {
      "text/plain": [
       "0.24364871401499996"
      ]
     },
     "execution_count": 9,
     "metadata": {},
     "output_type": "execute_result"
    }
   ],
   "source": [
    "#Probabilidad 4 exito\n",
    "mi_binomial.pmf(4)"
   ]
  },
  {
   "cell_type": "code",
   "execution_count": 11,
   "metadata": {},
   "outputs": [
    {
     "name": "stdout",
     "output_type": "stream",
     "text": [
      "0 0.013841287201\n",
      "1 0.086437426194\n",
      "2 0.224913711015\n",
      "3 0.31212514998\n",
      "4 0.243648714015\n",
      "5 0.101437423794\n",
      "6 0.017596287801\n"
     ]
    }
   ],
   "source": [
    "for n in range(0,n+1):\n",
    "    print(n, mi_binomial.pmf(n))"
   ]
  },
  {
   "cell_type": "code",
   "execution_count": 13,
   "metadata": {},
   "outputs": [
    {
     "data": {
      "text/plain": [
       "0.98615871279900003"
      ]
     },
     "execution_count": 13,
     "metadata": {},
     "output_type": "execute_result"
    }
   ],
   "source": [
    "#Probabilidad de al menos 1 niña será el complementario a tener 0 niñas:\n",
    "1 - mi_binomial.pmf(0)"
   ]
  },
  {
   "cell_type": "code",
   "execution_count": 14,
   "metadata": {},
   "outputs": [
    {
     "data": {
      "text/plain": [
       "0.98240371219900002"
      ]
     },
     "execution_count": 14,
     "metadata": {},
     "output_type": "execute_result"
    }
   ],
   "source": [
    "#Probabilidad de por lo menos un niño será el complementar a tener todo niñas:\n",
    "1 - mi_binomial.pmf(6)"
   ]
  },
  {
   "cell_type": "code",
   "execution_count": 17,
   "metadata": {},
   "outputs": [
    {
     "name": "stdout",
     "output_type": "stream",
     "text": [
      "1\n",
      "2\n",
      "3\n",
      "4\n"
     ]
    },
    {
     "data": {
      "text/plain": [
       "0.86712500120400005"
      ]
     },
     "execution_count": 17,
     "metadata": {},
     "output_type": "execute_result"
    }
   ],
   "source": [
    "#Probabilidad de por lo menos 2 niños y 1 niña. Se cumplen para cuando tengas 1 niña, 2 niñas, 3 niñas o 4 niñas\n",
    "result = 0\n",
    "for n in range(1,5):\n",
    "    result = result + mi_binomial.pmf(n)\n",
    "result"
   ]
  },
  {
   "cell_type": "code",
   "execution_count": 22,
   "metadata": {},
   "outputs": [
    {
     "data": {
      "text/plain": [
       "0.86712500120400005"
      ]
     },
     "execution_count": 22,
     "metadata": {},
     "output_type": "execute_result"
    }
   ],
   "source": [
    "#También se podría calcular para los casos en los que se cumplen todos menos cuando tienes 0, 5 o 6 niñas\n",
    "1 - mi_binomial.pmf(6) - mi_binomial.pmf(5) - mi_binomial.pmf(0)"
   ]
  },
  {
   "cell_type": "code",
   "execution_count": 20,
   "metadata": {},
   "outputs": [
    {
     "data": {
      "text/plain": [
       "0.86712500120400005"
      ]
     },
     "execution_count": 20,
     "metadata": {},
     "output_type": "execute_result"
    }
   ],
   "source": [
    "#También se podría pensar que estos casos se cumplen para cuando 0 < x <= 4. Por lo tanto sería calcular la diferencia\n",
    "#con la función de distribución\n",
    "mi_binomial.cdf(4) - mi_binomial.cdf(0)"
   ]
  },
  {
   "cell_type": "code",
   "execution_count": 25,
   "metadata": {},
   "outputs": [
    {
     "name": "stdout",
     "output_type": "stream",
     "text": [
      "Populating the interactive namespace from numpy and matplotlib\n"
     ]
    }
   ],
   "source": [
    "%pylab inline"
   ]
  },
  {
   "cell_type": "code",
   "execution_count": 26,
   "metadata": {},
   "outputs": [
    {
     "data": {
      "image/png": "[encoded data removed]",
      "text/plain": [
       "<matplotlib.figure.Figure at 0x17eed5d1b70>"
      ]
     },
     "metadata": {},
     "output_type": "display_data"
    }
   ],
   "source": [
    "ne = [0,1,2,3,4,5,6]\n",
    "pe = list(map(lambda e: mi_binomial.pmf(e), ne))\n",
    "plt.plot(ne, pe)\n",
    "plt.show()"
   ]
  },
  {
   "cell_type": "code",
   "execution_count": 27,
   "metadata": {},
   "outputs": [
    {
     "data": {
      "image/png": "[encoded data removed]",
      "text/plain": [
       "<matplotlib.figure.Figure at 0x17ee9f2dc88>"
      ]
     },
     "metadata": {},
     "output_type": "display_data"
    }
   ],
   "source": [
    "ne = [0,1,2,3,4,5,6]\n",
    "pe = list(map(lambda e: mi_binomial.cdf(e), ne))\n",
    "plt.plot(ne, pe)\n",
    "plt.show()"
   ]
  },
  {
   "cell_type": "markdown",
   "metadata": {},
   "source": [
    "### Ejercicio\n",
    "\n",
    "Paco tiene una probabilidad del 70% de llegar tarde. Qué probabilidad tiene de llegar tarde 30 días en un año?"
   ]
  },
  {
   "cell_type": "code",
   "execution_count": 74,
   "metadata": {
    "collapsed": true
   },
   "outputs": [],
   "source": [
    "from scipy import stats"
   ]
  },
  {
   "cell_type": "code",
   "execution_count": 36,
   "metadata": {
    "collapsed": true
   },
   "outputs": [],
   "source": [
    "#Distribución binomial\n",
    "p = 0.70\n",
    "n = 365\n",
    "mi_binomial = stats.binom(n,p)"
   ]
  },
  {
   "cell_type": "code",
   "execution_count": 37,
   "metadata": {},
   "outputs": [
    {
     "data": {
      "text/plain": [
       "1.2634769344547776e-136"
      ]
     },
     "execution_count": 37,
     "metadata": {},
     "output_type": "execute_result"
    }
   ],
   "source": [
    "mi_binomial.pmf(30)"
   ]
  },
  {
   "cell_type": "code",
   "execution_count": 55,
   "metadata": {},
   "outputs": [
    {
     "data": {
      "text/plain": [
       "1.0"
      ]
     },
     "execution_count": 55,
     "metadata": {},
     "output_type": "execute_result"
    }
   ],
   "source": [
    "#Probabilidad de que llegue como máximo 100 días tarde\n",
    "mi_binomial.cdf(100)"
   ]
  },
  {
   "cell_type": "code",
   "execution_count": 38,
   "metadata": {},
   "outputs": [
    {
     "data": {
      "image/png": "[encoded data removed]",
      "text/plain": [
       "<matplotlib.figure.Figure at 0x17ee9f3c3c8>"
      ]
     },
     "metadata": {},
     "output_type": "display_data"
    }
   ],
   "source": [
    "ne = np.arange(0,365)\n",
    "pe = list(map(lambda e: mi_binomial.pmf(e), ne))\n",
    "plt.plot(ne, pe)\n",
    "plt.show()"
   ]
  },
  {
   "cell_type": "code",
   "execution_count": 39,
   "metadata": {},
   "outputs": [
    {
     "data": {
      "image/png": "[encoded data removed]",
      "text/plain": [
       "<matplotlib.figure.Figure at 0x17eee50ceb8>"
      ]
     },
     "metadata": {},
     "output_type": "display_data"
    }
   ],
   "source": [
    "ne = np.arange(0,365)\n",
    "pe = list(map(lambda e: mi_binomial.cdf(e), ne))\n",
    "plt.plot(ne, pe)\n",
    "plt.show()"
   ]
  },
  {
   "cell_type": "code",
   "execution_count": null,
   "metadata": {
    "collapsed": true
   },
   "outputs": [],
   "source": []
  },
  {
   "cell_type": "code",
   "execution_count": null,
   "metadata": {
    "collapsed": true
   },
   "outputs": [],
   "source": []
  },
  {
   "cell_type": "markdown",
   "metadata": {},
   "source": [
    "### Ejercicio\n",
    "\n",
    "El gerente de un restaurante que solo da servicio\n",
    "mediante reservas, sabe por experiencia, que el 20 % de las\n",
    "personas que reservan una mesa no asistirán.\n",
    "Si el restaurante acepta 25 reservas pero solo dispone de 20 mesas,\n",
    "¿cuál es la probabilidad de que a todas las personas que asistan\n",
    "al restaurante se le asigne una mesa?"
   ]
  },
  {
   "cell_type": "code",
   "execution_count": 62,
   "metadata": {},
   "outputs": [
    {
     "data": {
      "text/plain": [
       "0.57932569074786866"
      ]
     },
     "execution_count": 62,
     "metadata": {},
     "output_type": "execute_result"
    }
   ],
   "source": [
    "p = 0.8\n",
    "n = 25\n",
    "mi_binomial = stats.binom(n,p)\n",
    "mi_binomial.cdf(20)"
   ]
  },
  {
   "cell_type": "code",
   "execution_count": 65,
   "metadata": {},
   "outputs": [
    {
     "data": {
      "image/png": "[encoded data removed]",
      "text/plain": [
       "<matplotlib.figure.Figure at 0x17eef9ff4e0>"
      ]
     },
     "metadata": {},
     "output_type": "display_data"
    }
   ],
   "source": [
    "ne = np.arange(0,50)\n",
    "pe = list(map(lambda e: mi_binomial.pmf(e), ne))\n",
    "plt.plot(ne, pe)\n",
    "plt.show()"
   ]
  },
  {
   "cell_type": "code",
   "execution_count": 66,
   "metadata": {},
   "outputs": [
    {
     "data": {
      "image/png": "[encoded data removed]",
      "text/plain": [
       "<matplotlib.figure.Figure at 0x17eef9bff98>"
      ]
     },
     "metadata": {},
     "output_type": "display_data"
    }
   ],
   "source": [
    "ne = np.arange(0,50)\n",
    "pe = list(map(mi_binomial.cdf, ne))\n",
    "plt.plot(ne, pe)\n",
    "plt.show()"
   ]
  },
  {
   "cell_type": "code",
   "execution_count": 69,
   "metadata": {},
   "outputs": [
    {
     "data": {
      "text/plain": [
       "22.0"
      ]
     },
     "execution_count": 69,
     "metadata": {},
     "output_type": "execute_result"
    }
   ],
   "source": [
    "#Cuantas mesas tengo que tener para asegurarme de que si vienen tienen mesa en un 90% de probabilidad\n",
    "mi_binomial.ppf(0.9)"
   ]
  },
  {
   "cell_type": "markdown",
   "metadata": {},
   "source": [
    "### Ejercicio\n",
    "\n",
    "Cada muestra de aire tiene 10 % de posibilidades de contener una molécula\n",
    "rara particular. Suponga que las muestras son independientes con respecto a\n",
    "la presencia de la molécula rara. Encuentre la probabilidad de que en las siguientes\n",
    "18 muestras, exactamente dos contengan la molécula rara."
   ]
  },
  {
   "cell_type": "code",
   "execution_count": 57,
   "metadata": {},
   "outputs": [
    {
     "data": {
      "text/plain": [
       "0.28351208889433122"
      ]
     },
     "execution_count": 57,
     "metadata": {},
     "output_type": "execute_result"
    }
   ],
   "source": [
    "p = 0.1\n",
    "n = 18\n",
    "mi_binomial = stats.binom(n,p)\n",
    "mi_binomial.pmf(2)"
   ]
  },
  {
   "cell_type": "code",
   "execution_count": 58,
   "metadata": {},
   "outputs": [
    {
     "data": {
      "text/plain": [
       "0.28351208889433122"
      ]
     },
     "execution_count": 58,
     "metadata": {},
     "output_type": "execute_result"
    }
   ],
   "source": [
    "stats.binom(n,p).pmf(2)"
   ]
  },
  {
   "cell_type": "code",
   "execution_count": 59,
   "metadata": {},
   "outputs": [
    {
     "data": {
      "image/png": "[encoded data removed]",
      "text/plain": [
       "<matplotlib.figure.Figure at 0x17eef863128>"
      ]
     },
     "metadata": {},
     "output_type": "display_data"
    }
   ],
   "source": [
    "ne = np.arange(0,18)\n",
    "pe = list(map(lambda e: mi_binomial.pmf(e), ne))\n",
    "plt.plot(ne, pe)\n",
    "plt.show()"
   ]
  },
  {
   "cell_type": "code",
   "execution_count": 60,
   "metadata": {},
   "outputs": [
    {
     "data": {
      "image/png": "[encoded data removed]",
      "text/plain": [
       "<matplotlib.figure.Figure at 0x17eef8b0a20>"
      ]
     },
     "metadata": {},
     "output_type": "display_data"
    }
   ],
   "source": [
    "ne = np.arange(0,18)\n",
    "pe = list(map(lambda e: mi_binomial.cdf(e), ne))\n",
    "plt.plot(ne, pe)\n",
    "plt.show()"
   ]
  },
  {
   "cell_type": "code",
   "execution_count": null,
   "metadata": {
    "collapsed": true
   },
   "outputs": [],
   "source": []
  },
  {
   "cell_type": "markdown",
   "metadata": {},
   "source": [
    "### Medidas de centralidad y dispersion\n",
    "\n",
    "#### Esperanza matematica ~ media\n",
    "\n",
    " $$\\mu = E[X]=\\sum_{i} x_iP(X=x_i)$$"
   ]
  },
  {
   "cell_type": "markdown",
   "metadata": {},
   "source": [
    "### Ejercicio\n",
    "\n",
    "Calcule la esperanza matematica de la funcion de distribucion del ejemplo de la promocion"
   ]
  },
  {
   "cell_type": "code",
   "execution_count": 71,
   "metadata": {},
   "outputs": [
    {
     "data": {
      "text/plain": [
       "-4.0"
      ]
     },
     "execution_count": 71,
     "metadata": {},
     "output_type": "execute_result"
    }
   ],
   "source": [
    "ganancias = np.array([-10, -5, 0, 40, 90])\n",
    "probab = np.array([500/1000, 300/1000, 150/1000, 40/1000, 10/1000])\n",
    "sum(ganancias * probab)"
   ]
  },
  {
   "cell_type": "code",
   "execution_count": null,
   "metadata": {
    "collapsed": true
   },
   "outputs": [],
   "source": [
    "#De media, en este juego, la gente va a perder 4 euros"
   ]
  },
  {
   "cell_type": "markdown",
   "metadata": {},
   "source": [
    "### Ejercicio\n",
    "\n",
    "Calcule la esperanza matemática de una distribución binomial B(5, p)."
   ]
  },
  {
   "cell_type": "code",
   "execution_count": 76,
   "metadata": {},
   "outputs": [
    {
     "data": {
      "text/plain": [
       "1.0"
      ]
     },
     "execution_count": 76,
     "metadata": {},
     "output_type": "execute_result"
    }
   ],
   "source": [
    "stats.binom(5, 0.2).mean()"
   ]
  },
  {
   "cell_type": "markdown",
   "metadata": {},
   "source": [
    "### Ejercicio \n",
    "\n",
    "En el juego de la ruleta se hace girar una bola encima de una rueda circular\n",
    "dividida en 37 arcos de la misma longitud, numerados del 0 al 36. Suponemos\n",
    "que la probabilidad de que ocurra un arco es la misma para todos y, por tanto, la\n",
    "bola puede caer en cualquier número del 0 al 36 con una probabilidad de 1/37. Supongamos\n",
    "que jugamos a números impares y que la apuesta se hace a dos por uno,\n",
    "es decir, si aportamos 1 euro y sale impar, recibimos 2 euros (incluida la apuesta), y\n",
    "no cobramos nada si sale par. ¿Qué esperamos ganar si apostamos continuamente a\n",
    "número impares?"
   ]
  },
  {
   "cell_type": "code",
   "execution_count": 83,
   "metadata": {
    "collapsed": true
   },
   "outputs": [],
   "source": [
    "n = 100\n",
    "p = 18/37\n",
    "mi_binomial = stats.binom(n,p)"
   ]
  },
  {
   "cell_type": "code",
   "execution_count": 84,
   "metadata": {},
   "outputs": [
    {
     "data": {
      "text/plain": [
       "-2.7027027027026946"
      ]
     },
     "execution_count": 84,
     "metadata": {},
     "output_type": "execute_result"
    }
   ],
   "source": [
    "2 * mi_binomial.mean() - n"
   ]
  },
  {
   "cell_type": "markdown",
   "metadata": {},
   "source": [
    "### Varianza\n",
    "\n",
    "$$\\sigma^2=V(X)=\\sum_i( x_i - \\mu)^2P(X=x_i)$$"
   ]
  },
  {
   "cell_type": "markdown",
   "metadata": {},
   "source": [
    "### Distribucion de Poisson\n",
    "\n",
    "Tambien llamada distribucion de los sucesos raros, es una version extrema de la distribucion binomial cuando $n \\rightarrow \\infty$ y $p \\rightarrow 0$, en la que sustituimos $\\lambda = np$\n",
    "\n",
    "Como referencia, podemos utilizarla cuando $n \\geq 30$ y $p \\leq 0,1$.\n",
    "\n",
    "Su esperanza y su varianza son ambos $\\lambda$"
   ]
  },
  {
   "cell_type": "markdown",
   "metadata": {},
   "source": [
    "### Ejercicio\n",
    "\n",
    "La probabilidad de que un individuo tenga una reacción\n",
    "alérgica al inyectarle un suero es p = 0,001. Hallar la probabilidad\n",
    "de que, entre 2000 individuos, tengan reacción alérgica:\n",
    "1. exactamente tres,\n",
    "2. más de dos."
   ]
  },
  {
   "cell_type": "code",
   "execution_count": 89,
   "metadata": {},
   "outputs": [],
   "source": [
    "p = 0.001\n",
    "n = 2000\n",
    "mi_poisson = stats.poisson(n*p)\n",
    "mi_binomial = stats.binom(n,p)"
   ]
  },
  {
   "cell_type": "code",
   "execution_count": 90,
   "metadata": {},
   "outputs": [
    {
     "data": {
      "text/plain": [
       "0.18044704431548356"
      ]
     },
     "execution_count": 90,
     "metadata": {},
     "output_type": "execute_result"
    }
   ],
   "source": [
    "mi_poisson.pmf(3)"
   ]
  },
  {
   "cell_type": "code",
   "execution_count": 91,
   "metadata": {},
   "outputs": [
    {
     "data": {
      "text/plain": [
       "0.18053732803244238"
      ]
     },
     "execution_count": 91,
     "metadata": {},
     "output_type": "execute_result"
    }
   ],
   "source": [
    "mi_binomial.pmf(3)"
   ]
  },
  {
   "cell_type": "code",
   "execution_count": 88,
   "metadata": {},
   "outputs": [
    {
     "data": {
      "text/plain": [
       "0.3233235838169366"
      ]
     },
     "execution_count": 88,
     "metadata": {},
     "output_type": "execute_result"
    }
   ],
   "source": [
    "1 - mi_poisson.cdf(2)"
   ]
  },
  {
   "cell_type": "markdown",
   "metadata": {},
   "source": [
    "### Ejercicio\n",
    "\n",
    "El número de erratas por página en un libro se supone que sigue una\n",
    "distribución de Poisson. En una muestra de 95 páginas se han observado las siguientes\n",
    "frecuencias\n",
    "Número de erratas: 0 1 2 3 4 5\n",
    "Frecuencia: 40 30 15 7 2\n",
    "Hallar la probabilidad de que en una página tomada al azar haya alguna errata."
   ]
  },
  {
   "cell_type": "code",
   "execution_count": 98,
   "metadata": {},
   "outputs": [
    {
     "data": {
      "text/plain": [
       "0.5789473684210527"
      ]
     },
     "execution_count": 98,
     "metadata": {},
     "output_type": "execute_result"
    }
   ],
   "source": [
    "p = 1 - 40/95\n",
    "p"
   ]
  },
  {
   "cell_type": "markdown",
   "metadata": {},
   "source": [
    "### Usos de la distribucion de Poisson\n",
    "\n",
    "La distribucion de Poisson tiene la propiedad de que modela el numero de eventos que suceden en un continuo $k$ cuando $\\lambda$ es la *densidad* de eventos, es decir, el numero de eventos por unidad de continuo, siempre y cuando:\n",
    "\n",
    "* El numero de eventos que ocurre en una unidad de tiempo o espacio es constante.\n",
    "\n",
    "* Los eventos ocurren de manera aleatoria e independiente.\n",
    "\n",
    "Por ello es muy util en muchos contextos."
   ]
  },
  {
   "cell_type": "markdown",
   "metadata": {},
   "source": [
    "### Ejercicio\n",
    "\n",
    "Una empresa electrónica observa que el número\n",
    "de componentes que fallan en un cierto aparato antes de cumplir\n",
    "100 horas de funcionamiento es una variable aleatoria de Poisson.\n",
    "Si el número medio de estos fallos es ocho,\n",
    "1. ¿cual es la probabilidad de que falle una componente en 25 horas?;\n",
    "2. ¿y de que fallen no más de dos componentes en 50 horas?;\n",
    "3. ¿cual es la probabilidad de que fallen al menos diez en 125 horas?"
   ]
  },
  {
   "cell_type": "code",
   "execution_count": null,
   "metadata": {
    "collapsed": true
   },
   "outputs": [],
   "source": []
  },
  {
   "cell_type": "markdown",
   "metadata": {},
   "source": [
    "### Ejercicio\n",
    "\n",
    "En un libro de 500 páginas se distribuyen aleatoriamente 300 erratas\n",
    "de imprenta. Hallar la probabilidad de que en una página haya:\n",
    "1. exactamente dos erratas,\n",
    "2. dos o mas erratas."
   ]
  },
  {
   "cell_type": "code",
   "execution_count": 113,
   "metadata": {
    "collapsed": true
   },
   "outputs": [],
   "source": [
    "mi_poisson = stats.poisson(300/500)"
   ]
  },
  {
   "cell_type": "code",
   "execution_count": 114,
   "metadata": {},
   "outputs": [
    {
     "data": {
      "text/plain": [
       "0.098786094496924728"
      ]
     },
     "execution_count": 114,
     "metadata": {},
     "output_type": "execute_result"
    }
   ],
   "source": [
    "mi_poisson.pmf(2)"
   ]
  },
  {
   "cell_type": "code",
   "execution_count": 115,
   "metadata": {},
   "outputs": [
    {
     "data": {
      "text/plain": [
       "0.1219013822495576"
      ]
     },
     "execution_count": 115,
     "metadata": {},
     "output_type": "execute_result"
    }
   ],
   "source": [
    "1 - mi_poisson.cdf(1)"
   ]
  },
  {
   "cell_type": "code",
   "execution_count": null,
   "metadata": {
    "collapsed": true
   },
   "outputs": [],
   "source": []
  }
 ],
 "metadata": {
  "kernelspec": {
   "display_name": "Python 3",
   "language": "python",
   "name": "python3"
  },
  "language_info": {
   "codemirror_mode": {
    "name": "ipython",
    "version": 3
   },
   "file_extension": ".py",
   "mimetype": "text/x-python",
   "name": "python",
   "nbconvert_exporter": "python",
   "pygments_lexer": "ipython3",
   "version": "3.6.3"
  }
 },
 "nbformat": 4,
 "nbformat_minor": 2
}
