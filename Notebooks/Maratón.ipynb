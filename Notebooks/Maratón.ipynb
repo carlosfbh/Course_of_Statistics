{
 "cells": [
  {
   "cell_type": "code",
   "execution_count": 1,
   "metadata": {},
   "outputs": [
    {
     "name": "stdout",
     "output_type": "stream",
     "text": [
      "Populating the interactive namespace from numpy and matplotlib\n"
     ]
    }
   ],
   "source": [
    "%pylab inline"
   ]
  },
  {
   "cell_type": "code",
   "execution_count": 19,
   "metadata": {
    "collapsed": true
   },
   "outputs": [],
   "source": [
    "import pandas as pd\n",
    "df = pd.read_csv('Boston.csv')\n",
    "\n",
    "def extract_samples(gender,year):\n",
    "    return df[(df[\"YEAR\"]==year)&(df[\"GENDER\"]==gender)][\"TIMES\"].values\n",
    "\n",
    "def extract_top_samples(gender,year):\n",
    "    return sorted(df[(df[\"TIMES\"]>7200)&(df[\"YEAR\"]==year)&(df[\"GENDER\"]==gender)][\"TIMES\"].values)[:100]"
   ]
  },
  {
   "cell_type": "code",
   "execution_count": 13,
   "metadata": {
    "collapsed": true
   },
   "outputs": [],
   "source": [
    "samples = extract_samples(\"M\", 2007)"
   ]
  },
  {
   "cell_type": "code",
   "execution_count": 14,
   "metadata": {
    "collapsed": true
   },
   "outputs": [],
   "source": [
    "samples_filtrado = samples[samples > 7200]"
   ]
  },
  {
   "cell_type": "code",
   "execution_count": 15,
   "metadata": {},
   "outputs": [
    {
     "data": {
      "text/plain": [
       "array([ 7378,  8053,  8073, ..., 23342, 23368, 25618], dtype=int64)"
      ]
     },
     "execution_count": 15,
     "metadata": {},
     "output_type": "execute_result"
    }
   ],
   "source": [
    "samples_filtrado"
   ]
  },
  {
   "cell_type": "code",
   "execution_count": 16,
   "metadata": {},
   "outputs": [
    {
     "data": {
      "text/plain": [
       "12375"
      ]
     },
     "execution_count": 16,
     "metadata": {},
     "output_type": "execute_result"
    }
   ],
   "source": [
    "len(samples_filtrado)"
   ]
  },
  {
   "cell_type": "code",
   "execution_count": 5,
   "metadata": {},
   "outputs": [
    {
     "data": {
      "text/plain": [
       "12387"
      ]
     },
     "execution_count": 5,
     "metadata": {},
     "output_type": "execute_result"
    }
   ],
   "source": [
    "len(samples)"
   ]
  },
  {
   "cell_type": "code",
   "execution_count": 10,
   "metadata": {},
   "outputs": [
    {
     "name": "stdout",
     "output_type": "stream",
     "text": [
      "13605.268911\n",
      "13168.0\n",
      "11997.0\n",
      "14753.5\n",
      "5534321.67928\n",
      "2352.51390629\n"
     ]
    }
   ],
   "source": [
    "print(np.mean(samples))\n",
    "print(np.median(samples))\n",
    "print(np.percentile(samples, 25))\n",
    "print(np.percentile(samples, 75))\n",
    "print(np.var(samples))\n",
    "print(np.std(samples))"
   ]
  },
  {
   "cell_type": "code",
   "execution_count": 12,
   "metadata": {},
   "outputs": [
    {
     "data": {
      "image/png": "[encoded data removed]",
      "text/plain": [
       "<matplotlib.figure.Figure at 0x21a0d5070f0>"
      ]
     },
     "metadata": {},
     "output_type": "display_data"
    }
   ],
   "source": [
    "plt.axvline(x=np.mean(samples), c = \"yellow\")\n",
    "plt.axvline(x=np.median(samples), c = \"red\")\n",
    "plt.axvline(x=np.percentile(samples, 25), c = \"red\")\n",
    "plt.axvline(x=np.percentile(samples, 75), c = \"red\")\n",
    "plt.axvline(x=7200, c = \"black\")\n",
    "#plt.axvline(x=np.var(samples), c = \"yellow\")\n",
    "plt.axvline(x=np.std(samples), c = \"yellow\")\n",
    "plt.hist(samples, bins=100)\n",
    "plt.show()"
   ]
  },
  {
   "cell_type": "code",
   "execution_count": 17,
   "metadata": {},
   "outputs": [
    {
     "data": {
      "image/png": "[encoded data removed]",
      "text/plain": [
       "<matplotlib.figure.Figure at 0x21a0e57de10>"
      ]
     },
     "metadata": {},
     "output_type": "display_data"
    }
   ],
   "source": [
    "plt.axvline(x=np.mean(samples_filtrado), c = \"yellow\")\n",
    "plt.axvline(x=np.median(samples_filtrado), c = \"red\")\n",
    "plt.axvline(x=np.percentile(samples_filtrado, 25), c = \"red\")\n",
    "plt.axvline(x=np.percentile(samples_filtrado, 75), c = \"red\")\n",
    "plt.axvline(x=7200, c = \"black\")\n",
    "#plt.axvline(x=np.var(samples_filtrado), c = \"yellow\")\n",
    "plt.axvline(x=np.std(samples_filtrado), c = \"yellow\")\n",
    "plt.hist(samples_filtrado, bins=100)\n",
    "plt.show()"
   ]
  },
  {
   "cell_type": "code",
   "execution_count": null,
   "metadata": {
    "collapsed": true
   },
   "outputs": [],
   "source": [
    "#Calcular media y varianza para hombres y mujeres del top 100 en los años 1971 1993 y 2015"
   ]
  },
  {
   "cell_type": "code",
   "execution_count": 32,
   "metadata": {},
   "outputs": [
    {
     "name": "stdout",
     "output_type": "stream",
     "text": [
      "11858.75\n",
      "961796.4875\n",
      "10653.4423077\n",
      "739586.285133\n",
      "9350.51\n",
      "154092.0699\n",
      "8505.82\n",
      "255079.1076\n",
      "8733.62\n",
      "144743.4756\n"
     ]
    }
   ],
   "source": [
    "for year in [1931, 1951, 1971, 1995, 2015]:\n",
    "    s = extract_top_samples(\"M\", year)\n",
    "    print(np.mean(s))\n",
    "    print(np.var(s))"
   ]
  },
  {
   "cell_type": "code",
   "execution_count": 35,
   "metadata": {},
   "outputs": [
    {
     "name": "stderr",
     "output_type": "stream",
     "text": [
      "C:\\Users\\carlo\\Anaconda3\\lib\\site-packages\\numpy\\core\\fromnumeric.py:2909: RuntimeWarning: Mean of empty slice.\n",
      "  out=out, **kwargs)\n",
      "C:\\Users\\carlo\\Anaconda3\\lib\\site-packages\\numpy\\core\\_methods.py:80: RuntimeWarning: invalid value encountered in double_scalars\n",
      "  ret = ret.dtype.type(ret / rcount)\n",
      "C:\\Users\\carlo\\Anaconda3\\lib\\site-packages\\numpy\\core\\fromnumeric.py:3146: RuntimeWarning: Degrees of freedom <= 0 for slice\n",
      "  **kwargs)\n",
      "C:\\Users\\carlo\\Anaconda3\\lib\\site-packages\\numpy\\core\\_methods.py:105: RuntimeWarning: invalid value encountered in true_divide\n",
      "  arrmean, rcount, out=arrmean, casting='unsafe', subok=False)\n",
      "C:\\Users\\carlo\\Anaconda3\\lib\\site-packages\\numpy\\core\\_methods.py:127: RuntimeWarning: invalid value encountered in double_scalars\n",
      "  ret = ret.dtype.type(ret / rcount)\n"
     ]
    },
    {
     "name": "stdout",
     "output_type": "stream",
     "text": [
      "nan\n",
      "nan\n",
      "nan\n",
      "nan\n",
      "14360.625\n",
      "5921605.98438\n",
      "10397.23\n",
      "734752.7971\n",
      "10139.2\n",
      "282565.14\n"
     ]
    }
   ],
   "source": [
    "for year in [1933, 1953, 1972, 1995, 2015]:\n",
    "    s = extract_top_samples(\"F\", year)\n",
    "    print(np.mean(s))\n",
    "    print(np.var(s))"
   ]
  },
  {
   "cell_type": "code",
   "execution_count": null,
   "metadata": {
    "collapsed": true
   },
   "outputs": [],
   "source": []
  },
  {
   "cell_type": "code",
   "execution_count": null,
   "metadata": {
    "collapsed": true
   },
   "outputs": [],
   "source": []
  }
 ],
 "metadata": {
  "kernelspec": {
   "display_name": "Python 3",
   "language": "python",
   "name": "python3"
  },
  "language_info": {
   "codemirror_mode": {
    "name": "ipython",
    "version": 3
   },
   "file_extension": ".py",
   "mimetype": "text/x-python",
   "name": "python",
   "nbconvert_exporter": "python",
   "pygments_lexer": "ipython3",
   "version": "3.6.3"
  }
 },
 "nbformat": 4,
 "nbformat_minor": 2
}
