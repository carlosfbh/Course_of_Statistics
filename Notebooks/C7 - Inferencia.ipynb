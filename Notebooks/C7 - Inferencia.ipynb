{
 "cells": [
  {
   "cell_type": "code",
   "execution_count": 1,
   "metadata": {},
   "outputs": [],
   "source": [
    "import numpy as np\n",
    "import matplotlib.pyplot as plt\n",
    "%matplotlib inline\n",
    "from scipy import stats\n",
    "import math"
   ]
  },
  {
   "cell_type": "markdown",
   "metadata": {},
   "source": [
    "# Inferencia\n",
    "\n",
    "#https://en.wikipedia.org/wiki/Inference\n",
    "\n",
    "* Estimación puntual. \n",
    "* Estimación por intervalos de confianza. \n"
   ]
  },
  {
   "cell_type": "markdown",
   "metadata": {},
   "source": [
    "## Estimacion puntual\n",
    "\n",
    "Objetivo de la estimación puntual: en función del modelo que estemos aceptando y en función de una muestra concreta $(x_1,x_2, \\cdot \\cdot \\cdot, x_n)$, cual es el valor $\\theta \\in\n",
    "\\Theta $ que nos parece más plausible.\n",
    "\n",
    "### Construcción de estimadores por el método de los momentos. \n",
    "\n",
    "Sea $X$ una población con función de masa\n",
    "$P_\\theta$, o de densidad $f_\\theta$, $\\theta=(\\theta_1, \\theta_2,\n",
    "\\cdot \\cdot \\cdot , \\theta_k) \\in \\Theta$, y $(X_1, X_2, \\cdot\n",
    "\\cdot \\cdot, X_n)$ una muestra aleatoria simple. \n",
    "\n",
    "El estimador de $\\theta$ por el método de los momentos es el formado por los\n",
    "valores $(\\widetilde{\\theta}_1, \\widetilde{\\theta}_2, \\cdot \\cdot\n",
    "\\cdot , \\widetilde{\\theta}_k) $ que se obtiene al resolver en\n",
    "$\\theta_1, \\theta_2, \\cdot \\cdot \\cdot, \\theta_k$ el sistema\n",
    "$$ \\left\\{ \\begin{array}{llll} E_\\theta[X]=\\frac{1}{n}\\sum_{i=1}^n\n",
    "X_i \\\\ E_\\theta[X^2]=\\frac{1}{n}\\sum_{i=1}^n X_i^2 \\\\ \\cdot \\cdot\n",
    "\\cdot \\cdot \\cdot \\\\ E_\\theta[X^k]=\\frac{1}{n}\\sum_{i=1}^n X_i^k\n",
    "\\end{array} \\right. $$\n"
   ]
  },
  {
   "cell_type": "markdown",
   "metadata": {},
   "source": [
    "#### Ejercicio\n",
    "Una población $X$ sigue una exponencial\n",
    "$Exp(\\lambda)$ de parámetro desconocido. Calcular el estimador\n",
    "de $\\theta=\\lambda$ por el método de los momentos.\n",
    "\n",
    "$X$ es continua con función de densidad \n",
    "$$f_\\lambda(x)=\\left\\{\n",
    "\\begin{array}{ll} 0 \\hspace{1cm} \\\\ \\lambda e^{- \\lambda x}\n",
    "\\hspace{0.5cm} \\end{array} \\right. $$"
   ]
  },
  {
   "cell_type": "code",
   "execution_count": 2,
   "metadata": {
    "collapsed": true
   },
   "outputs": [],
   "source": [
    "from sympy import *\n",
    "init_printing()"
   ]
  },
  {
   "cell_type": "code",
   "execution_count": 3,
   "metadata": {
    "collapsed": true
   },
   "outputs": [],
   "source": [
    "l=Symbol(\"lambda\", positive=True,nonzero=True)\n",
    "x=Symbol(\"x\")"
   ]
  },
  {
   "cell_type": "code",
   "execution_count": 5,
   "metadata": {},
   "outputs": [
    {
     "data": {
      "image/png": "[encoded data removed]",
      "text/latex": [
       "$$\\frac{1}{\\lambda} \\left(- \\lambda x - 1\\right) e^{- \\lambda x}$$"
      ],
      "text/plain": [
       "            -λ⋅x\n",
       "(-λ⋅x - 1)⋅ℯ    \n",
       "────────────────\n",
       "       λ        "
      ]
     },
     "execution_count": 5,
     "metadata": {},
     "output_type": "execute_result"
    }
   ],
   "source": [
    "E_formula = integrate(x*l*exp(-l*x),x)\n",
    "E_formula"
   ]
  },
  {
   "cell_type": "code",
   "execution_count": 7,
   "metadata": {},
   "outputs": [],
   "source": [
    "E = limit(E_formula,x,oo)-limit(E_formula,x,0)"
   ]
  },
  {
   "cell_type": "code",
   "execution_count": 8,
   "metadata": {},
   "outputs": [
    {
     "data": {
      "image/png": "[encoded data removed]",
      "text/latex": [
       "$$\\frac{1}{\\lambda}$$"
      ],
      "text/plain": [
       "1\n",
       "─\n",
       "λ"
      ]
     },
     "execution_count": 8,
     "metadata": {},
     "output_type": "execute_result"
    }
   ],
   "source": [
    "E"
   ]
  },
  {
   "cell_type": "code",
   "execution_count": 11,
   "metadata": {
    "collapsed": true
   },
   "outputs": [],
   "source": [
    "sample = np.array([5,7,8,3,5])"
   ]
  },
  {
   "cell_type": "code",
   "execution_count": 12,
   "metadata": {},
   "outputs": [
    {
     "data": {
      "image/png": "[encoded data removed]",
      "text/latex": [
       "$$5.6$$"
      ],
      "text/plain": [
       "5.6"
      ]
     },
     "execution_count": 12,
     "metadata": {},
     "output_type": "execute_result"
    }
   ],
   "source": [
    "np.mean(sample)"
   ]
  },
  {
   "cell_type": "markdown",
   "metadata": {},
   "source": [
    "#### Ejercicio\n",
    "\n",
    "Sea $(X_1,X_2, \\cdot \\cdot\n",
    "\\cdot,X_n)$ una muestra aleatoria de $$f_\\theta (x)=\\left\\{\n",
    "\\begin{array}{ll} 0 \\hspace{1.5cm} x\\leq 0 \\\\ e^{-x+\\theta}\n",
    "\\hspace{0.5cm} x > 0 \\end{array} \\right. \\hspace{1cm} \\theta\n",
    "\\in \\Theta = \\mathbb{R}.$$\n",
    "\n",
    "* Hallar el estimador por el método de los momentos de $\\theta$. \n",
    "* Estudiar si el estimador encontrado en el apartadoanterior es insesgado para estimar el parámetro $\\theta$.\n",
    "\n"
   ]
  },
  {
   "cell_type": "markdown",
   "metadata": {},
   "source": [
    "### Construcción de estimadores por el método de máxima verosimilitud.\n",
    "\n",
    " Sea $X$ una población con función de masa\n",
    "$P_\\theta$, o de densidad $f_\\theta$, $\\theta=(\\theta_1, \\theta_2,\n",
    "\\cdot \\cdot \\cdot , \\theta_k) \\in \\Theta$, y $(X_1, X_2, \\cdot\n",
    "\\cdot \\cdot, X_n)$ una muestra aleatoria simple. El estimador de\n",
    "máxima verosimilitud de $\\theta$ es el formado por los valores\n",
    "$(\\widehat{\\theta}_1,\\widehat{\\theta}_2, \\cdot \\cdot \\cdot\n",
    ",\\widehat{\\theta}_k)$ que maximiza lo que llamamos función de\n",
    "verosimilitud de la muestra $(x_1,x_2, \\cdot \\cdot \\cdot ,x_n)$\n",
    "obtenida\n",
    "\n",
    "$$L(\\theta)=L(\\theta;x_1,x_2, \\cdot \\cdot \\cdot, x_n)=\\left\\{\n",
    "\\begin{array}{ll} P_\\theta (x_1) \\cdot P_\\theta (x_2) \\cdot \\cdot\n",
    "\\cdot P_\\theta (x_n) \\hspace{0.7cm} \\textrm{discreta} \\\\ f_\\theta\n",
    "(x_1) \\cdot f_\\theta (x_2) \\cdot \\cdot \\cdot f_\\theta (x_n)\n",
    "\\hspace{0.7cm} \\textrm{continua} \\end{array} \\right. $$\n"
   ]
  },
  {
   "cell_type": "markdown",
   "metadata": {},
   "source": [
    "#### Ejercicio \n",
    "\n",
    "Un una gran piscifactoría hay una proporción desconocida de  peces de una especia A.\n",
    "  Para obtener información sobre esa proporción, vamos a ir sacando peces al azar.\n",
    "\n",
    "* Si la proporción de peces de la especie A es $p$, ¿cuál es la probabilidad de que el primer pez de la especie A sea el décimo que extraemos? \n",
    "* Tres personas realizan, independientemente unas de otras, el proceso de sacar peces al azar hasta encontrarse con el primero del tipo A:\n",
    "\n",
    "    * La primera persona obtiene el primer pez tipo A en la décima exacción. \n",
    "    * La segunda persona obtiene el primer pez tipo A en la decimoquinta extracción. \n",
    "    * La tercera persona obtiene el primer pez tipo A en la decimoctava extracción.\n",
    "\n",
    "Escribir la función de verosimilitud y obtener la estimación de máxima verosimilitud de $p$.\n"
   ]
  },
  {
   "cell_type": "code",
   "execution_count": 13,
   "metadata": {
    "collapsed": true
   },
   "outputs": [],
   "source": [
    "from sympy import *"
   ]
  },
  {
   "cell_type": "code",
   "execution_count": 14,
   "metadata": {
    "collapsed": true
   },
   "outputs": [],
   "source": [
    "init_printing()"
   ]
  },
  {
   "cell_type": "code",
   "execution_count": 16,
   "metadata": {
    "collapsed": true
   },
   "outputs": [],
   "source": [
    "p = Symbol(\"p\")"
   ]
  },
  {
   "cell_type": "code",
   "execution_count": 17,
   "metadata": {
    "collapsed": true
   },
   "outputs": [],
   "source": [
    "P = p**3*(1-p)**40"
   ]
  },
  {
   "cell_type": "code",
   "execution_count": 18,
   "metadata": {},
   "outputs": [
    {
     "data": {
      "image/png": "[encoded data removed]",
      "text/latex": [
       "$$p^{3} \\left(- p + 1\\right)^{40}$$"
      ],
      "text/plain": [
       " 3         40\n",
       "p ⋅(-p + 1)  "
      ]
     },
     "execution_count": 18,
     "metadata": {},
     "output_type": "execute_result"
    }
   ],
   "source": [
    "P"
   ]
  },
  {
   "cell_type": "code",
   "execution_count": 19,
   "metadata": {},
   "outputs": [
    {
     "data": {
      "image/png": "[encoded data removed]",
      "text/latex": [
       "$$- 40 p^{3} \\left(- p + 1\\right)^{39} + 3 p^{2} \\left(- p + 1\\right)^{40}$$"
      ],
      "text/plain": [
       "      3         39      2         40\n",
       "- 40⋅p ⋅(-p + 1)   + 3⋅p ⋅(-p + 1)  "
      ]
     },
     "execution_count": 19,
     "metadata": {},
     "output_type": "execute_result"
    }
   ],
   "source": [
    "diff(P,p)"
   ]
  },
  {
   "cell_type": "code",
   "execution_count": 20,
   "metadata": {},
   "outputs": [
    {
     "data": {
      "image/png": "[encoded data removed]",
      "text/latex": [
       "$$\\left [ 0, \\quad \\frac{3}{43}, \\quad 1\\right ]$$"
      ],
      "text/plain": [
       "[0, 3/43, 1]"
      ]
     },
     "execution_count": 20,
     "metadata": {},
     "output_type": "execute_result"
    }
   ],
   "source": [
    "solve(diff(P,p),p)"
   ]
  },
  {
   "cell_type": "code",
   "execution_count": 21,
   "metadata": {
    "collapsed": true
   },
   "outputs": [],
   "source": [
    "#Moneda"
   ]
  },
  {
   "cell_type": "code",
   "execution_count": 22,
   "metadata": {
    "collapsed": true
   },
   "outputs": [],
   "source": [
    "P = p**49*(1-p)**51"
   ]
  },
  {
   "cell_type": "code",
   "execution_count": 23,
   "metadata": {},
   "outputs": [
    {
     "data": {
      "image/png": "[encoded data removed]",
      "text/latex": [
       "$$\\left [ 0, \\quad \\frac{49}{100}, \\quad 1\\right ]$$"
      ],
      "text/plain": [
       "⎡    49   ⎤\n",
       "⎢0, ───, 1⎥\n",
       "⎣   100   ⎦"
      ]
     },
     "execution_count": 23,
     "metadata": {},
     "output_type": "execute_result"
    }
   ],
   "source": [
    "solve(diff(P,p),p)"
   ]
  },
  {
   "cell_type": "code",
   "execution_count": null,
   "metadata": {
    "collapsed": true
   },
   "outputs": [],
   "source": []
  },
  {
   "cell_type": "markdown",
   "metadata": {},
   "source": [
    "#### Ejercicio\n",
    "\n",
    "La duración en minutos de un determinado viaje\n",
    "es una variable aleatoria con distribución normal de media\n",
    "desconocida y desviación típica igual a $3$. En una muestra\n",
    "aleatoria de diez realizaciones del viaje en cuestión se\n",
    "obtuvieron los siguientes tiempos\n",
    "$$x_1=10,1 \\;\\; x_2=6,5 \\;\\; x_3=5,5 \\;\\; x_4=7,9 \\;\\; x_5=8,2\n",
    "\\;\\; x_6=6,5$$ $$  x_7=7,0\\;\\; x_8=8,1 \\;\\; x_9=6,9 \\;\\\n",
    "x_{10}=7,7.$$ Se pide:\n",
    "\n",
    "* Estimar por máxima verosimilitud la duración media del viaje.  \n",
    "* Calcular la probabilidad de que, en valor absoluto, la diferencia entre la estimación media estimada y la real sea menor que un minuto.\n"
   ]
  },
  {
   "cell_type": "code",
   "execution_count": 34,
   "metadata": {},
   "outputs": [
    {
     "data": {
      "image/png": "[encoded data removed]",
      "text/latex": [
       "$$\\left ( 2.99999696727, \\quad 1.98534898465\\right )$$"
      ],
      "text/plain": [
       "(2.99999696727, 1.98534898465)"
      ]
     },
     "execution_count": 34,
     "metadata": {},
     "output_type": "execute_result"
    }
   ],
   "source": [
    "data=(3,7)\n",
    "stats.expon.fit(data)"
   ]
  },
  {
   "cell_type": "markdown",
   "metadata": {},
   "source": [
    "#### Ejercicio\n",
    "\n",
    "El parámetro de una distribución de Poisson\n",
    "puede tomar uno de los cuatro valores siguientes: $\\lambda = 4;\\;\n",
    "4,5;\\; 5,5;\\; 6$. Decida cual de ellos puede ser, considerando una\n",
    "muestra aleatoria simple de tamaño dos $(X_1,X_2)$, con\n",
    "realización $(x_1,x_2)=(3,7)$, y basándose en el principio de\n",
    "máxima verosimilitud.\n"
   ]
  },
  {
   "cell_type": "code",
   "execution_count": 30,
   "metadata": {},
   "outputs": [
    {
     "name": "stdout",
     "output_type": "stream",
     "text": [
      "0.0116322109959\n",
      "0.0138961026573\n",
      "0.013989616433\n",
      "0.0122856159239\n"
     ]
    }
   ],
   "source": [
    "l = [4, 4.5, 5.5, 6]\n",
    "\n",
    "for n in l:\n",
    "    mi_poisson = stats.poisson(n)\n",
    "    p3 = mi_poisson.pmf(3)\n",
    "    p7 = mi_poisson.pmf(7)\n",
    "    p = p3 * p7\n",
    "    print(p)"
   ]
  },
  {
   "cell_type": "code",
   "execution_count": 31,
   "metadata": {
    "collapsed": true
   },
   "outputs": [],
   "source": [
    "#El valor máximo es para lambda igual a 5.5"
   ]
  },
  {
   "cell_type": "markdown",
   "metadata": {},
   "source": [
    "#### Ejercicio\n",
    "\n",
    "Vamos a clasificar a las personas de un país según dos características: color de los ojos (claros u oscuros) y sexo (hombre o mujer). Las dos características son independientes.\n",
    "\n",
    "* Obtenemos una muestra al azar de la población con los\n",
    "siguientes resultados\n",
    "\n",
    "    * 200 mujeres con ojos claros. \n",
    "    * 150 hombres con ojosclaros. \n",
    "    * 350 mujeres con ojos oscuros. \n",
    "    * 300 hombres con ojos oscuros.\n",
    "\n",
    "* Obtener la estimación de máxima verosimilitud de\n",
    "\n",
    "    * p= probabilidad de ser hombre. \n",
    "    * q= probabilidad de tener ojos claros.\n",
    "\n",
    "*  Después de muchas horas de intenso trabajo llegamos a\n",
    "saber con exactitud que p=0,4 y q=0,6. Si tomamos 8 personas al\n",
    "azar de ese país, ¿cuál es la probabilidad de encontrar alguna\n",
    "mujer de ojos oscuros? Y si la muestra que tomamos es de 200\n",
    "personas, ¿cuál es la probabilidad de que haya más de 60\n",
    "mujeres de ojos oscuros?"
   ]
  },
  {
   "cell_type": "markdown",
   "metadata": {},
   "source": [
    "\n",
    "#### Ejercicio\n",
    "El error (en centigramos) que se comete al pesar un objeto en una balanza puede considerarse como una variable aleatoria $X$ con distribución $N(0;15)$.\n",
    "\n",
    "* Probabilidad de que el error cometido (en valor absoluto) en\n",
    "una pesada sea inferior a 20 centigramos. \n",
    "* Número mínimo de pesadas para que el error medio cometido (en valor absoluto) sea inferior a 5 centigramos con una probabilidad de 0,9.\n",
    "\n",
    "\n"
   ]
  }
 ],
 "metadata": {
  "kernelspec": {
   "display_name": "Python 3",
   "language": "python",
   "name": "python3"
  },
  "language_info": {
   "codemirror_mode": {
    "name": "ipython",
    "version": 3
   },
   "file_extension": ".py",
   "mimetype": "text/x-python",
   "name": "python",
   "nbconvert_exporter": "python",
   "pygments_lexer": "ipython3",
   "version": "3.6.3"
  }
 },
 "nbformat": 4,
 "nbformat_minor": 1
}
