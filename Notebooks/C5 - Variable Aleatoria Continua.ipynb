{
 "cells": [
  {
   "cell_type": "markdown",
   "metadata": {},
   "source": [
    "# Variables aleatorias continuas\n",
    "\n",
    "Una variable aleatoria es continua si su **recorrido** es un conjunto no numerable.\n",
    "\n",
    "El recorrido de una variable es el conjunto de posibles valores que puede tomar. Por tanto, la variable aleatoria \"importe de la reparacion de la maquina de escribir\" del ejercicio 18 es discreta, porque solo puede tomar valores multiplos de 20, aunque el tiempo de reparacion (el espacio muestral) sea continuo.\n"
   ]
  },
  {
   "cell_type": "markdown",
   "metadata": {},
   "source": [
    "## Ejemplo\n",
    "\n",
    "Para llegar a un centro comercial hay que tomar un tren en una estación\n",
    "A, llegar a otra estación B y luego andar durante 7 minutos hasta el centro comercial.\n",
    "De la estación A a la B, parte un tren cada 20 minutos, y emplea 13 minutos en\n",
    "hacer el trayecto. Realizamos el siguiente experimento aleatorio: elegir una persona\n",
    "al azar, que va al centro comercial, en el momento que llega a la estación A, y medir\n",
    "el tiempo que tarda en llegar al centro comercial.\n",
    "\n",
    "Que valores va a tomar la variable de este experimento aleatorio?"
   ]
  },
  {
   "cell_type": "markdown",
   "metadata": {},
   "source": [
    "## Funcion de densidad\n",
    "\n",
    "Sea $(\\Omega, \\mathcal{A}, P)$ un espacio probabilístico y $X:\\Omega \\longmapsto \\mathbb{R}$ una variable aleatoria continua.\n",
    "\n",
    "Asociada a la variable aleatoria $X$, tenemos una  función $f$, llamada función de densidad de la variable aleatoria, definida en $\\mathbb{R}$ verificando:\n",
    "\n",
    "* $f(x) \\geq 0$, ( $f$ es no negativa).\n",
    "* El área comprendida entre la gráfica de $f$ y el eje $x$ es igual a $1$, $\\left( \\int_{-\\infty}^\\infty f(x)dx=1\\right)$.\n",
    "* Dados dos números reales $a \\leq b$, $$ P[a,b]=P(\\{ \\omega \\in\\Omega: \\; a \\leq  X(\\omega) \\leq b \\})=\\int_a^bf(x)dx$$\n"
   ]
  },
  {
   "cell_type": "markdown",
   "metadata": {},
   "source": [
    "## Ejemplo \n",
    "\n",
    "Consideremos un cierto experimento aleatorio con espacio muestral asociado $\\Omega$. Sea $X: \\Omega \\longmapsto \\mathbb{R}$ un variable aleatoria con función de densidad asociada\n",
    " $$f(x)=\\left\\{ \\begin{array}{lll} k(1+x^2) \\hspace{0.5cm} \\textrm{si } \\; x \\in (0,3) \\\\ 0 \\hspace{1.9cm} \\textrm{si } \\; x \\not\\in (0,3) \\end{array} \\right. $$\n",
    " \n",
    "* Calcular la constante $k$.\n",
    "* Probabilidad de que $X$ esté comprendida entre 1 y 2.\n",
    "* Probabilidad de que $X$ sea menor que 1.\n",
    "* Sabiendo que $X$ es mayor que 1, probabilidad de que sea menor que 2.\n"
   ]
  },
  {
   "cell_type": "code",
   "execution_count": 1,
   "metadata": {
    "collapsed": true
   },
   "outputs": [],
   "source": [
    "from sympy import *"
   ]
  },
  {
   "cell_type": "code",
   "execution_count": 3,
   "metadata": {
    "collapsed": true
   },
   "outputs": [],
   "source": [
    "init_printing()"
   ]
  },
  {
   "cell_type": "code",
   "execution_count": 2,
   "metadata": {
    "collapsed": true
   },
   "outputs": [],
   "source": [
    "k = Symbol(\"k\")\n",
    "x = Symbol(\"x\")"
   ]
  },
  {
   "cell_type": "code",
   "execution_count": 4,
   "metadata": {},
   "outputs": [
    {
     "data": {
      "image/png": "[encoded data removed]",
      "text/latex": [
       "$$k \\left(x^{2} + 1\\right)$$"
      ],
      "text/plain": [
       "  ⎛ 2    ⎞\n",
       "k⋅⎝x  + 1⎠"
      ]
     },
     "execution_count": 4,
     "metadata": {},
     "output_type": "execute_result"
    }
   ],
   "source": [
    "#Función de densidad\n",
    "k*(1+x**2)"
   ]
  },
  {
   "cell_type": "code",
   "execution_count": 6,
   "metadata": {},
   "outputs": [
    {
     "data": {
      "image/png": "[encoded data removed]",
      "text/latex": [
       "$$\\frac{k x^{3}}{3} + k x$$"
      ],
      "text/plain": [
       "   3      \n",
       "k⋅x       \n",
       "──── + k⋅x\n",
       " 3        "
      ]
     },
     "execution_count": 6,
     "metadata": {},
     "output_type": "execute_result"
    }
   ],
   "source": [
    "#Función de distribución\n",
    "eint = integrate(k*(1+x**2),x)\n",
    "eint"
   ]
  },
  {
   "cell_type": "code",
   "execution_count": 7,
   "metadata": {},
   "outputs": [
    {
     "data": {
      "image/png": "[encoded data removed]",
      "text/latex": [
       "$$12 k$$"
      ],
      "text/plain": [
       "12⋅k"
      ]
     },
     "execution_count": 7,
     "metadata": {},
     "output_type": "execute_result"
    }
   ],
   "source": [
    "eint.subs(x,3) - eint.subs(x,0)"
   ]
  },
  {
   "cell_type": "code",
   "execution_count": 8,
   "metadata": {},
   "outputs": [
    {
     "data": {
      "image/png": "[encoded data removed]",
      "text/latex": [
       "$$\\left [ \\frac{1}{12}\\right ]$$"
      ],
      "text/plain": [
       "[1/12]"
      ]
     },
     "execution_count": 8,
     "metadata": {},
     "output_type": "execute_result"
    }
   ],
   "source": [
    "solve(12*k-1,k)"
   ]
  },
  {
   "cell_type": "code",
   "execution_count": null,
   "metadata": {
    "collapsed": true
   },
   "outputs": [],
   "source": []
  },
  {
   "cell_type": "code",
   "execution_count": null,
   "metadata": {
    "collapsed": true
   },
   "outputs": [],
   "source": []
  },
  {
   "cell_type": "markdown",
   "metadata": {},
   "source": [
    "## Funcion de distribucion\n",
    "\n",
    "Sea $(\\Omega, \\mathcal{A}, P)$ un espacio probabilístico y\n",
    "$X:\\Omega \\longmapsto \\mathbb{R}$ una variables aleatoria continua\n",
    "con densidad $f$. Definimos la función de distribución\n",
    "$F_X \\equiv F$ asociada a la variable aleatoria continua $X$ por\n",
    "$$F(x)=P(-\\infty, x]=\\int_{-\\infty}^xf(t)dt$$\n"
   ]
  },
  {
   "cell_type": "markdown",
   "metadata": {},
   "source": [
    "## Medidas de centralidad y dispersion\n",
    "\n",
    "### Media o esperanza\n",
    "\n",
    "Sea $(\\Omega, \\mathcal{A}, P)$ un espacio probabilístico y $X:\\Omega \\longmapsto \\mathbb{R}$ una variable aleatoria continua con densidad $f$. La media o esperanza de la variable aleatoria continua $X$ se define como $$\\mu=E[X]=\\int_{-\\infty}^\\infty xf(x)dx$$\n",
    "\n",
    "### Mediana\n",
    "\n",
    "Sea $(\\Omega, \\mathcal{A},P)$ un espacio probabilístico y $X$ una variable aleatoria continua. La mediana de la variable aleatoria $X$ se define como el valor $M$ que satisface\n",
    "$$F(M)=\\frac{1}{2}$$ donde $F$ es la función de distribución de $X$.\n",
    "\n",
    "### Varianza\n",
    "\n",
    "Sea $(\\Omega, \\mathcal{A},P)$ un espacio probabilístico y $X$ una variable aleatoria continua.  La varianza de la variable aleatoria  $X$ se define como \n",
    "$$\\sigma^2=V(X)=E[(X-E[X])^2]= \\int_{-\\infty}^\\infty (x- \\mu)^2f(x)dx=\\int_{-\\infty}^\\infty x^2f(x)dx -\\mu^2$$"
   ]
  },
  {
   "cell_type": "markdown",
   "metadata": {},
   "source": [
    "### Distribucion uniforme\n",
    "\n",
    "Una variable aleatoria continua tiene una distribución uniforme\n",
    "en un intervalo  $[a,b]$ si su función de densidad viene dada\n",
    "por\n",
    "$$f(x)=\\left\\{ \\begin{array}{ll} \\frac{1}{b-a} \\hspace{0.5cm} x\n",
    "\\in [a,b] \\\\ 0 \\hspace{0.9cm} x \\not\\in [a,b] \\end{array} \\right.\n",
    "$$\n",
    "\n",
    "Esperanza:\n",
    "\n",
    "$$\\frac{b-a}{2}$$\n",
    "\n",
    "Varianza \n",
    "\n",
    "$$\\frac{(b-a)^2}{12}$$"
   ]
  },
  {
   "cell_type": "markdown",
   "metadata": {
    "collapsed": true
   },
   "source": [
    "## Ejercicio \n",
    "\n",
    "Sea una variable aleatoria uniformemente distribuida entre 25 y 40.\n",
    "1. Trace la gráfica de la función de distribución.\n",
    "2. Calcule P(X < 35) y P(22 ≤ X ≤ 38).\n",
    "3. Calcule el valor medio esperado de la variable aleatoria y estime la desviación media de la variable aleatoria de su valor esperado."
   ]
  },
  {
   "cell_type": "code",
   "execution_count": 2,
   "metadata": {},
   "outputs": [
    {
     "name": "stdout",
     "output_type": "stream",
     "text": [
      "Populating the interactive namespace from numpy and matplotlib\n"
     ]
    }
   ],
   "source": [
    "%pylab inline\n",
    "from scipy import stats"
   ]
  },
  {
   "cell_type": "code",
   "execution_count": 27,
   "metadata": {
    "collapsed": true
   },
   "outputs": [],
   "source": [
    "mi_uniforme = stats.uniform(loc = 25, scale = 40 - 25)"
   ]
  },
  {
   "cell_type": "code",
   "execution_count": 29,
   "metadata": {},
   "outputs": [
    {
     "data": {
      "image/png": "[encoded data removed]",
      "text/plain": [
       "<matplotlib.figure.Figure at 0x2934053e898>"
      ]
     },
     "metadata": {},
     "output_type": "display_data"
    }
   ],
   "source": [
    "x = np.linspace(10, 50, 1000)\n",
    "y = list(map(mi_uniforme.pdf, x))\n",
    "plt.plot(x, y)\n",
    "plt.show()"
   ]
  },
  {
   "cell_type": "code",
   "execution_count": 30,
   "metadata": {},
   "outputs": [
    {
     "data": {
      "text/plain": [
       "[<matplotlib.lines.Line2D at 0x29341723ac8>]"
      ]
     },
     "execution_count": 30,
     "metadata": {},
     "output_type": "execute_result"
    },
    {
     "data": {
      "image/png": "[encoded data removed]",
      "text/plain": [
       "<matplotlib.figure.Figure at 0x29340642780>"
      ]
     },
     "metadata": {},
     "output_type": "display_data"
    }
   ],
   "source": [
    "x = np.linspace(10, 50, 1000)\n",
    "y = list(map(mi_uniforme.cdf, x))\n",
    "plt.plot(x, y)"
   ]
  },
  {
   "cell_type": "code",
   "execution_count": 31,
   "metadata": {},
   "outputs": [
    {
     "data": {
      "image/png": "[encoded data removed]",
      "text/latex": [
       "$$0.666666666667$$"
      ],
      "text/plain": [
       "0.666666666667"
      ]
     },
     "execution_count": 31,
     "metadata": {},
     "output_type": "execute_result"
    }
   ],
   "source": [
    "mi_uniforme.cdf(35)"
   ]
  },
  {
   "cell_type": "code",
   "execution_count": 33,
   "metadata": {},
   "outputs": [
    {
     "data": {
      "image/png": "[encoded data removed]",
      "text/latex": [
       "$$0.866666666667$$"
      ],
      "text/plain": [
       "0.866666666667"
      ]
     },
     "execution_count": 33,
     "metadata": {},
     "output_type": "execute_result"
    }
   ],
   "source": [
    "mi_uniforme.cdf(38) - mi_uniforme.cdf(22)"
   ]
  },
  {
   "cell_type": "code",
   "execution_count": 34,
   "metadata": {},
   "outputs": [
    {
     "data": {
      "image/png": "[encoded data removed]",
      "text/latex": [
       "$$32.5$$"
      ],
      "text/plain": [
       "32.5"
      ]
     },
     "execution_count": 34,
     "metadata": {},
     "output_type": "execute_result"
    }
   ],
   "source": [
    "mi_uniforme.mean()"
   ]
  },
  {
   "cell_type": "code",
   "execution_count": 35,
   "metadata": {},
   "outputs": [
    {
     "data": {
      "image/png": "[encoded data removed]",
      "text/latex": [
       "$$4.33012701892$$"
      ],
      "text/plain": [
       "4.33012701892"
      ]
     },
     "execution_count": 35,
     "metadata": {},
     "output_type": "execute_result"
    }
   ],
   "source": [
    "mi_uniforme.std()"
   ]
  },
  {
   "cell_type": "code",
   "execution_count": null,
   "metadata": {
    "collapsed": true
   },
   "outputs": [],
   "source": []
  },
  {
   "cell_type": "code",
   "execution_count": 23,
   "metadata": {
    "collapsed": true
   },
   "outputs": [],
   "source": [
    "otra_uniforme = stats.uniform(loc = 10, scale = 20)"
   ]
  },
  {
   "cell_type": "code",
   "execution_count": 24,
   "metadata": {},
   "outputs": [
    {
     "data": {
      "image/png": "[encoded data removed]",
      "text/plain": [
       "<matplotlib.figure.Figure at 0x2934054c3c8>"
      ]
     },
     "metadata": {},
     "output_type": "display_data"
    }
   ],
   "source": [
    "x = np.linspace(-10, 50, 1000)\n",
    "y = list(map(otra_uniforme.pdf, x))\n",
    "plt.plot(x, y)\n",
    "plt.show()"
   ]
  },
  {
   "cell_type": "code",
   "execution_count": 25,
   "metadata": {},
   "outputs": [
    {
     "data": {
      "image/png": "[encoded data removed]",
      "text/plain": [
       "<matplotlib.figure.Figure at 0x2934050ec50>"
      ]
     },
     "metadata": {},
     "output_type": "display_data"
    }
   ],
   "source": [
    "x = np.linspace(-10, 50, 1000)\n",
    "y = list(map(otra_uniforme.cdf, x))\n",
    "plt.plot(x, y)\n",
    "plt.show()"
   ]
  },
  {
   "cell_type": "code",
   "execution_count": null,
   "metadata": {
    "collapsed": true
   },
   "outputs": [],
   "source": []
  },
  {
   "cell_type": "markdown",
   "metadata": {},
   "source": [
    "### Distribucion exponencial\n",
    "\n",
    "\n",
    "Sea $X$ una variable aleatoria continua, decimos que tiene una\n",
    "distribución exponencial de parámetro $\\lambda >0$  si su\n",
    "función de densidad viene dada por \n",
    "\n",
    "$$f(x)=\\left\\{\n",
    "\\begin{array}{ll} \\lambda e^{-\\lambda x} \\hspace{0.5cm} x \\geq 0\n",
    "\\\\ 0 \\hspace{1.3cm} x<0 \\end{array} \\right. $$\n",
    "\n",
    "Si $x<0$, la función de distribución $F(x)=0$ ya que $f(x)=0$.\n",
    "\n",
    "Si $x \\geq 0$ entonces\n",
    "$$F(x)=\\int_{-\\infty}^x f(t) dt=\\int_{-\\infty}^0 f(t) dt+\\int_{0}^x f(t)\n",
    "=\\int_{a}^x  \\lambda e^{-\\lambda x}  dt=1- e^{-\\lambda x}.$$ por\n",
    "tanto\n",
    "$$F(x)=\\left\\{ \\begin{array}{ll} 0 \\hspace{1.8cm} x<0 \\\\\n",
    "1- e^{-\\lambda x} \\hspace{0.5cm} x \\geq 0\n",
    "\\end{array} \\right. $$\n",
    "\n",
    "Esperanza:\n",
    "\n",
    "$$E[X]=\\frac{1}{\\lambda}$$\n",
    "\n",
    "Varianza:\n",
    "\n",
    "$$V(X)=\\frac{1}{\\lambda^2}$$"
   ]
  },
  {
   "cell_type": "markdown",
   "metadata": {},
   "source": [
    "## Ejercicio \n",
    "\n",
    "El tiempo de reparación de unas máquinas de escribir\n",
    "sigue una distribución exponencial, con media de 22 minutos.\n",
    "1. Hallar la probabilidad de que el tiempo de reparación sea menor que 10 minutos.\n",
    "2. El costo de la reparación es de 20 euros por cada media hora o fracción. ¿Cuál\n",
    "es la probabilidad de que una reparación cueste 40 euros?\n",
    "3. Para efectuar una programación, ¿cuánto tiempo se debe asignar a\n",
    "cada reparación para que la probabilidad de que cualquier tiempo de\n",
    "reparación mayor que el tiempo asignado sea solo de 1/10"
   ]
  },
  {
   "cell_type": "code",
   "execution_count": 36,
   "metadata": {
    "collapsed": true
   },
   "outputs": [],
   "source": [
    "# # La variable es el tiempo de reparación\n",
    "# Reconocer la distribución, es una exponencial"
   ]
  },
  {
   "cell_type": "code",
   "execution_count": 37,
   "metadata": {
    "collapsed": true
   },
   "outputs": [],
   "source": [
    "#P(x<10)\n",
    "mi_expon = stats.expon(scale = 22)"
   ]
  },
  {
   "cell_type": "code",
   "execution_count": 41,
   "metadata": {},
   "outputs": [
    {
     "data": {
      "image/png": "[encoded data removed]",
      "text/plain": [
       "<matplotlib.figure.Figure at 0x2934072d668>"
      ]
     },
     "metadata": {},
     "output_type": "display_data"
    }
   ],
   "source": [
    "x = np.linspace(0, 150, 1000)\n",
    "y = list(map(mi_expon.pdf, x))\n",
    "plt.plot(x, y)\n",
    "plt.show()"
   ]
  },
  {
   "cell_type": "code",
   "execution_count": 46,
   "metadata": {},
   "outputs": [
    {
     "data": {
      "image/png": "[encoded data removed]",
      "text/plain": [
       "<matplotlib.figure.Figure at 0x2933ffb8978>"
      ]
     },
     "metadata": {},
     "output_type": "display_data"
    }
   ],
   "source": [
    "x = np.linspace(0, 150, 1000)\n",
    "y = list(map(mi_expon.pdf, x))\n",
    "plt.plot(x, y)\n",
    "\n",
    "xp = list(np.linspace(-50, 10, 1000))\n",
    "yp = list(map(mi_expon.pdf, xp))\n",
    "plt.fill_between(x = xp, y1 = yp)\n",
    "plt.show()"
   ]
  },
  {
   "cell_type": "code",
   "execution_count": 47,
   "metadata": {},
   "outputs": [
    {
     "name": "stdout",
     "output_type": "stream",
     "text": [
      "36.53 %\n"
     ]
    }
   ],
   "source": [
    "result = 100 * mi_expon.cdf(10)\n",
    "print(\"%.2f %s\" %(result, \"%\"))"
   ]
  },
  {
   "cell_type": "code",
   "execution_count": 52,
   "metadata": {},
   "outputs": [
    {
     "data": {
      "image/png": "[encoded data removed]",
      "text/plain": [
       "<matplotlib.figure.Figure at 0x29340491898>"
      ]
     },
     "metadata": {},
     "output_type": "display_data"
    },
    {
     "name": "stdout",
     "output_type": "stream",
     "text": [
      "La probabilidad es de 19.03 %\n"
     ]
    }
   ],
   "source": [
    "# Que el coste de reparación sea 40 euros quiere decir es que la reparación ha durado entre 30 minutos y 60 minutos\n",
    "x = np.linspace(0, 150, 1000)\n",
    "y = list(map(mi_expon.pdf, x))\n",
    "plt.plot(x, y)\n",
    "\n",
    "xp = list(np.linspace(30, 60, 1000))\n",
    "yp = list(map(mi_expon.pdf, xp))\n",
    "plt.fill_between(x = xp, y1 = yp)\n",
    "plt.show()\n",
    "\n",
    "result = 100 * (mi_expon.cdf(60) - mi_expon.cdf(30))\n",
    "print(\"La probabilidad es de %.2f %s\" %(result, \"%\"))"
   ]
  },
  {
   "cell_type": "markdown",
   "metadata": {
    "collapsed": true
   },
   "source": [
    "## Ejercicio\n",
    "\n",
    "Se ha comprobado que el tiempo de vida de cierto tipo \n",
    "de marcapasos sigue una distribución exponencial con media de 16 años.\n",
    "1. ¿Cuál es la probabilidad de que a una persona a la que se le ha\n",
    "implantado este marcapasos se le tenga que implantar otro antes de 20 años?\n",
    "2. Si el marcapasos lleva funcionando correctamente 5 años en un paciente,\n",
    "¿cuál es la probabilidad de que haya que cambiarlo antes de 25 años?"
   ]
  },
  {
   "cell_type": "code",
   "execution_count": null,
   "metadata": {
    "collapsed": true
   },
   "outputs": [],
   "source": [
    "# La variable es el tiempo de vida\n",
    "# Reconocer la distribución, es una exponencial"
   ]
  },
  {
   "cell_type": "code",
   "execution_count": 53,
   "metadata": {
    "collapsed": true
   },
   "outputs": [],
   "source": [
    "mi_expon = stats.expon(scale = 16)"
   ]
  },
  {
   "cell_type": "code",
   "execution_count": 60,
   "metadata": {},
   "outputs": [
    {
     "data": {
      "image/png": "[encoded data removed]",
      "text/plain": [
       "<matplotlib.figure.Figure at 0x2934000ca20>"
      ]
     },
     "metadata": {},
     "output_type": "display_data"
    },
    {
     "name": "stdout",
     "output_type": "stream",
     "text": [
      "La probabilidad es de 71.35 %\n"
     ]
    }
   ],
   "source": [
    "x = np.linspace(0, 150, 1000)\n",
    "y = list(map(mi_expon.pdf, x))\n",
    "plt.plot(x, y)\n",
    "\n",
    "xp = list(np.linspace(-20, 20, 1000))\n",
    "yp = list(map(mi_expon.pdf, xp))\n",
    "plt.fill_between(x = xp, y1 = yp)\n",
    "plt.show()\n",
    "\n",
    "result = 100 *(mi_expon.cdf(20))\n",
    "print(\"La probabilidad es de %.2f %s\" %(result, \"%\"))"
   ]
  },
  {
   "cell_type": "code",
   "execution_count": 61,
   "metadata": {},
   "outputs": [
    {
     "data": {
      "image/png": "[encoded data removed]",
      "text/plain": [
       "<matplotlib.figure.Figure at 0x2934064b128>"
      ]
     },
     "metadata": {},
     "output_type": "display_data"
    },
    {
     "name": "stdout",
     "output_type": "stream",
     "text": [
      "La probabilidad es de 52.20 %\n"
     ]
    }
   ],
   "source": [
    "x = np.linspace(0, 150, 1000)\n",
    "y = list(map(mi_expon.pdf, x))\n",
    "plt.plot(x, y)\n",
    "\n",
    "xp = list(np.linspace(5, 25, 1000))\n",
    "yp = list(map(mi_expon.pdf, xp))\n",
    "plt.fill_between(x = xp, y1 = yp)\n",
    "plt.show()\n",
    "\n",
    "result = 100 * (mi_expon.cdf(25) - mi_expon.cdf(5))\n",
    "print(\"La probabilidad es de %.2f %s\" %(result, \"%\"))"
   ]
  },
  {
   "cell_type": "markdown",
   "metadata": {},
   "source": [
    "### Distribucion normal o de Gauss\n",
    "\n",
    "Sea $X$ una variable aleatoria continua, decimos que tiene una\n",
    "distribución normal o de Gauss si la función de densidad es\n",
    "$$f(x)=\\frac{1}{\\sigma \\sqrt{2 \\pi}}e^{-\\frac{(x-\\mu)^2}{2\n",
    "\\sigma^2}},$$ donde $\\mu $ y $\\sigma >0$ son parámetros de la\n",
    "distribución. La gráfica de $f$ es la conocida campana de\n",
    "Gauss con un máximo situado en $x=\\mu$ y dos puntos de\n",
    "inflexión en $x=\\mu \\pm \\sigma$."
   ]
  },
  {
   "cell_type": "markdown",
   "metadata": {},
   "source": [
    "Si la variable aleatoria $X$ sigue una distribución $N(0,1)$, en cada uno de los casos siguientes, determine el valor de $c$ que hace verdadero el enunciado de probabilidad.\n",
    "\n",
    "\n",
    "* $P(|X| \\leq c )=0.95, \\hspace{0.8cm} \\underline{Solución} c=$\n",
    "* $P(|X| \\leq c )=0.99, \\hspace{0.8cm} \\underline{Solución} c=$\n",
    "* $P(X \\leq c )=0.05, \\hspace{0.8cm} \\underline{Solución} c=$"
   ]
  },
  {
   "cell_type": "markdown",
   "metadata": {},
   "source": [
    "## Ejercicio \n",
    "\n",
    "El gerente de personal de una gran compañía\n",
    "requiere que los solicitantes a un puesto efectúen cierta \n",
    "prueba y alcancen una calificación de 500. Si las calificaciones\n",
    "de la prueba se distribuyen normalmente con media 485 y desviación\n",
    "30, qué porcentaje de los solicitantes pasará la prueba?"
   ]
  },
  {
   "cell_type": "markdown",
   "metadata": {},
   "source": [
    "## Ejercicio 31\n",
    "\n",
    "La dureza de Rockwell, (método para determinar la resistencia de un\n",
    "material a ser penetrado), de una aleación particular se distribuye normalmente con\n",
    "media de 70 y desviación de 4.\n",
    "1. Si un material se acepta solo si su dureza está entre 62 y 72, cuál es la probabilidad\n",
    "de que un material elegido al azar tenga una dureza aceptable?\n",
    "2. Si el intervalo aceptable de dureza es (70 − c, 70 + c), para qué valores de c el\n",
    "95 % de los materiales tendrían una dureza aceptable?\n",
    "3. En el caso de que el intervalo de dureza aceptable es el dado en el apartado\n",
    "1, y la dureza de cada uno de 9 materiales seleccionados al azar se determina\n",
    "en forma independiente, cuál es el número esperado de materiales aceptables\n",
    "entre los 9 elegidos al azar?"
   ]
  },
  {
   "cell_type": "code",
   "execution_count": 3,
   "metadata": {
    "collapsed": true
   },
   "outputs": [],
   "source": [
    "mi_normal = stats.norm(70, 4)"
   ]
  },
  {
   "cell_type": "code",
   "execution_count": 8,
   "metadata": {},
   "outputs": [
    {
     "data": {
      "image/png": "[encoded data removed]",
      "text/plain": [
       "<matplotlib.figure.Figure at 0x21f5afcb208>"
      ]
     },
     "metadata": {},
     "output_type": "display_data"
    },
    {
     "name": "stdout",
     "output_type": "stream",
     "text": [
      "La probabilidad es de 66.87 %\n"
     ]
    }
   ],
   "source": [
    "x = np.linspace(45, 90, 1000)\n",
    "y = list(map(mi_normal.pdf, x))\n",
    "plt.plot(x, y)\n",
    "\n",
    "xp = list(np.linspace(62, 72, 1000))\n",
    "yp = list(map(mi_normal.pdf, xp))\n",
    "plt.fill_between(x = xp, y1 = yp)\n",
    "plt.show()\n",
    "\n",
    "result = 100 *(mi_normal.cdf(72) - mi_normal.cdf(62))\n",
    "print(\"La probabilidad es de %.2f %s\" %(result, \"%\"))"
   ]
  },
  {
   "cell_type": "code",
   "execution_count": null,
   "metadata": {
    "collapsed": true
   },
   "outputs": [],
   "source": []
  },
  {
   "cell_type": "code",
   "execution_count": null,
   "metadata": {
    "collapsed": true
   },
   "outputs": [],
   "source": []
  },
  {
   "cell_type": "markdown",
   "metadata": {},
   "source": [
    "## Teorema central del limite\n",
    "\n",
    "\n",
    "En muchas situaciones prácticas nos vamos a tener sumar *muchas* variables aleatorias. Esto no es fácil, salvo que sepamos qué distribución sigue la suma de las variables aleatorias. El teorema del límite central, nos dice, que en condiciones muy generales, la suma de estas *muchas* variables aleatorias puede ser aproximada por una variable aleatoria que sigue una distribución normal. Para reflejar este hecho, damos el teorema de **Levy-Linderberg**, que es una versión sencilla del teorema del límite central.\n",
    "\n",
    "Sea $(\\Omega, \\mathcal{A}, P)$ un espacio\n",
    "probabilístico y \n",
    "\n",
    "$$X_i: \\Omega \\longmapsto \\mathbb{R}, \\hspace{1cm} i=1,2, \\cdot \\cdot \\cdot,n,$$ \n",
    "\n",
    "$n$ variables aleatorias independientes y satisfaciendo\n",
    "\n",
    "$$E[X_i]=\\mu, \\hspace{0.6cm} V(X_i)=\\sigma^2, \\hspace{1cm} i=1,2, \\cdot \\cdot \\cdot,n.$$\n",
    "\n",
    "Si $n$ es \"grande\"\n",
    "\n",
    "$$X_1+X_2+ \\cdot \\cdot \\cdot +X_n=\\sum_{i=1}^nX_i \\approx N(n \\mu, \\sqrt{n}\\sigma).$$\n",
    "\n"
   ]
  },
  {
   "cell_type": "markdown",
   "metadata": {},
   "source": [
    "## Ejercicio  \n",
    "\n",
    "### Vamos a calcularlo de dos maneras: aplicando primero el teorema central del limite y luego lo vamos a hacer numericamente, para comprobar que se cumple.\n",
    "\n",
    "Las ventas diarias de una empresa siguen una\n",
    "distribución uniforme entre 300 y 600 euros. Suponiendo\n",
    "independientes las ventas de los distintos días del año,\n",
    "calcular la probabilidad de que el volumen de ventas anual\n",
    "supere los 138.000 euros, si la empresa trabaja 300 días al año."
   ]
  },
  {
   "cell_type": "code",
   "execution_count": 13,
   "metadata": {
    "collapsed": true
   },
   "outputs": [],
   "source": [
    "#Ventas en un día\n",
    "mi_uniform = stats.uniform(loc = 300, scale = 600 - 300)"
   ]
  },
  {
   "cell_type": "code",
   "execution_count": 14,
   "metadata": {},
   "outputs": [
    {
     "data": {
      "text/plain": [
       "0.33333333333333331"
      ]
     },
     "execution_count": 14,
     "metadata": {},
     "output_type": "execute_result"
    }
   ],
   "source": [
    "#P(400 < x < 500)\n",
    "mi_uniform.cdf(500) - mi_uniform.cdf(400)"
   ]
  },
  {
   "cell_type": "code",
   "execution_count": 19,
   "metadata": {
    "collapsed": true
   },
   "outputs": [],
   "source": [
    "#Ventas en un año\n",
    "import math\n",
    "n = 300\n",
    "anual_normal = stats.norm(n * mi_uniform.mean(), math.sqrt(n) * mi_uniform.std())"
   ]
  },
  {
   "cell_type": "code",
   "execution_count": 29,
   "metadata": {},
   "outputs": [
    {
     "data": {
      "image/png": "[encoded data removed]",
      "text/plain": [
       "<matplotlib.figure.Figure at 0x21f5c5a6cc0>"
      ]
     },
     "metadata": {},
     "output_type": "display_data"
    },
    {
     "name": "stdout",
     "output_type": "stream",
     "text": [
      "La probabilidad es de 2.28 %\n"
     ]
    }
   ],
   "source": [
    "x = np.linspace(125000, 150000, 1000)\n",
    "y = list(map(anual_normal.pdf, x))\n",
    "plt.plot(x, y)\n",
    "\n",
    "xp = list(np.linspace(138000, 150000, 1000))\n",
    "yp = list(map(anual_normal.pdf, xp))\n",
    "plt.fill_between(x = xp, y1 = yp)\n",
    "plt.show()\n",
    "\n",
    "result = 100 * (1 - mi_normal.cdf(138000))\n",
    "print(\"La probabilidad es de %.2f %s\" %(result, \"%\"))"
   ]
  },
  {
   "cell_type": "markdown",
   "metadata": {},
   "source": [
    "## Ejercicios"
   ]
  },
  {
   "cell_type": "markdown",
   "metadata": {
    "collapsed": true
   },
   "source": [
    "## Ejercicio  \n",
    "\n",
    "Una prueba consta de 200 preguntas de verdadero o falso, para un\n",
    "alumno que responde al azar.\n",
    "1. ¿Cuál es la probabilidad de que acierte como máximo 50 preguntas?\n",
    "2. ¿Cuál es la probabilidad de que acierte más de 50 y menos de 100 preguntas?\n",
    "3. ¿Cuál es la probabilidad de que acierte más 120 preguntas?"
   ]
  },
  {
   "cell_type": "code",
   "execution_count": 11,
   "metadata": {},
   "outputs": [
    {
     "name": "stdout",
     "output_type": "stream",
     "text": [
      "0.00 %\n"
     ]
    }
   ],
   "source": [
    "p = 0.5\n",
    "n = 200\n",
    "mi_binomial = stats.binom(n,p)\n",
    "result = 100 * mi_binomial.cdf(50)\n",
    "print(\"%.2f %s\" %(result, \"%\"))"
   ]
  },
  {
   "cell_type": "code",
   "execution_count": 12,
   "metadata": {},
   "outputs": [
    {
     "name": "stdout",
     "output_type": "stream",
     "text": [
      "52.82 %\n"
     ]
    }
   ],
   "source": [
    "result = 100 * (mi_binomial.cdf(100) - mi_binomial.cdf(50))\n",
    "print(\"%.2f %s\" %(result, \"%\"))"
   ]
  },
  {
   "cell_type": "code",
   "execution_count": 13,
   "metadata": {},
   "outputs": [
    {
     "name": "stdout",
     "output_type": "stream",
     "text": [
      "0.18 %\n"
     ]
    }
   ],
   "source": [
    "result = 100 * (1 - mi_binomial.cdf(120))\n",
    "print(\"%.2f %s\" %(result, \"%\"))"
   ]
  },
  {
   "cell_type": "code",
   "execution_count": 15,
   "metadata": {},
   "outputs": [
    {
     "data": {
      "image/png": "[encoded data removed]",
      "text/plain": [
       "<matplotlib.figure.Figure at 0x1a33fed2898>"
      ]
     },
     "metadata": {},
     "output_type": "display_data"
    }
   ],
   "source": [
    "n = np.arange(0, 200)\n",
    "p = list(map(mi_binomial.pmf, n))\n",
    "plt.plot(n, p)\n",
    "plt.show()"
   ]
  },
  {
   "cell_type": "code",
   "execution_count": 20,
   "metadata": {
    "collapsed": true
   },
   "outputs": [],
   "source": [
    "# Vemos que es una normal, por lo que podemos hacerla con el TCL\n",
    "import math\n",
    "n = 200\n",
    "p = 1/2\n",
    "mi_normal = stats.norm(n * p, math.sqrt(n * p * (1-p)))"
   ]
  },
  {
   "cell_type": "code",
   "execution_count": 27,
   "metadata": {},
   "outputs": [
    {
     "data": {
      "image/png": "[encoded data removed]",
      "text/plain": [
       "<matplotlib.figure.Figure at 0x1a3417b3390>"
      ]
     },
     "metadata": {},
     "output_type": "display_data"
    },
    {
     "name": "stdout",
     "output_type": "stream",
     "text": [
      "La probabilidad es de 0.00 %\n"
     ]
    }
   ],
   "source": [
    "x = np.linspace(0, 200, 1000)\n",
    "y = list(map(mi_normal.pdf, x))\n",
    "plt.plot(x, y)\n",
    "\n",
    "xp = list(np.linspace(0, 50, 1000))\n",
    "yp = list(map(mi_normal.pdf, xp))\n",
    "plt.fill_between(x = xp, y1 = yp)\n",
    "plt.show()\n",
    "\n",
    "result = 100 * (mi_normal.cdf(50))\n",
    "print(\"La probabilidad es de %.2f %s\" %(result, \"%\"))"
   ]
  },
  {
   "cell_type": "code",
   "execution_count": 28,
   "metadata": {},
   "outputs": [
    {
     "data": {
      "image/png": "[encoded data removed]",
      "text/plain": [
       "<matplotlib.figure.Figure at 0x1a3415f9470>"
      ]
     },
     "metadata": {},
     "output_type": "display_data"
    },
    {
     "name": "stdout",
     "output_type": "stream",
     "text": [
      "La probabilidad es de 50.00 %\n"
     ]
    }
   ],
   "source": [
    "x = np.linspace(0, 200, 1000)\n",
    "y = list(map(mi_normal.pdf, x))\n",
    "plt.plot(x, y)\n",
    "\n",
    "xp = list(np.linspace(50, 100, 1000))\n",
    "yp = list(map(mi_normal.pdf, xp))\n",
    "plt.fill_between(x = xp, y1 = yp)\n",
    "plt.show()\n",
    "\n",
    "result = 100 * (mi_normal.cdf(100) - mi_normal.cdf(50))\n",
    "print(\"La probabilidad es de %.2f %s\" %(result, \"%\"))"
   ]
  },
  {
   "cell_type": "code",
   "execution_count": 29,
   "metadata": {},
   "outputs": [
    {
     "data": {
      "image/png": "[encoded data removed]",
      "text/plain": [
       "<matplotlib.figure.Figure at 0x1a34060be80>"
      ]
     },
     "metadata": {},
     "output_type": "display_data"
    },
    {
     "name": "stdout",
     "output_type": "stream",
     "text": [
      "La probabilidad es de 0.23 %\n"
     ]
    }
   ],
   "source": [
    "x = np.linspace(0, 200, 1000)\n",
    "y = list(map(mi_normal.pdf, x))\n",
    "plt.plot(x, y)\n",
    "\n",
    "xp = list(np.linspace(120, 200, 1000))\n",
    "yp = list(map(mi_normal.pdf, xp))\n",
    "plt.fill_between(x = xp, y1 = yp)\n",
    "plt.show()\n",
    "\n",
    "result = 100 * (1 - mi_normal.cdf(120))\n",
    "print(\"La probabilidad es de %.2f %s\" %(result, \"%\"))"
   ]
  },
  {
   "cell_type": "markdown",
   "metadata": {
    "collapsed": true
   },
   "source": [
    "## Ejercicio \n",
    "\n",
    "Una máquina automática, dedicada a la fabricación de un tipo especial\n",
    "de tornillo, produce defectuosos a razón de 1 %.\n",
    "1. Si cada 25 tornillos se colocan en un tubo, ¿cuál es la probabilidad de que un\n",
    "tubo no tenga ningún tornillo defectuoso?\n",
    "2. Si cada 10 tubos se colocan en una caja, ¿cuál es la probabilidad de que una\n",
    "caja contenga los 10 tubos con ningún tornillo defectuoso?"
   ]
  },
  {
   "cell_type": "code",
   "execution_count": 7,
   "metadata": {},
   "outputs": [
    {
     "name": "stdout",
     "output_type": "stream",
     "text": [
      "La probabilidad es de 77.78 %\n"
     ]
    }
   ],
   "source": [
    "p = 0.01\n",
    "n = 25\n",
    "mi_binomial = stats.binom(n,p)\n",
    "result = 100 * mi_binomial.pmf(0)\n",
    "print(\"La probabilidad es de %.2f %s\" %(result, \"%\"))"
   ]
  },
  {
   "cell_type": "code",
   "execution_count": 10,
   "metadata": {},
   "outputs": [
    {
     "name": "stdout",
     "output_type": "stream",
     "text": [
      "La probabilidad es de 8.21 %\n"
     ]
    }
   ],
   "source": [
    "p = 0.01\n",
    "n = 250\n",
    "mi_poisson = stats.poisson(n*p)\n",
    "result = 100 * mi_poisson.pmf(0)\n",
    "print(\"La probabilidad es de %.2f %s\" %(result, \"%\"))"
   ]
  },
  {
   "cell_type": "markdown",
   "metadata": {
    "collapsed": true
   },
   "source": [
    "## Ejercicio \n",
    "\n",
    "En una empresa de productos lácteos hay dos máquinas embotelladoras\n",
    "M1 y M2 que trabajan en paralelo y de forma independiente. El tiempo, en\n",
    "segundos, que tarda cada una de ellas en embotellar una unidad sigue una distribución\n",
    "normal. La máquina M1 sigue una N(2, 0.4) y la máquina M2 una N(1.8, 0.3).\n",
    "Se pide:\n",
    "1. Calcular la probabilidad de que la primera unidad embotellada haya salido de\n",
    "la máquina M2, sabiendo que ha salido en menos de 1.9 segundos.\n",
    "2. Si cada una de las máquinas embotella 20 unidades, ¿cuál es la probabilidad\n",
    "de que las 40 unidades estén embotelladas en menos de 38 segundos?"
   ]
  },
  {
   "cell_type": "code",
   "execution_count": 35,
   "metadata": {
    "collapsed": true
   },
   "outputs": [],
   "source": [
    "M1 = stats.norm(2, 0.4)\n",
    "M2 = stats.norm(1.8, 0.3)"
   ]
  },
  {
   "cell_type": "markdown",
   "metadata": {},
   "source": [
    "A : La primera botella sale en menos de 1.9 segundos.\n",
    "\n",
    "P(M2|A) = P(A|M2) * P(M2) / P(A|M1) * P(M1) + P(A|M2) * P(M2)"
   ]
  },
  {
   "cell_type": "code",
   "execution_count": 38,
   "metadata": {},
   "outputs": [
    {
     "name": "stdout",
     "output_type": "stream",
     "text": [
      "0.401293674317 0.630558659818\n"
     ]
    }
   ],
   "source": [
    "# P(A|M1) y P(A|M2)\n",
    "print(M1.cdf(1.9), M2.cdf(1.9))"
   ]
  },
  {
   "cell_type": "markdown",
   "metadata": {},
   "source": [
    "M1 es la probabilidad de que salga antes de la máquina 1 que de la máquina 2.\n",
    "P(M1 <= M2) = P(M1-M2 <= 0)\n",
    "P(M1 - M2) = N(2 - 1.8, sqrt(0.4^2 + 0.3^2)"
   ]
  },
  {
   "cell_type": "code",
   "execution_count": 40,
   "metadata": {},
   "outputs": [
    {
     "data": {
      "text/plain": [
       "0.34457825838967587"
      ]
     },
     "execution_count": 40,
     "metadata": {},
     "output_type": "execute_result"
    }
   ],
   "source": [
    "import math\n",
    "diffM1M2 = stats.norm(2-1.8, math.sqrt(0.4**2 + 0.3**2))\n",
    "diffM1M2.cdf(0)"
   ]
  },
  {
   "cell_type": "markdown",
   "metadata": {},
   "source": [
    "M2 es la probabilidad de que salga antes de la máquina 2 que de la máquina 1. Es el contrario a la probabilidad calculada antes"
   ]
  },
  {
   "cell_type": "code",
   "execution_count": 41,
   "metadata": {},
   "outputs": [
    {
     "data": {
      "text/plain": [
       "0.65542174161032407"
      ]
     },
     "execution_count": 41,
     "metadata": {},
     "output_type": "execute_result"
    }
   ],
   "source": [
    "1 - diffM1M2.cdf(0)"
   ]
  },
  {
   "cell_type": "code",
   "execution_count": 42,
   "metadata": {},
   "outputs": [
    {
     "name": "stdout",
     "output_type": "stream",
     "text": [
      "La probabilidad es de 74.93 %\n"
     ]
    }
   ],
   "source": [
    "result = 100 * (M2.cdf(1.9) * (1-diffM1M2.cdf(0))) / ((M1.cdf(1.9) * diffM1M2.cdf(0)) + (M2.cdf(1.9) * (1-diffM1M2.cdf(0))))\n",
    "print(\"La probabilidad es de %.2f %s\" %(result, \"%\"))"
   ]
  },
  {
   "cell_type": "markdown",
   "metadata": {},
   "source": [
    "Los segundos que tarda cada máquina en embotellar 20 unidades sigue una distribución normal\n",
    "M1 = N(2 x 20, 0.4 x sqrt(20))\n",
    "M2 = N(1.8 x 20, 0.3 x sqrt(20))"
   ]
  },
  {
   "cell_type": "code",
   "execution_count": 45,
   "metadata": {},
   "outputs": [],
   "source": [
    "M1 = stats.norm(2 * 20, 0.4 * sqrt(20))\n",
    "M2 = stats.norm(1.8 * 20, 0.3 * sqrt(20))"
   ]
  },
  {
   "cell_type": "code",
   "execution_count": 46,
   "metadata": {},
   "outputs": [
    {
     "name": "stdout",
     "output_type": "stream",
     "text": [
      "La probabilidad es de 12.28 %\n"
     ]
    }
   ],
   "source": [
    "result = 100 * M1.cdf(38) * M2.cdf(38)\n",
    "print(\"La probabilidad es de %.2f %s\" %(result, \"%\"))"
   ]
  },
  {
   "cell_type": "markdown",
   "metadata": {
    "collapsed": true
   },
   "source": [
    "## Ejercicio \n",
    "\n",
    "Un telar experimenta una rotura aproximadamente cada 10 horas. Se\n",
    "está produciendo un estilo particular de tela que requiere 25 horas de trabajo. Si con\n",
    "tres o más roturas el producto no es satisfactorio, encuentre la probabilidad de que\n",
    "la tela se termine con calidad aceptable."
   ]
  },
  {
   "cell_type": "markdown",
   "metadata": {
    "collapsed": true
   },
   "source": [
    "## Ejercicio \n",
    "\n",
    "Un libro de matemáticas tiene 200 páginas, en las que pueden haber\n",
    "errores tipográficos en las ecuaciones. Si hay cinco errores dispersos de manera aleatoria\n",
    "entre las 200 hojas, cuál es la probabilidad de que en una muestra aleatoria de\n",
    "50 páginas se encuentre al menos un error? Cómo de be ser el tamaño de la muestra\n",
    "aleatoria para poder asegurar que al menos tres errores se encontrarán con una\n",
    "probabilidad de 90 %?"
   ]
  },
  {
   "cell_type": "code",
   "execution_count": null,
   "metadata": {
    "collapsed": true
   },
   "outputs": [],
   "source": []
  }
 ],
 "metadata": {
  "kernelspec": {
   "display_name": "Python 3",
   "language": "python",
   "name": "python3"
  },
  "language_info": {
   "codemirror_mode": {
    "name": "ipython",
    "version": 3
   },
   "file_extension": ".py",
   "mimetype": "text/x-python",
   "name": "python",
   "nbconvert_exporter": "python",
   "pygments_lexer": "ipython3",
   "version": "3.6.3"
  }
 },
 "nbformat": 4,
 "nbformat_minor": 1
}
