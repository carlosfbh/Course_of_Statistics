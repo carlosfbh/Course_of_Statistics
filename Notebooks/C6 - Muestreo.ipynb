{
 "cells": [
  {
   "cell_type": "code",
   "execution_count": 1,
   "metadata": {},
   "outputs": [
    {
     "name": "stdout",
     "output_type": "stream",
     "text": [
      "Populating the interactive namespace from numpy and matplotlib\n"
     ]
    }
   ],
   "source": [
    "%pylab inline"
   ]
  },
  {
   "cell_type": "code",
   "execution_count": 2,
   "metadata": {
    "collapsed": true
   },
   "outputs": [],
   "source": [
    "from scipy import stats"
   ]
  },
  {
   "cell_type": "code",
   "execution_count": 12,
   "metadata": {
    "collapsed": true
   },
   "outputs": [],
   "source": [
    "mi_norm = stats.norm(2, 0.4)"
   ]
  },
  {
   "cell_type": "code",
   "execution_count": 13,
   "metadata": {
    "collapsed": true
   },
   "outputs": [],
   "source": [
    "sample = mi_norm.rvs(10)"
   ]
  },
  {
   "cell_type": "code",
   "execution_count": 14,
   "metadata": {},
   "outputs": [
    {
     "data": {
      "image/png": "[encoded data removed]",
      "text/plain": [
       "<matplotlib.figure.Figure at 0x1ebda28d940>"
      ]
     },
     "metadata": {},
     "output_type": "display_data"
    }
   ],
   "source": [
    "plt.hist(sample)\n",
    "plt.show()"
   ]
  },
  {
   "cell_type": "code",
   "execution_count": 15,
   "metadata": {},
   "outputs": [
    {
     "data": {
      "text/plain": [
       "1.8744948645791104"
      ]
     },
     "execution_count": 15,
     "metadata": {},
     "output_type": "execute_result"
    }
   ],
   "source": [
    "np.mean(sample)"
   ]
  },
  {
   "cell_type": "markdown",
   "metadata": {},
   "source": [
    "# Muestreo"
   ]
  },
  {
   "cell_type": "markdown",
   "metadata": {},
   "source": [
    "Consideramos la población $X$ con función de probabilidad\n",
    "$P$, si la variable aleatoria es discreta, (función de densidad\n",
    "$f$, si la variable aleatoria es continua), y tenemos que\n",
    "entender que tenemos una población donde queremos estudiar una\n",
    "cierta característica y  esta característica la vemos como una\n",
    "variable aleatoria $X$"
   ]
  },
  {
   "cell_type": "markdown",
   "metadata": {},
   "source": [
    "Una muestra aleatoria de tamaño $n$ de una población $X$ con\n",
    "función de probabilidad $P$ ($X$ discreta), o función de\n",
    "densidad $f$ ($X $ es continua), es un vector aleatorio $(X_1,X_2,\n",
    "\\cdot \\cdot \\cdot, X_n)$ donde:\n",
    "\n",
    "* La función de distribución marginal de cada $X_i$, $i=1,2, \\cdot \\cdot \\cdot, n$, viene dada por $P$ (o $f$).\n",
    "\n",
    "* $X_1$, $X_2$, $\\cdot \\cdot \\cdot$, $X_n$ son independientes.\n"
   ]
  },
  {
   "cell_type": "markdown",
   "metadata": {},
   "source": [
    "## Definicion\n",
    "\n",
    "Consideremos una población y X la característica que queremos estudiar\n",
    "de la población. Sea (X1, X2, · · ·, Xn) una muestra aleatoria.\n",
    "Si X es discreta, sea P su función de probabilidad. La función de probabilidad\n",
    "de la muestra (X1, X2, · · ·, Xn), que volvemos a designarla por P, es\n",
    "\n",
    "$$P(X1 = x1, X2 = x2, · · ·, Xn = xn) (2)\n",
    "= P(X1 = x1) · P(X2 = x2) · · · P(Xn = xn)$$\n",
    "\n",
    "donde x1, x2, · · ·, xn son elementos del rango de X, (puede repetirse).\n",
    "\n",
    "Si X es continua, sea f su función de densidad. La función de densidad de la\n",
    "muestra aleatoria (X1, X2, · · ·, Xn), que volvemos a designarla por f , es\n",
    "\n",
    "$$f(x1, x2, · · ·, xn) = f(x1) · f(x2) · · · f(xn), (3)\n",
    "donde (x1, x2, · · ·, xn) ∈ Rn $$\n",
    "\n",
    "Las funciones (2) y (3) son conocidas como las funciones de verosimilitud asociadas\n",
    "a la muestra aleatoria (X1, X2, · · ·, Xn).\n"
   ]
  },
  {
   "cell_type": "markdown",
   "metadata": {},
   "source": [
    "## Ejemplo\n",
    "\n",
    "Supongamos que queremos ver si una moneda está bien construida.\n",
    "Para ello vamos a utilizar el criterio que al tirarla un número grande veces, salga\n",
    "esencialmente el mismo número de caras que de cruces. \n",
    "\n",
    "Cual es la probabilidad del suceso (x1, x2, x3, x4) = (0, 1, 0, 0)"
   ]
  },
  {
   "cell_type": "markdown",
   "metadata": {},
   "source": [
    "## Definición \n",
    "\n",
    "Sea X una población y (X1, X2, · · ·, Xn) una muestra aleatoria. Un estadístico\n",
    "T = T(X1, X2, · · ·, Xn) es una función real de la la muestra aleatoria"
   ]
  },
  {
   "cell_type": "markdown",
   "metadata": {},
   "source": [
    "Si $X$ una población y $(X_1,X_2, \\cdot \\cdot \\cdot, X_n)$ una\n",
    "muestra aleatoria, los estadísticos más utilizados asociados a\n",
    "esta muestra aleatoria son\n",
    "\n",
    "* Media muestral, designada por $\\overline{X}$ y definida por\n",
    "\n",
    "$$\\overline{X}=\\frac{1}{n}\\sum_{i=1}^nX_i$$\n",
    "\n",
    "* Varianza muestral, designada por $S^2$ y definida por\n",
    "\n",
    "$$S^2=\\frac{1}{n}\\sum_{i=1}^n(X_i-\\overline{X})^2=\\frac{1}{n}\\sum_{i=1}^nX_i^2-\\overline{X}^2$$\n",
    "\n",
    "* Cuasi-varianza muestral, designada por $\\widehat{S}^2$ y definida por\n",
    "\n",
    "$$\\widehat{S}^2=\\frac{1}{n-1}\\sum_{i=1}^n(X_i-\\overline{X})^2\n",
    "=\\frac{1}{n-1}\\sum_{i=1}^nX_i^2-\\frac{n}{n-1}\\overline{X}^2$$\n",
    "\n",
    "La relación entre la varianza y cuasivarianza muestral es $$\\widehat{S}^2=\\frac{n}{n-1}S^2.$$\n"
   ]
  },
  {
   "cell_type": "markdown",
   "metadata": {},
   "source": [
    "## Proposicion\n",
    "\n",
    "Sea $X$ una población con media $\\mu$ y varianza $\\sigma^2$. Sea  $(X_1,X_2, \\cdot \\cdot \\cdot, X_n)$ una\n",
    "muestra aleatoria. Se verifica\n",
    "\n",
    "* $E[\\overline{X}]=\\mu$ \n",
    "* $V(\\overline{X})=\\frac{\\sigma^2}{n}$\n",
    "* $E[S^2]=\\frac{n-1}{n}\\sigma^2$\n",
    "* $E[\\widehat{S}^2]=\\sigma^2$"
   ]
  },
  {
   "cell_type": "markdown",
   "metadata": {},
   "source": [
    "\n",
    "\n"
   ]
  },
  {
   "cell_type": "markdown",
   "metadata": {},
   "source": [
    "## Funciones derivadas de la variable aleatoria normal\n",
    "\n",
    "* Distribución $t$ de Student con $n$ grados de libertad: Se usa para estimar la media para valores de muestra n < 30. Para n > 30, se usa la normal.\n",
    "* Distribución $\\chi^2$ de Pearson con $n$ grados de libertad. Se usa para estimar la varianza"
   ]
  },
  {
   "cell_type": "markdown",
   "metadata": {},
   "source": [
    "### Distribucion de Student\n",
    "\n",
    "Si $Y$, $X_1$, $X_2$, $\\cdot \\cdot \\cdot$, $X_n$ son variables\n",
    "aleatorias tales que\n",
    "\n",
    "*  son independientes, \n",
    "* La variable $Y$ y las $X_i$, $\\;\n",
    "i=1,2,\\cdot \\cdot \\cdot, n$, siguen  una $N(0;1)$\n",
    "\n",
    "La distribución $t$ de Student con $n$ grados de libertad, designada por $t_n$, es la distribución de la variable\n",
    "aleatoria $$\\frac{Y}{\\sqrt{\\sum_{i=1}^nX_i^2}}.$$ Su función de densidad es\n",
    "$$f(x)=\\frac{\\Gamma\\left( \\frac{n+1}{2}\\right)}{\\frac{n\\sqrt{n \\pi}}{2}}\n",
    "\\left(1+\\frac{x^2}{n}\\right)^{-\\frac{n+1}{2}}, \\hspace{0.5cm} x \\in \\mathbb{R}.$$\n",
    "Se verifica\n",
    "\n",
    "\n",
    "* $f(x)$ es una función par. $f(x)=f(-x), \\;\\; x \\in \\mathbb{R}$.\n",
    "* $E[t_n]=0$.\n",
    "* $V(t_n)=\\frac{n}{n-2}$.\n"
   ]
  },
  {
   "cell_type": "markdown",
   "metadata": {},
   "source": [
    "### Distribución $\\chi^2$ de Pearson con $n$ grados de libertad\n",
    "\n",
    "Si $X_1$, $X_2$, $\\cdot \\cdot \\cdot$, $X_n$ son variables aleatorias tales que\n",
    "\n",
    "* son independientes, \n",
    "* $X_i$ sigue  una $N(0;1)$, $\\;i=1,2,\\cdot \\cdot \\cdot, n$,\n",
    "\n",
    "la distribución $\\chi^2$ de Pearson con $n$ grados de libertad, designada por $\\chi_n^2$,  es la distribución de la variable aleatoria\n",
    "\n",
    "$$\\chi_n^2= X_1^2+X_2^2+\\cdot \\cdot \\cdot +X_n^2.$$\n",
    "\n",
    "La función de densidad de esta variable aleatoria es\n",
    "\n",
    "$$f(x,n)=\\left\\{ \\begin{array}{ll} \\frac{1}{2^{\\frac{n}{2}}\\Gamma\\left(\\frac{n}{2}\\right)}x^{\\frac{n}{2}-1}e^{-\\frac{x}{2}}\\hspace{0.5cm} x \\geq 0 \\\\ 0 \\hspace{3cm} x <0 \\end{array} \\right.$$ \n",
    "\n",
    "Se verifica:\n",
    "\n",
    "* $E[\\chi_n^2]=n$. \n",
    "* $V(\\chi_n^2)=2n$.\n"
   ]
  },
  {
   "cell_type": "markdown",
   "metadata": {},
   "source": [
    "### Caso de la distribucion Normal\n",
    "\n",
    "Sea $X$ una población normal $N(\\mu;\\sigma)$ y $(X_1,X_2, \\cdot \\cdot \\cdot, X_n)$ una muestra aleatoria de tamaño $n$.\n",
    "\n",
    "* La media muestral $\\overline{X}$ satisface\n",
    "    * Para n < 30, $$E[\\overline{X}]= \\mu, \\hspace{1cm}V(\\overline{X})=\\frac{\\sigma}{n}, $$ $$ \\textrm{la distribución de $\\overline{X}$ sigue una } t(n-1)(\\frac{X-\\mu}{s/\\sqrt{n}}).$$ \n",
    "\n",
    "    * Para n > 30, $$E[\\overline{X}]= \\mu, \\hspace{1cm}V(\\overline{X})=\\frac{\\sigma}{n}, $$ $$ \\textrm{la distribución de $\\overline{X}$ sigue una } N\\left(\\mu,\\frac{\\sigma}{\\sqrt{n}}\\right).$$  \n",
    "\n",
    "\n",
    "* La varianza muestral $S^2$ satisface $$E[S^2]= \\frac{n-1}{n}\\sigma^2, \\hspace{1cm}V(S^2)=\n",
    "\\frac{2(n-1)}{n^2}\\sigma^4, $$ $$ \\textrm{la distribución de\n",
    "$\\frac{nS^2}{\\sigma^2}$ sigue una } \\chi_{n-1}^2.$$ \n",
    "* Las variables aleatorias  $\\overline{X}$ y $S^2$ son independientes."
   ]
  },
  {
   "cell_type": "code",
   "execution_count": 17,
   "metadata": {
    "collapsed": true
   },
   "outputs": [],
   "source": [
    "# 10 muestras de N(2,0.5)\n",
    "mi_normal = stats.norm(2, 0.5)\n",
    "mi_t = stats.t(9)"
   ]
  },
  {
   "cell_type": "code",
   "execution_count": 19,
   "metadata": {},
   "outputs": [
    {
     "data": {
      "image/png": "[encoded data removed]",
      "text/plain": [
       "<matplotlib.figure.Figure at 0x1ebda46e978>"
      ]
     },
     "metadata": {},
     "output_type": "display_data"
    }
   ],
   "source": [
    "ne = np.linspace(-1,5,1000)\n",
    "de = list(map(mi_normal.pdf, ne))\n",
    "plt.plot(ne, de)\n",
    "plt.show()"
   ]
  },
  {
   "cell_type": "code",
   "execution_count": 20,
   "metadata": {},
   "outputs": [
    {
     "data": {
      "image/png": "[encoded data removed]",
      "text/plain": [
       "<matplotlib.figure.Figure at 0x1ebda4f2160>"
      ]
     },
     "metadata": {},
     "output_type": "display_data"
    }
   ],
   "source": [
    "ne = np.linspace(-3,5,1000)\n",
    "de = list(map(mi_t.pdf, ne))\n",
    "plt.plot(ne, de)\n",
    "plt.show()"
   ]
  },
  {
   "cell_type": "markdown",
   "metadata": {},
   "source": [
    "### Ejercicio\n",
    "\n",
    "Calcule\n",
    "\n",
    "* $ P(\\chi_{10}^2 \\leq 3.25) $. \n",
    "* $ P(\\chi_{17}^2 \\geq 8.672) $. \n",
    "* $ P(16.92 \\leq \\chi_{9}^2 \\leq 23.6) $. \n",
    "* $ P(\\chi_{60}^2 \\leq 72) $."
   ]
  },
  {
   "cell_type": "markdown",
   "metadata": {},
   "source": [
    "### Ejercicio \n",
    "\n",
    "Si $X \\sim \\chi_{18}^2$, obtener un intervalo $[a,b]$ de manera que contenga un $95\\%$  de probabilidad y que deje a la derecha e izquierda la probabilidad restante igualmente repartida."
   ]
  },
  {
   "cell_type": "markdown",
   "metadata": {},
   "source": [
    "### Ejercicio \n",
    "\n",
    "Calcule\n",
    "\n",
    "* $P(t_8 <-0.899)$. \n",
    "* $P(2,093 < t_{19} <2,861)$. \n",
    "* $P(t_7 <t_0)=0.99$. \n",
    "*  $P(|t_{18}| >t_0)=0.05$. "
   ]
  },
  {
   "cell_type": "markdown",
   "metadata": {},
   "source": [
    "### Ejercicio \n",
    "\n",
    "En una población normal N(2; 0,6) se toma una muestra aleatoria de\n",
    "tamaño 9. Determinar la probabilidad de que la media muestral sea inferior a 2,08 y\n",
    "la probabilidad de que la varianza muestral sea inferior a 0,2."
   ]
  },
  {
   "cell_type": "code",
   "execution_count": 32,
   "metadata": {},
   "outputs": [],
   "source": [
    "n = 9"
   ]
  },
  {
   "cell_type": "code",
   "execution_count": null,
   "metadata": {
    "collapsed": true
   },
   "outputs": [],
   "source": [
    "# X < 2.08 es equivalente a decir t < (2.08-2)/(0.6/math.sqrt(n))"
   ]
  },
  {
   "cell_type": "code",
   "execution_count": 33,
   "metadata": {},
   "outputs": [
    {
     "data": {
      "text/plain": [
       "0.6501877476197897"
      ]
     },
     "execution_count": 33,
     "metadata": {},
     "output_type": "execute_result"
    }
   ],
   "source": [
    "stats.t(n-1).cdf((2.08-2)/(0.6/math.sqrt(n)))"
   ]
  },
  {
   "cell_type": "code",
   "execution_count": 29,
   "metadata": {
    "collapsed": true
   },
   "outputs": [],
   "source": [
    "#Para el caso de que la muestra aleatoria sea de tamaño 50\n",
    "n = 50\n",
    "norm_media_muestral = stats.norm(2, 0.6/math.sqrt(n))"
   ]
  },
  {
   "cell_type": "code",
   "execution_count": 30,
   "metadata": {},
   "outputs": [
    {
     "data": {
      "text/plain": [
       "0.82711070692442012"
      ]
     },
     "execution_count": 30,
     "metadata": {},
     "output_type": "execute_result"
    }
   ],
   "source": [
    "norm_media_muestral.cdf(2.08)"
   ]
  },
  {
   "cell_type": "code",
   "execution_count": null,
   "metadata": {
    "collapsed": true
   },
   "outputs": [],
   "source": [
    "#Vamos a variar el n"
   ]
  },
  {
   "cell_type": "code",
   "execution_count": 41,
   "metadata": {
    "collapsed": true
   },
   "outputs": [],
   "source": [
    "from ipywidgets import interact"
   ]
  },
  {
   "cell_type": "code",
   "execution_count": 42,
   "metadata": {},
   "outputs": [
    {
     "data": {
      "application/vnd.jupyter.widget-view+json": {
       "model_id": "7877edab52b848db93e45e1b6fc7ee3b",
       "version_major": 2,
       "version_minor": 0
      },
      "text/plain": [
       "A Jupyter Widget"
      ]
     },
     "metadata": {},
     "output_type": "display_data"
    }
   ],
   "source": [
    "@interact(n=40)\n",
    "def show(n):\n",
    "    \n",
    "    norm_media_muestral = stats.norm(2, 0.6/math.sqrt(n))\n",
    "    ne = np.linspace(1,3,1000)\n",
    "    de = list(map(norm_media_muestral.pdf, ne))\n",
    "    plt.plot(ne, de)\n",
    "    plt.show()"
   ]
  },
  {
   "cell_type": "code",
   "execution_count": null,
   "metadata": {
    "collapsed": true
   },
   "outputs": [],
   "source": []
  },
  {
   "cell_type": "markdown",
   "metadata": {},
   "source": [
    "### Ejercicio \n",
    "\n",
    "En una población $X$ normal $N(3;2)$ se toma una muestra\n",
    "aleatoria de tamaño $15$. Calcule\n",
    "\n",
    "* probabilidad de que $X$ se desvíe  de la media en más de una décima, \n",
    "* la suma de los valores muestrales, observados, esté entre $40$ y $50$, \n",
    "* la media muestral se desvíe de su valor medio en mas de una décima, \n",
    "* la varianza muestral sea menor que $4.56$."
   ]
  },
  {
   "cell_type": "code",
   "execution_count": 52,
   "metadata": {},
   "outputs": [
    {
     "name": "stdout",
     "output_type": "stream",
     "text": [
      "La probabilidad es de 84.92 %\n"
     ]
    }
   ],
   "source": [
    "n = 15\n",
    "mi_t = stats.t(14)\n",
    "result = 100 * (1 - (mi_t.cdf((3.1-3)/(2/math.sqrt(n))) - mi_t.cdf((2.9-3)/(2/math.sqrt(n)))))\n",
    "print(\"La probabilidad es de %.2f %s\" %(result, \"%\"))"
   ]
  },
  {
   "cell_type": "code",
   "execution_count": 54,
   "metadata": {},
   "outputs": [
    {
     "name": "stdout",
     "output_type": "stream",
     "text": [
      "La probabilidad es de 47.10 %\n"
     ]
    }
   ],
   "source": [
    "# Suma entre 40 y 50 equivale a que la media esté entre 40/15 y 50/15\n",
    "\n",
    "result = 100 * ((mi_t.cdf((50/15-3)/(2/math.sqrt(n))) - mi_t.cdf((40/15-3)/(2/math.sqrt(n)))))\n",
    "print(\"La probabilidad es de %.2f %s\" %(result, \"%\"))"
   ]
  },
  {
   "cell_type": "code",
   "execution_count": 55,
   "metadata": {
    "collapsed": true
   },
   "outputs": [],
   "source": [
    "mi_chi = stats.chi2(14)"
   ]
  },
  {
   "cell_type": "code",
   "execution_count": 57,
   "metadata": {},
   "outputs": [
    {
     "data": {
      "image/png": "[encoded data removed]",
      "text/plain": [
       "<matplotlib.figure.Figure at 0x1ebda67e668>"
      ]
     },
     "metadata": {},
     "output_type": "display_data"
    }
   ],
   "source": [
    "ne = np.linspace(-3, 40, 1000)\n",
    "ye = list(map(mi_chi.pdf, ne))\n",
    "plt.plot(ne, ye)\n",
    "plt.show()"
   ]
  },
  {
   "cell_type": "code",
   "execution_count": 60,
   "metadata": {},
   "outputs": [
    {
     "data": {
      "image/png": "[encoded data removed]",
      "text/plain": [
       "<matplotlib.figure.Figure at 0x1ebda235780>"
      ]
     },
     "metadata": {},
     "output_type": "display_data"
    }
   ],
   "source": [
    "ne = np.linspace(-3, 100, 1000)\n",
    "ye = list(map(mi_chi.pdf, (2**2)*ne/n))\n",
    "plt.plot(ne, ye)\n",
    "plt.show()"
   ]
  },
  {
   "cell_type": "code",
   "execution_count": 62,
   "metadata": {},
   "outputs": [
    {
     "data": {
      "text/plain": [
       "3.5880275002273758e-06"
      ]
     },
     "execution_count": 62,
     "metadata": {},
     "output_type": "execute_result"
    }
   ],
   "source": [
    "mi_chi.cdf(4.56*2**2/15)"
   ]
  },
  {
   "cell_type": "markdown",
   "metadata": {},
   "source": [
    "### Ejercicio \n",
    "\n",
    "Consideramos una población $X$ normal $N(0;1)$. Se toma una muestra aleatoria de tamaño $10$. Calcule la probabilidad del suceso $\\{\\overline{X}<0.2\\} \\cap \\{ S^2<1.9\\}$."
   ]
  },
  {
   "cell_type": "markdown",
   "metadata": {},
   "source": [
    "### Ejercicio \n",
    "\n",
    "Se pretende realizar inferencias acerca de la media de una población normal de varianza igual a 9, de manera que se verifique que la probabilidad  de la diferencia entre la media muestral  y la poblacional sea menor o igual  que 1,287 sea del $99\\%$. ¿Cuál deberá ser el tamaño muestral  seleccionado para lograr el objetivo?"
   ]
  },
  {
   "cell_type": "markdown",
   "metadata": {},
   "source": [
    "### Ejercicio \n",
    "\n",
    "De una población  con distribución $N(\\mu,12)$  se extraen muestras aleatorias de tamaño 101, ¿cuál es la probabilidad de que la varianza muestral sea superior a 105,82 e inferior a 199,99?"
   ]
  },
  {
   "cell_type": "markdown",
   "metadata": {},
   "source": [
    "### Ejercicio \n",
    "\n",
    "El tiempo de vida medio de unos dispositivos que se encuentran en el mercado es de $63$ horas y su varianza de\n",
    "$38.44$. Se toma una muestra compuesta por 40 de ellos. Calcule\n",
    "\n",
    "* Probabilidad de que la duración media de la muestra pertenezca al intervalo $(61,65)$. \n",
    "* Probabilidad de que la duración media de la muestra pertenezca al intervalo $(60.4,65.5)$"
   ]
  },
  {
   "cell_type": "markdown",
   "metadata": {},
   "source": [
    "### Ejercicio \n",
    "\n",
    "Si se parte de una población con distribución $N(2,4)$ y se extraen muestras aleatorias de tamaño 64, ¿cuál es la probabilidad de que la media muestral tome un valor superior a 1 e inferior a 3?\n"
   ]
  }
 ],
 "metadata": {
  "kernelspec": {
   "display_name": "Python 3",
   "language": "python",
   "name": "python3"
  },
  "language_info": {
   "codemirror_mode": {
    "name": "ipython",
    "version": 3
   },
   "file_extension": ".py",
   "mimetype": "text/x-python",
   "name": "python",
   "nbconvert_exporter": "python",
   "pygments_lexer": "ipython3",
   "version": "3.6.3"
  }
 },
 "nbformat": 4,
 "nbformat_minor": 1
}
