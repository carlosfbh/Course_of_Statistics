{
 "cells": [
  {
   "cell_type": "code",
   "execution_count": 2,
   "metadata": {
    "collapsed": true
   },
   "outputs": [],
   "source": [
    "def factorial(n):\n",
    "    if n == 0:\n",
    "        return 1\n",
    "    else:\n",
    "        return n * factorial(n-1)\n",
    "    \n",
    "def variation_nr(n,m):\n",
    "    return factorial(m)/factorial(m-n)\n",
    "\n",
    "def variation_r(n,m):\n",
    "    return m ** n\n",
    "\n",
    "def variation_rno(n,m):\n",
    "    return (m ** n) / factorial(n)\n",
    "\n",
    "def permutation(m):\n",
    "    return factorial(m)\n",
    "\n",
    "def combination(n,m):\n",
    "    return (factorial(m)) / (factorial(m-n) * factorial(n))"
   ]
  },
  {
   "cell_type": "markdown",
   "metadata": {},
   "source": [
    "## Introduccion\n",
    "\n",
    "Experimento aleatorio\n",
    "\n",
    "Espacio Muestral: $\\Omega$\n",
    "\n",
    "Sucesos elementales\n",
    "\n",
    "Un suceso es un subconjunto del espacio muestral\n",
    "\n",
    "Suceso seguro $\\Omega$ y suceso imposible $\\emptyset$"
   ]
  },
  {
   "cell_type": "markdown",
   "metadata": {},
   "source": [
    "## Ejercicio  \n",
    "\n",
    "Describir el espacio muestral para cada uno de los siguientes experimentos\n",
    "aleatorios:\n",
    "1. 250 personas son seleccionadas en la UPM y se les pregunta si van a votar al\n",
    "candidato A o B.\n",
    "\n",
    "Opcion 1: A o B\n",
    "Opcion 2: El resultado del voto de los 250 estudiantes\n",
    "\n",
    "2. Un dado es lanzado cinco veces consecutivas.\n",
    "\n",
    "Variacion con Repeticion\n",
    "\n",
    "3. Cinco dados son lanzados simultáneamente.\n",
    "\n",
    "Variacion sin Repeticion\n",
    "\n",
    "4. Una moneda es lanzada hasta que salen dos caras o dos cruces consecutivas.\n",
    "\n",
    "Numero de tiradas\n",
    "\n",
    "5. Cuatro objetos diferentes se envasan en paquetes de dos.\n",
    "\n",
    "Combinacion\n",
    "\n",
    "6. Cuatro bolas son extraídas aleatoriamente y sin reemplazamiento de una urna\n",
    "que contiene ocho bolas blancas y seis azules.\n",
    "\n",
    "Combinacion"
   ]
  },
  {
   "cell_type": "markdown",
   "metadata": {},
   "source": [
    "### Operaciones con sucesos:\n",
    "\n",
    "* Union\n",
    "\n",
    "* Interseccion\n",
    "\n",
    "  * Sucesos incompatibles o disjuntos\n",
    "  \n",
    "    * Disjuntos dos a dos\n",
    "    \n",
    "    * **Particion** del espacio muestral\n",
    "    \n",
    "* Diferencia de sucesos\n",
    "\n",
    "  * Suceso **complementario**\n",
    "  \n",
    "#### Propiedades:\n",
    "\n",
    "* $\\{S_1^c\\}^c = S_1$\n",
    "* $\\Omega^c = \\emptyset$\n",
    "* $\\emptyset^c = \\Omega$\n",
    "* $S_1 \\cup S_1^c = \\Omega$\n",
    "* $S_1 \\cap S_1^c = \\emptyset$\n",
    "* Propiedad conmutativa $$S_1 \\cup S_2 = S_2 \\cup S_1 \\hspace{1cm} S_1 \\cap S_2 = S_2 \\cap S_1$$\n",
    "* Propiedad asociativa $$\\{S_1 \\cup S_2\\} \\cup S_3 = S_1 \\cup \\{S_2 \\cup S_3\\} \\hspace{1cm} \\{S_1 \\cap S_2\\} \\cap S_3 = S_1 \\cap \\{S_2 \\cap S_3\\}$$ \n",
    "* Propiedad distributiva $$S_1 \\cup \\{S_2 \\cap S_3\\} = \\{S_1 \\cup S_2\\} \\cap \\{S_1 \\cup S_3\\} \\hspace{1cm} S_1 \\cap \\{S_2 \\cup S_3\\} = \\{S_1 \\cap S_2\\} \\cup \\{S_1 \\cap S_3\\}$$ \n",
    "* Leyes de Morgan $$\\{S_1 \\cup S_2\\}^c = S_1^c \\cap S_2^c \\hspace{1cm} \\{S_1 \\cap S_2\\}^c = S_1^c \\cup S_2^c$$"
   ]
  },
  {
   "cell_type": "markdown",
   "metadata": {},
   "source": [
    "## Probabilidad\n",
    "\n",
    "Espacios probabilisticos $(\\Omega, \\mathcal{A}, P)$\n",
    "  \n",
    "#### Propiedades de un espacio probabilistico:\n",
    "\n",
    "1) $P(S^c) = 1 - P(S)$\n",
    "  \n",
    "2) $P(\\emptyset) = 0$\n",
    "  \n",
    "3) Si $S_1 \\subset S_2$:\n",
    "  * $P(S_1) \\leq P(S_2)$\n",
    "  * $P(S_1 - S_2) = P(S_2) - P(S_1)$\n",
    "  \n",
    "4) $P(S_1 \\cup S_2) = P(S_1) + P(S_2) - P(S_1 \\cap S_2)$\n",
    "\n",
    "#### La regla de Laplace\n",
    "\n",
    "Para un espacio muestral $\\Omega$, con un conjunto finito de $\\omega_n$ sucesos elementales:\n",
    "\n",
    "$$P(\\omega_i) = \\frac{1}{n}, \\hspace{1cm} i = 1,2,···, n$$"
   ]
  },
  {
   "cell_type": "markdown",
   "metadata": {},
   "source": [
    "## Ejercicio\n",
    "\n",
    "¿Cuál es la probabilidad de que al lanzar un dado dos veces se obtenga\n",
    "una suma de puntos de siete?"
   ]
  },
  {
   "cell_type": "markdown",
   "metadata": {},
   "source": [
    "Solucion:\n",
    "* Suceso: La suma de los numeros es igual a 7\n",
    "* Suceso elemental: El resultado de lanzar los 2 dados. P. ej.: 1,5\n",
    "* Numero de Sucesos elementales: 6x6=36\n",
    "* Numero de sucesos elementales que respetan la condicion: 6 (16 61 25 52 34 43)"
   ]
  },
  {
   "cell_type": "code",
   "execution_count": 39,
   "metadata": {},
   "outputs": [
    {
     "name": "stdout",
     "output_type": "stream",
     "text": [
      "0.17 %\n"
     ]
    }
   ],
   "source": [
    "#Suceso elemental: un 2 y un 3 por ejemplo. Cuantos sucesos elementales hay? El orden no importa y no hay repetición.\n",
    "#Es una combinación 1 de 6 por una combinación 1 de 6\n",
    "#Número de sucesos que cumple la condición: 6\n",
    "result = 6 / combination(1,6) ** 2\n",
    "print(\"%.2f %s\" % (result, \"%\"))"
   ]
  },
  {
   "cell_type": "code",
   "execution_count": 45,
   "metadata": {
    "collapsed": true
   },
   "outputs": [],
   "source": [
    "toque_2 = toque_12 = 1 / combination(1,6) ** 2\n",
    "toque_3 = toque_11 = 2 / combination(1,6) ** 2\n",
    "toque_4 = toque_10 = 3 / combination(1,6) ** 2\n",
    "toque_5 = toque_9 = 4 / combination(1,6) ** 2\n",
    "toque_6 = toque_8 = 5 / combination(1,6) ** 2\n",
    "toque_7 = 6 / combination(1,6) ** 2\n"
   ]
  },
  {
   "cell_type": "code",
   "execution_count": 46,
   "metadata": {},
   "outputs": [
    {
     "name": "stdout",
     "output_type": "stream",
     "text": [
      "0.03 %\n",
      "0.06 %\n",
      "0.08 %\n",
      "0.11 %\n",
      "0.14 %\n",
      "0.17 %\n",
      "0.14 %\n",
      "0.11 %\n",
      "0.08 %\n",
      "0.06 %\n",
      "0.03 %\n"
     ]
    }
   ],
   "source": [
    "print(\"%.2f %s\" % (toque_2, \"%\"))\n",
    "print(\"%.2f %s\" % (toque_3, \"%\"))\n",
    "print(\"%.2f %s\" % (toque_4, \"%\"))\n",
    "print(\"%.2f %s\" % (toque_5, \"%\"))\n",
    "print(\"%.2f %s\" % (toque_6, \"%\"))\n",
    "print(\"%.2f %s\" % (toque_7, \"%\"))\n",
    "print(\"%.2f %s\" % (toque_8, \"%\"))\n",
    "print(\"%.2f %s\" % (toque_9, \"%\"))\n",
    "print(\"%.2f %s\" % (toque_10, \"%\"))\n",
    "print(\"%.2f %s\" % (toque_11, \"%\"))\n",
    "print(\"%.2f %s\" % (toque_12, \"%\"))"
   ]
  },
  {
   "cell_type": "markdown",
   "metadata": {},
   "source": [
    "## Ejercicio\n",
    "\n",
    "El 60 % de la población de una determinada ciudad\n",
    "lee el periódico A, el 35 % el B y un 15 % ambos. Elegido un\n",
    "ciudadano al azar, calcular la probabilidad de:\n",
    "1. ser lector de algún periódico:\n",
    "2. no ser lector de ninguno;\n",
    "3. leer solo el periódico A;\n",
    "4. leer solo uno de los dos periódicos"
   ]
  },
  {
   "cell_type": "markdown",
   "metadata": {},
   "source": [
    "1. $$P(A \\cap B)$$\n",
    "2. $$1-P(A \\cap B)$$\n",
    "3. $$P(A-B)$$\n",
    "4. $$P( (A \\cap B) - (A \\cup B) )$$\n"
   ]
  },
  {
   "cell_type": "markdown",
   "metadata": {},
   "source": [
    "Tenemos probabilidad de leer A y probabilidad de leer B\n",
    "P(A) = 0.6\n",
    "P(B) = 0.35\n",
    "P(A y B) = 0.15"
   ]
  },
  {
   "cell_type": "code",
   "execution_count": 49,
   "metadata": {},
   "outputs": [
    {
     "name": "stdout",
     "output_type": "stream",
     "text": [
      "80.0 %\n"
     ]
    }
   ],
   "source": [
    "#1. P(A o B) = P(A) + P(B) - P(A y B)\n",
    "print((0.6 + 0.35 - 0.15) * 100, \"%\")"
   ]
  },
  {
   "cell_type": "code",
   "execution_count": 50,
   "metadata": {},
   "outputs": [
    {
     "name": "stdout",
     "output_type": "stream",
     "text": [
      "20 %\n"
     ]
    }
   ],
   "source": [
    "#2. 1 - P(A o B)\n",
    "print(100 - 80, \"%\")"
   ]
  },
  {
   "cell_type": "code",
   "execution_count": 52,
   "metadata": {},
   "outputs": [
    {
     "name": "stdout",
     "output_type": "stream",
     "text": [
      "45.00 %\n"
     ]
    }
   ],
   "source": [
    "#3. P(A) - P(A y B)\n",
    "result = 100 * (0.6 - 0.15)\n",
    "print(\"%.2f %s\" % (result, \"%\"))"
   ]
  },
  {
   "cell_type": "code",
   "execution_count": 55,
   "metadata": {},
   "outputs": [
    {
     "data": {
      "text/plain": [
       "0.6499999999999999"
      ]
     },
     "execution_count": 55,
     "metadata": {},
     "output_type": "execute_result"
    }
   ],
   "source": [
    "#4. P(A) - P(A y B) + P(B) - P(A y B)\n",
    "0.6 - 0.15 + 0.35 - 0.15"
   ]
  },
  {
   "cell_type": "markdown",
   "metadata": {},
   "source": [
    "## Ejercicio \n",
    "\n",
    "En una baraja de 40 cartas se sacan tres simultáneamente. ¿Cuál es la\n",
    "probabilidad de que sean oros?\n"
   ]
  },
  {
   "cell_type": "markdown",
   "metadata": {},
   "source": [
    "* Suceso: Todos son oros\n",
    "* Suceso elemental: Resultado de sacar 3 cartas\n",
    " $$P(suceso)=\\frac{card(suceso)}{card(\\Omega)}$$\n",
    "* No importa el orden y no hay repeticion ==> Combinacion\n",
    " $$card(suceso)=Combinacion de 3 entre 10$$\n",
    " $$card(\\Omega)=Combinacin de 3 entre 40$$"
   ]
  },
  {
   "cell_type": "markdown",
   "metadata": {},
   "source": [
    "El suceso elemental es sacar tres cartas. El orden no importa y no hay repetición. Por lo tanto sería una combinación de 3 sobre 40.\n",
    "\n",
    "El suceso de sacar tres oros sería una combinación de 3 sobre 10"
   ]
  },
  {
   "cell_type": "code",
   "execution_count": 58,
   "metadata": {},
   "outputs": [
    {
     "name": "stdout",
     "output_type": "stream",
     "text": [
      "0.01 %\n"
     ]
    }
   ],
   "source": [
    "result = combination(3,10) / combination(3, 40)\n",
    "print(\"%.2f %s\" % (result, \"%\"))"
   ]
  },
  {
   "cell_type": "markdown",
   "metadata": {},
   "source": [
    "## Ejercicio \n",
    "Dos niños escriben, cada uno por separado, un número de tres dígitos\n",
    "utilizando las cifras {4, 7, 8}, cada cifra una sola vez. Hallar la probabilidad de que\n",
    "los dos formen el mismo número"
   ]
  },
  {
   "cell_type": "markdown",
   "metadata": {},
   "source": [
    "* Suceso elemental: 2 numeros. Por ejemplo: 478 874\n",
    "* Suceso w: 2 ninos sacan el mismo numero. Por ejemplo: 478 478\n",
    " $$P(suceso)=\\frac{card(suceso)}{card(\\Omega)}$$\n",
    " $$card(\\Omega)==Permutacion de 3xPermutacion de 3$$\n",
    "* Porque el primer numero determina el segundo\n",
    " $$card(\\omega)==Permutacion de 3$$"
   ]
  },
  {
   "cell_type": "markdown",
   "metadata": {},
   "source": [
    "El suceso elementan serían dos números formados por las cifras 4, 7 y 8. Por ejemplo, sería el 478 y el 847\n",
    "El orden sí importa y no hay repetición. Es una permutación de 3 * permutación de 3\n",
    "Las veces que el número puede ser el mismo en los dos será las posibilidades de escribir un número en uno de ellos. Es decir una permutación de 3"
   ]
  },
  {
   "cell_type": "code",
   "execution_count": 61,
   "metadata": {},
   "outputs": [
    {
     "name": "stdout",
     "output_type": "stream",
     "text": [
      "0.17 %\n"
     ]
    }
   ],
   "source": [
    "result = permutation(3) / permutation(3)**2\n",
    "print(\"%.2f %s\" % (result, \"%\"))"
   ]
  },
  {
   "cell_type": "markdown",
   "metadata": {},
   "source": [
    "## Ejercicio \n",
    "\n",
    "Una caja contiene ocho bolas rojas, tres blancas y nueve azules. Si se\n",
    "sacan tres bolas al azar, determínese la probabilidad de que:\n",
    "1. las tres sean rojas;\n",
    "2. las tres sean blancas;\n",
    "3. dos sean rojas y una blanca;\n",
    "4. al menos una sea blanca;\n",
    "5. sea una de cada color."
   ]
  },
  {
   "cell_type": "markdown",
   "metadata": {},
   "source": [
    "Suceso elemental. Por ejemplo, una bola roja, una bola blanca y una bola azul. El orden no importan y no hay repetición. El espacio muestral es una combinación 3 de 20"
   ]
  },
  {
   "cell_type": "code",
   "execution_count": 13,
   "metadata": {},
   "outputs": [
    {
     "name": "stdout",
     "output_type": "stream",
     "text": [
      "4.91 %\n"
     ]
    }
   ],
   "source": [
    "#1. Combinación 3 de 8 dividido de combinación 3 de 20\n",
    "result = 100 * combination(3,8)/combination(3,20)\n",
    "print(\"%.2f %s\" % (result, \"%\"))"
   ]
  },
  {
   "cell_type": "code",
   "execution_count": 16,
   "metadata": {},
   "outputs": [
    {
     "name": "stdout",
     "output_type": "stream",
     "text": [
      "0.09 %\n"
     ]
    }
   ],
   "source": [
    "#2. Combinación 3 de 3 dividido de combinación 3 de 20\n",
    "result = 100 * combination(3,3)/combination(3,20)\n",
    "print(\"%.2f %s\" % (result, \"%\"))"
   ]
  },
  {
   "cell_type": "code",
   "execution_count": 17,
   "metadata": {},
   "outputs": [
    {
     "name": "stdout",
     "output_type": "stream",
     "text": [
      "2.46 %\n"
     ]
    }
   ],
   "source": [
    "#3. Combinación 2 de 8 por combinación 1 de 3 ; dividido por combinación 3 de 20\n",
    "result = 100 * combination(2,8)*combination(3,3)/combination(3,20)\n",
    "print(\"%.2f %s\" % (result, \"%\"))"
   ]
  },
  {
   "cell_type": "code",
   "execution_count": 24,
   "metadata": {},
   "outputs": [
    {
     "name": "stdout",
     "output_type": "stream",
     "text": [
      "40.35 %\n"
     ]
    }
   ],
   "source": [
    "#4. Calculamos la inversa a sacar tres bolas y que ninguna sea blanca. Esto sería combinación 3 de 17 entre combinación 3 de 20.\n",
    "result = 100 * (1 - (combination(3,17) / combination(3,20)))\n",
    "print(\"%.2f %s\" % (result, \"%\"))"
   ]
  },
  {
   "cell_type": "code",
   "execution_count": 25,
   "metadata": {},
   "outputs": [
    {
     "name": "stdout",
     "output_type": "stream",
     "text": [
      "18.95 %\n"
     ]
    }
   ],
   "source": [
    "#5. Combinación 1 de 8 por combinación 1 de 3 por combinación 1 de 9 ; dividido por combinación 3 de 20\n",
    "result = 100 * combination(1,8) * combination(1,3) * combination(1,9) / combination(3,20)\n",
    "print(\"%.2f %s\" % (result, \"%\"))"
   ]
  },
  {
   "cell_type": "markdown",
   "metadata": {},
   "source": [
    "## Probabilidad condicionada\n",
    "\n",
    "La informacion afecta al *espacio muestral*\n",
    "\n",
    "$$P(A\\mid B) = \\frac{P(A\\cap B)}{P(B)}$$\n"
   ]
  },
  {
   "cell_type": "markdown",
   "metadata": {},
   "source": [
    "## Sucesos independientes\n",
    "\n",
    "Definicion:\n",
    "\n",
    "$$P(A\\mid B) = P(A)$$\n",
    "\n",
    "Propiedades:\n",
    "\n",
    "$$P(A \\cap B) = P(A) \\cdot P(B)$$\n",
    "\n",
    "$$P(A \\mid B) = P(A)$$\n",
    "\n",
    "$$P(B \\mid A) = P(B)$$"
   ]
  },
  {
   "cell_type": "markdown",
   "metadata": {},
   "source": [
    "## Ejercicio\n",
    "\n",
    "Dado el experimento aleatorio, lanzar dos dados:\n",
    "\n",
    "* Sa = sacar un 7 en la suma\n",
    "* Sb = sacar un 3 en uno de los dados\n",
    "* Sc = sacar un 9 en la suma\n",
    "\n",
    "\n",
    "Sa y Sb independientes?  Sb y Sc? \n"
   ]
  },
  {
   "cell_type": "markdown",
   "metadata": {},
   "source": [
    "## Teorema de la probabilidad total y de Bayes\n",
    "\n",
    "### Teorema de la probabilidad total\n",
    "\n",
    "$$P(S) = \\sum_{i=1}^n P(S \\mid S_i)P(S_i)$$\n",
    "\n",
    "### Teorema de Bayes\n",
    "\n",
    "$$P(A \\mid B) = \\frac{P(B \\mid A)P(A)}{P(B)}$$"
   ]
  },
  {
   "cell_type": "markdown",
   "metadata": {},
   "source": [
    "## Ejercicio\n",
    "\n",
    "Ejemplo 19. En una caja A, hay 10 bombillas, de las que 3 no funcionan; en otra caja\n",
    "B hay 8 con 2 fundidas; y en una última caja C hay 12 bombillas de las que tres son\n",
    "defectuosas. Escogida una caja al azar, de la que se extrae, sin mirar, una bombilla:\n",
    "1. ¿Cuál es la probabilidad de que no funcione?\n",
    "2. Si salió una bombilla fundida, ¿cuál es la probabilidad de que fuese de la caja\n",
    "A?"
   ]
  },
  {
   "cell_type": "markdown",
   "metadata": {},
   "source": [
    "P(NF|A) = 3/10\n",
    "P(NF|B) = 2/8\n",
    "P(NF|C) = 3/12\n",
    "P(A) = 10/30\n",
    "P(B) = 8/30\n",
    "P(C) = 12/30"
   ]
  },
  {
   "cell_type": "markdown",
   "metadata": {},
   "source": [
    "Solución 1. Nos piden P(NF)\n",
    "Teorema probabilidad total.\n",
    "P(NF) = P(NF|A)*P(A) + P(NF|B)*P(B) + P(NF|C)*P(C)"
   ]
  },
  {
   "cell_type": "code",
   "execution_count": 70,
   "metadata": {},
   "outputs": [
    {
     "name": "stdout",
     "output_type": "stream",
     "text": [
      "26.67 %\n"
     ]
    }
   ],
   "source": [
    "result = 100 * (3/10 * 10/30 + 2/8 * 8 /30 + 3/12 * 12/30)\n",
    "print(\"%.2f %s\" % (result, \"%\"))"
   ]
  },
  {
   "cell_type": "code",
   "execution_count": 71,
   "metadata": {},
   "outputs": [
    {
     "name": "stdout",
     "output_type": "stream",
     "text": [
      "26.67 %\n"
     ]
    }
   ],
   "source": [
    "result = 100 * (1/3 * (3/10 + 2/8 + 3/12))\n",
    "print(\"%.2f %s\" % (result, \"%\"))"
   ]
  },
  {
   "cell_type": "markdown",
   "metadata": {},
   "source": [
    "Solución 2. Teorema de Bayes\n",
    "P(A|NF) = P(NF|A) * P(A) / P(NF)"
   ]
  },
  {
   "cell_type": "code",
   "execution_count": 72,
   "metadata": {},
   "outputs": [
    {
     "name": "stdout",
     "output_type": "stream",
     "text": [
      "37.50 %\n"
     ]
    }
   ],
   "source": [
    "result = 100 * ((3/10 * 10/30) / (3/10 * 10/30 + 2/8 * 8 /30 + 3/12 * 12/30))\n",
    "print(\"%.2f %s\" % (result, \"%\"))"
   ]
  },
  {
   "cell_type": "code",
   "execution_count": 73,
   "metadata": {},
   "outputs": [
    {
     "name": "stdout",
     "output_type": "stream",
     "text": [
      "37.50 %\n"
     ]
    }
   ],
   "source": [
    "result = 100 * ((3/10) / (3/10+2/8+3/12))\n",
    "print(\"%.2f %s\" % (result, \"%\"))"
   ]
  },
  {
   "cell_type": "markdown",
   "metadata": {},
   "source": [
    "## Ejercicio \n",
    "\n",
    "Sabemos que el 1% de las pacientes que se\n",
    "someten a una mamografia rutinaria tiene de hecho cancer\n",
    "de mama. El 80% de las pacientes enfermas dan positivo.\n",
    "El 9.6% de las pacientes sanas dan positivo en el test.\n",
    "Cual es la probabilidad de que una paciente que ha dado\n",
    "positivo tenga de hecho cancer de mama?"
   ]
  },
  {
   "cell_type": "markdown",
   "metadata": {},
   "source": [
    "Solución.\n",
    "P(cancer) = 0.01\n",
    "P(positivo|cancer) = 0.8\n",
    "P(positivo|sana) = 0.096\n",
    "P(cancer|positivo)?\n",
    "\n",
    "Aplicando teorema de Bayes:\n",
    "P(cancer|positivo) = P(positivo|cancer) * P(cancer) / P(positivo). \n",
    "Tengo todo menos la P(positivo)\n",
    "\n",
    "Aplico el teorema de probabilidad total\n",
    "P(positivo) = P(positivo|cancer) * P(cancer) + P(positivo|sana) * P(sano) = 0.8 * 0.01 + 0.096 * 0.09\n",
    "\n",
    "Sustituyendo tenemos:\n",
    "P(cancer|positivo) = (0.8 * 0.01) / (0.8 * 0.01 + 0.096 * 0.09)"
   ]
  },
  {
   "cell_type": "code",
   "execution_count": 68,
   "metadata": {},
   "outputs": [
    {
     "name": "stdout",
     "output_type": "stream",
     "text": [
      "48.08 %\n"
     ]
    }
   ],
   "source": [
    "result = 100 * (0.8 * 0.01) / (0.8 * 0.01 + 0.096 * 0.09)\n",
    "print(\"%.2f %s\" % (result, \"%\"))"
   ]
  },
  {
   "cell_type": "markdown",
   "metadata": {},
   "source": [
    "## Ejercicio\n",
    "\n",
    "Un aparato tiene dos componentes A Y B. Los fallos en el aparato\n",
    "vienen motivados por fallos en alguna de las componentes. Al cabo de 5 años la\n",
    "componente A ha fallado en el 6 % de los aparatos, la componente B en el 8 % y las\n",
    "dos componentes en el 4 %.\n",
    "1. Los fallos de A y B, ¿son independientes?\n",
    "2. Si B ha fallado, ¿cuál es la probabilidad de que A haya fallado también?"
   ]
  },
  {
   "cell_type": "markdown",
   "metadata": {},
   "source": [
    "Tenemos dos eventos: falla A y falla B\n",
    "\n",
    "P(A) = 0.06\n",
    "P(B) = 0.08\n",
    "P(A y B) = 0.04\n",
    "\n",
    "1. Si son independientes se debe cumplir P(A|B) = P(A)\n",
    "P(A|B) = P(AyB) / P(B) = 0.04 / 0.08 = 0.5\n",
    "P(A) = 0.06.\n",
    "Como no son iguales, entonces No son independientes.\n",
    "\n",
    "2. P(A|B). Lo hemos calculado antes, y es 0.5"
   ]
  },
  {
   "cell_type": "markdown",
   "metadata": {},
   "source": [
    "## Ejercicio \n",
    "\n",
    "De cada lote de 10 ordenadores, se toma una muestra de 4 y se inspeccionan,\n",
    "rechazándose el lote si uno o mas de un ordenador son defectuosos. Si en un\n",
    "lote hay 5 defectuosos, cuál es la probabilidad de que se rechace?"
   ]
  },
  {
   "cell_type": "markdown",
   "metadata": {},
   "source": [
    "El número de combinaciones de coger 4 ordenadores del lote de 10 será una combinación de 4 sobre 10.\n",
    "El número de combinaciones de coger 4 ordenadores sin defectos será una combinación de 4 sobre 5.\n",
    "La probabilidad sería el complementario a esto."
   ]
  },
  {
   "cell_type": "code",
   "execution_count": 86,
   "metadata": {},
   "outputs": [
    {
     "name": "stdout",
     "output_type": "stream",
     "text": [
      "97.62 %\n"
     ]
    }
   ],
   "source": [
    "result = 100 * (1 - (combination(4,5) / combination(4,10)))\n",
    "print(\"%.2f %s\" % (result, \"%\"))"
   ]
  },
  {
   "cell_type": "markdown",
   "metadata": {},
   "source": [
    "## Ejercicio \n",
    "\n",
    "Un banco ha comprobado que la probabilidad de que\n",
    "un cliente con fondos extienda un cheque con fecha equivocada es\n",
    "de 0,01; en cambio todo cliente sin fondos pone una fecha equivocada\n",
    "en sus cheques. El 90 % de los clientes del banco tiene fondos. Se\n",
    "recibe a la fecha de hoy en caja un cheque con fecha equivocada.\n",
    "¿Qué probabilidad hay de que sea de un cliente sin fondos?"
   ]
  },
  {
   "cell_type": "markdown",
   "metadata": {},
   "source": [
    "Solución.\n",
    "Nos preguntan P(no fondos | fe. eq.). Esto sería igual a P(no fondos INT fe.eq.) / P(fe.eq)\n",
    "\n",
    "Vamos a calcular la P(fe.eq. | no fondos) = P(fe.eq INT no fondos) / P(no fondos). Despejamos de aquí la intersección:\n",
    "\n",
    "    P(fe.eq INT no fondos) = P(fe.eq | no fondos) * P(no fondos) = 1 * 0.1 = 0.1\n",
    "    \n",
    "    \n",
    "P(fe.eq) = P(fe.eq INT no fondos) + P(fe.eq INT fondos). Nos hace falta saber P(fe.eq INT fondos).\n",
    "\n",
    "Para ello calculamos P(fe.eq | fondos) = P(fe.eq INT fondos) / P(fondos). Despejamos la intersección:\n",
    "\n",
    "    P(fe.eq INT fondos) = P(fe.eq | fondos) * P(fondos) = 0.01 * 0.9 = 0.009\n",
    "    \n",
    "Ahora podemos calcular P(fe.eq) = 0.1 + 0.009 = 0.109\n",
    "\n",
    "Ahora calculamos lo que nos preguntan:\n",
    "\n",
    "P(no fondos | fe.eq) = 0.1 / 0.109 = 91.74%\n"
   ]
  },
  {
   "cell_type": "code",
   "execution_count": 95,
   "metadata": {},
   "outputs": [
    {
     "name": "stdout",
     "output_type": "stream",
     "text": [
      "91.74 %\n"
     ]
    }
   ],
   "source": [
    "result = 100 * 0.1/0.109\n",
    "print(\"%.2f %s\" % (result, \"%\"))"
   ]
  },
  {
   "cell_type": "markdown",
   "metadata": {},
   "source": [
    "## Ejercicio\n",
    "\n",
    "En un sistema de alarma, la probabilidad de que\n",
    "se produzca un peligro es 0.1. Si éste se produce, la \n",
    "probabilidad de que la alarma funcione es 0.95. La probabilidad\n",
    "de que la alarma funcione sin haber existido peligro es 0.03.\n",
    "Calcule la probabilidad de que habiendo funcionado\n",
    "la alarma no haya existido peligro."
   ]
  },
  {
   "cell_type": "markdown",
   "metadata": {
    "collapsed": true
   },
   "source": [
    "peligro, alarma\n",
    "P(P) = 0.1\n",
    "P(A|P) = 0.95\n",
    "P(A|NP) = 0.03\n",
    "P(NP|A) ?\n",
    "\n",
    "Aplicando el teorema de Bayes:\n",
    "P(NP|A) = P(A|NP) * P(NP) / P(A). Nos falta saber la P(A)\n",
    "\n",
    "Aplicando el teorema de probabilidad total:\n",
    "\n",
    "P(A) = P(A|P)*P(P) + P(A|NP)*P(NP) = 0.95 * 0.1 + 0.03 * 0.9\n",
    "\n",
    "Sustituyendo:\n",
    "\n",
    "P(NP|A) = (0.03 * 0.9) / (0.95 * 0.1 + 0.03 * 0.9)\n"
   ]
  },
  {
   "cell_type": "code",
   "execution_count": 97,
   "metadata": {},
   "outputs": [
    {
     "name": "stdout",
     "output_type": "stream",
     "text": [
      "0.22 %\n"
     ]
    }
   ],
   "source": [
    "result = (0.03 * 0.9) / (0.95 * 0.1 + 0.03 * 0.9)\n",
    "print(\"%.2f %s\" % (result, \"%\"))"
   ]
  }
 ],
 "metadata": {
  "kernelspec": {
   "display_name": "Python 3",
   "language": "python",
   "name": "python3"
  },
  "language_info": {
   "codemirror_mode": {
    "name": "ipython",
    "version": 3
   },
   "file_extension": ".py",
   "mimetype": "text/x-python",
   "name": "python",
   "nbconvert_exporter": "python",
   "pygments_lexer": "ipython3",
   "version": "3.6.3"
  }
 },
 "nbformat": 4,
 "nbformat_minor": 1
}
