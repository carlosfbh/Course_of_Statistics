{
 "cells": [
  {
   "cell_type": "markdown",
   "metadata": {},
   "source": [
    "## Introduccion\n",
    "\n",
    "Experimento aleatorio. Por ejemplo, tirar dados, moneda, esperar al bus, etc...\n",
    "\n",
    "Espacio Muestral: $\\Omega$. Contiene todos los sucesos posibles\n",
    "\n",
    "Sucesos elementales. Es lo más sencillo. En tirar un dado, sería sacar un 1, o un 2. No sería sacar un número > 3\n",
    "\n",
    "Un suceso es un subconjunto del espacio muestral\n",
    "\n",
    "Suceso seguro $\\Omega$ y suceso imposible $\\emptyset$"
   ]
  },
  {
   "cell_type": "markdown",
   "metadata": {},
   "source": [
    "## Ejercicio  \n",
    "\n",
    "Describir el espacio muestral para cada uno de los siguientes experimentos\n",
    "aleatorios:\n",
    "\n",
    "1. 250 personas son seleccionadas en la UPM y se les pregunta si van a votar al\n",
    "candidato A o B.\n",
    "No importa el orden\n",
    "No hay repetición\n",
    "Variación sin repetición de 250 elementos extrayendo 2. 2 ** 250\n",
    "\n",
    "2. Un dado es lanzado cinco veces consecutivas.\n",
    "Importa el orden\n",
    "Hay repetición\n",
    "Variación con repetición de 6 elementos extrayendo 5. 6 ** 5\n",
    "\n",
    "3. Cinco lados son lanzados simultáneamente.\n",
    "No importa el orden\n",
    "Hay repetición\n",
    "Variación con repetición y sin orden. 6 ** 5 / 5!\n",
    "\n",
    "4. Una moneda es lanzada hasta que salen dos caras o dos cruces consecutivas.\n",
    "\n",
    "5. Cuatro objetos diferentes se envasan en paquetes de dos.\n",
    "Importa el orden\n",
    "No hay repetición\n",
    "4! / 2!\n",
    "\n",
    "6. Cuatro bolas son extraídas aleatoriamente y sin reemplazamiento de una urna que contiene ocho bolas blancas y seis azules.\n"
   ]
  },
  {
   "cell_type": "markdown",
   "metadata": {},
   "source": [
    "### Operaciones con sucesos:\n",
    "\n",
    "* Union. La suma de los conjuntos\n",
    "\n",
    "* Interseccion. Lo que tienen en común los conjuntos\n",
    "\n",
    "  * Sucesos incompatibles o disjuntos\n",
    "  \n",
    "    * Disjuntos dos a dos\n",
    "    \n",
    "    * **Particion** del espacio muestral\n",
    "    \n",
    "* Diferencia de sucesos. Le quitas a uno lo que tenga en común con el otro\n",
    "\n",
    "  * Suceso **complementario**\n",
    "  \n",
    "#### Propiedades:\n",
    "\n",
    "* $\\{S_1^c\\}^c = S_1$\n",
    "* $\\Omega^c = \\emptyset$\n",
    "* $\\emptyset^c = \\Omega$\n",
    "* $S_1 \\cup S_1^c = \\Omega$\n",
    "* $S_1 \\cap S_1^c = \\emptyset$\n",
    "* Propiedad conmutativa $$S_1 \\cup S_2 = S_2 \\cup S_1 \\hspace{1cm} S_1 \\cap S_2 = S_2 \\cap S_1$$\n",
    "* Propiedad asociativa $$\\{S_1 \\cup S_2\\} \\cup S_3 = S_1 \\cup \\{S_2 \\cup S_3\\} \\hspace{1cm} \\{S_1 \\cap S_2\\} \\cap S_3 = S_1 \\cap \\{S_2 \\cap S_3\\}$$ \n",
    "* Propiedad distributiva $$S_1 \\cup \\{S_2 \\cap S_3\\} = \\{S_1 \\cup S_2\\} \\cap \\{S_1 \\cup S_3\\} \\hspace{1cm} S_1 \\cap \\{S_2 \\cup S_3\\} = \\{S_1 \\cap S_2\\} \\cup \\{S_1 \\cap S_3\\}$$ \n",
    "* Leyes de Morgan $$\\{S_1 \\cup S_2\\}^c = S_1^c \\cap S_2^c \\hspace{1cm} \\{S_1 \\cap S_2\\}^c = S_1^c \\cup S_2^c$$"
   ]
  },
  {
   "cell_type": "markdown",
   "metadata": {},
   "source": [
    "## Probabilidad\n",
    "\n",
    "Espacios probabilisticos $(\\Omega, \\mathcal{A}, P)$\n",
    "  \n",
    "#### Propiedades de un espacio probabilistico:\n",
    "\n",
    "1) $P(S^c) = 1 - P(S)$\n",
    "  \n",
    "2) $P(\\emptyset) = 0$\n",
    "  \n",
    "3) Si $S_1 \\subset S_2$:\n",
    "  * $P(S_1) \\leq P(S_2)$\n",
    "  * $P(S_1 - S_2) = P(S_2) - P(S_1)$\n",
    "  \n",
    "4) $P(S_1 \\cup S_2) = P(S_1) + P(S_2) - P(S_1 \\cap S_2)$\n",
    "\n",
    "#### La regla de Laplace\n",
    "\n",
    "Para un espacio muestral $\\Omega$, con un conjunto finito de $\\omega_n$ sucesos elementales:\n",
    "\n",
    "$$P(\\omega_i) = \\frac{1}{n}, \\hspace{1cm} i = 1,2,···, n$$"
   ]
  },
  {
   "cell_type": "markdown",
   "metadata": {},
   "source": [
    "## Ejercicio\n",
    "\n",
    "#### ¿Cuál es la probabilidad de que al lanzar un dado dos veces se obtenga una suma de puntos de siete?"
   ]
  },
  {
   "cell_type": "markdown",
   "metadata": {},
   "source": [
    "El suceso es que sumen 7.\n",
    "Suceso elemental es el resultado de un dado junto con el resultado del segundo dado _ _\n",
    "Tengo un total de 36 sucesos elementales posibles.\n",
    "\n",
    "Cuantos sucesos elementales hay que sumen 7. Tenemos 6\n",
    "\n",
    "Por tanto la probabilidad será 6 / 36. "
   ]
  },
  {
   "cell_type": "markdown",
   "metadata": {},
   "source": [
    "## Ejercicio\n",
    "\n",
    "El 60 % de la población de una determinada ciudad\n",
    "lee el periódico A, el 35 % el B y un 15 % ambos. Elegido un\n",
    "ciudadano al azar, calcular la probabilidad de:\n",
    "1. ser lector de algún periódico: P(A unión B)\n",
    "2. no ser lector de ninguno; P(A unión B)complementario\n",
    "3. leer solo el periódico A; P(A-B)\n",
    "4. leer solo uno de los dos periódicos. P(A-B) unión P(B-A)"
   ]
  },
  {
   "cell_type": "code",
   "execution_count": 1,
   "metadata": {},
   "outputs": [
    {
     "data": {
      "text/plain": [
       "0.7999999999999999"
      ]
     },
     "execution_count": 1,
     "metadata": {},
     "output_type": "execute_result"
    }
   ],
   "source": [
    "0.6 + 0.35 - 0.15"
   ]
  },
  {
   "cell_type": "code",
   "execution_count": 3,
   "metadata": {},
   "outputs": [
    {
     "data": {
      "text/plain": [
       "0.20000000000000007"
      ]
     },
     "execution_count": 3,
     "metadata": {},
     "output_type": "execute_result"
    }
   ],
   "source": [
    "1 - (0.6 + 0.35 - 0.15)"
   ]
  },
  {
   "cell_type": "code",
   "execution_count": null,
   "metadata": {
    "collapsed": true
   },
   "outputs": [],
   "source": []
  },
  {
   "cell_type": "markdown",
   "metadata": {},
   "source": [
    "## Ejercicio \n",
    "\n",
    "En una baraja de 40 cartas se sacan tres simultáneamente. ¿Cuál es la\n",
    "probabilidad de que sean oros?\n"
   ]
  },
  {
   "cell_type": "markdown",
   "metadata": {},
   "source": [
    "## Ejercicio \n",
    "Dos niños escriben, cada uno por separado, un número de tres dígitos\n",
    "utilizando las cifras {4, 7, 8}, cada cifra una sola vez. Hallar la probabilidad de que\n",
    "los dos formen el mismo número"
   ]
  },
  {
   "cell_type": "markdown",
   "metadata": {},
   "source": [
    "## Ejercicio \n",
    "\n",
    "Una caja contiene ocho bolas rojas, tres blancas y nueve azules. Si se\n",
    "sacan tres bolas al azar, determínese la probabilidad de que:\n",
    "1. las tres sean rojas;\n",
    "2. las tres sean blancas;\n",
    "3. dos sean rojas y una blanca;\n",
    "4. al menos una sea blanca;\n",
    "5. sea una de cada color."
   ]
  },
  {
   "cell_type": "markdown",
   "metadata": {},
   "source": [
    "## Probabilidad condicionada\n",
    "\n",
    "La informacion afecta al *espacio muestral*\n",
    "\n",
    "$$P(A\\mid B) = \\frac{P(A\\cap B)}{P(B)}$$\n"
   ]
  },
  {
   "cell_type": "markdown",
   "metadata": {},
   "source": [
    "## Sucesos independientes\n",
    "\n",
    "Definicion:\n",
    "\n",
    "$$P(A\\mid B) = P(A)$$\n",
    "\n",
    "Propiedades:\n",
    "\n",
    "$$P(A \\cap B) = P(A) \\cdot P(B)$$\n",
    "\n",
    "$$P(A \\mid B) = P(A)$$\n",
    "\n",
    "$$P(B \\mid A) = P(B)$$"
   ]
  },
  {
   "cell_type": "markdown",
   "metadata": {},
   "source": [
    "## Ejercicio\n",
    "\n",
    "Dado el experimento aleatorio, lanzar dos dados:\n",
    "\n",
    "* Sa = sacar un 7 en la suma\n",
    "* Sb = sacar un 3 en uno de los dados\n",
    "* Sc = sacar un 9 en la suma\n",
    "\n",
    "\n",
    "Sa y Sb independientes?  Sb y Sc? \n"
   ]
  },
  {
   "cell_type": "markdown",
   "metadata": {},
   "source": [
    "## Teorema de la probabilidad total y de Bayes\n",
    "\n",
    "### Teorema de la probabilidad total\n",
    "\n",
    "$$P(S) = \\sum_{i=1}^n P(S \\mid S_i)P(S_i)$$\n",
    "\n",
    "### Teorema de Bayes\n",
    "\n",
    "$$P(A \\mid B) = \\frac{P(B \\mid A)P(A)}{P(B)}$$"
   ]
  },
  {
   "cell_type": "markdown",
   "metadata": {},
   "source": [
    "## Ejercicio\n",
    "\n",
    "Ejemplo 19. En una caja A, hay 10 bombillas, de las que 3 no funcionan; en otra caja\n",
    "B hay 8 con 2 fundidas; y en una última caja C hay 12 bombillas de las que tres son\n",
    "defectuosas. Escogida una caja al azar, de la que se extrae, sin mirar, una bombilla:\n",
    "1. ¿Cuál es la probabilidad de que no funcione?\n",
    "2. Si salió una bombilla fundida, ¿cuál es la probabilidad de que fuese de la caja\n",
    "A?"
   ]
  },
  {
   "cell_type": "markdown",
   "metadata": {},
   "source": [
    "## Ejercicio \n",
    "\n",
    "Sabemos que el 1% de las pacientes que se\n",
    "someten a una mamografia rutinaria tiene de hecho cancer\n",
    "de mama. El 80% de las pacientes enfermas dan positivo.\n",
    "El 9.6% de las pacientes sanas dan positivo en el test.\n",
    "Cual es la probabilidad de que una paciente que ha dado\n",
    "positivo tenga de hecho cancer de mama?"
   ]
  },
  {
   "cell_type": "markdown",
   "metadata": {},
   "source": [
    "## Ejercicio\n",
    "\n",
    "Un aparato tiene dos componentes A Y B. Los fallos en el aparato\n",
    "vienen motivados por fallos en alguna de las componentes. Al cabo de 5 años la\n",
    "componente A ha fallado en el 6 % de los aparatos, la componente B en el 8 % y las\n",
    "dos componentes en el 4 %.\n",
    "1. Los fallos de A y B, ¿son independientes?\n",
    "2. Si B ha fallado, ¿cuál es la probabilidad de que A haya fallado también?"
   ]
  },
  {
   "cell_type": "markdown",
   "metadata": {},
   "source": [
    "## Ejercicio \n",
    "\n",
    "De cada lote de 10 ordenadores, se toma una muestra de 4 y se inspeccionan,\n",
    "rechazándose el lote si uno o mas de un ordenador son defectuosos. Si en un\n",
    "lote hay 5 defectuosos, cuál es la probabilidad de que se rechace?"
   ]
  },
  {
   "cell_type": "markdown",
   "metadata": {},
   "source": [
    "## Ejercicio \n",
    "\n",
    "Un banco ha comprobado que la probabilidad de que\n",
    "un cliente con fondos extienda un cheque con fecha equivocada es\n",
    "de 0,01; en cambio todo cliente sin fondos pone una fecha equivocada\n",
    "en sus cheques. El 90 % de los clientes del banco tiene fondos. Se\n",
    "recibe a la fecha de hoy en caja un cheque con fecha equivocada.\n",
    "¿Qué probabilidad hay de que sea de un cliente sin fondos?"
   ]
  },
  {
   "cell_type": "markdown",
   "metadata": {},
   "source": [
    "## Ejercicio\n",
    "\n",
    "En un sistema de alarma, la probabilidad de que\n",
    "se produzca un peligro es 0.1. Si éste se produce, la \n",
    "probabilidad de que la alarma funcione es 0.95. La probabilidad\n",
    "de que la alarma funcione sin haber existido peligro es 0.03.\n",
    "Calcule la probabilidad de que habiendo funcionado\n",
    "la alarma no haya existido peligro."
   ]
  },
  {
   "cell_type": "code",
   "execution_count": null,
   "metadata": {
    "collapsed": true
   },
   "outputs": [],
   "source": []
  }
 ],
 "metadata": {
  "kernelspec": {
   "display_name": "Python 3",
   "language": "python",
   "name": "python3"
  },
  "language_info": {
   "codemirror_mode": {
    "name": "ipython",
    "version": 3
   },
   "file_extension": ".py",
   "mimetype": "text/x-python",
   "name": "python",
   "nbconvert_exporter": "python",
   "pygments_lexer": "ipython3",
   "version": "3.6.3"
  }
 },
 "nbformat": 4,
 "nbformat_minor": 1
}
