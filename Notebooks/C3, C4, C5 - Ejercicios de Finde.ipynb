{
 "cells": [
  {
   "cell_type": "markdown",
   "metadata": {},
   "source": [
    "## Probabilidad"
   ]
  },
  {
   "cell_type": "code",
   "execution_count": 1,
   "metadata": {
    "collapsed": true
   },
   "outputs": [],
   "source": [
    "def factorial(n):\n",
    "    if n == 0:\n",
    "        return 1\n",
    "    else:\n",
    "        return n * factorial(n-1)\n",
    "    \n",
    "def variation_nr(n,m):\n",
    "    return factorial(m)/factorial(m-n)\n",
    "\n",
    "def variation_r(n,m):\n",
    "    return m ** n\n",
    "\n",
    "def variation_rno(n,m):\n",
    "    return (m ** n) / factorial(n)\n",
    "\n",
    "def permutation(m):\n",
    "    return factorial(m)\n",
    "\n",
    "def combination(n,m):\n",
    "    return (factorial(m)) / (factorial(m-n) * factorial(n))"
   ]
  },
  {
   "cell_type": "markdown",
   "metadata": {},
   "source": [
    "## Exo\n",
    "Si tres niños escriben al azar una de las cifras 1, 2, 3, ¿cuál es al probabilidad\n",
    "de que los tres escriban la misma?"
   ]
  },
  {
   "cell_type": "code",
   "execution_count": 8,
   "metadata": {},
   "outputs": [
    {
     "name": "stdout",
     "output_type": "stream",
     "text": [
      "11.11 %\n"
     ]
    }
   ],
   "source": [
    "#Un ejemplo sería niño 1: 2, niño 2: 3 y niño 3: 2. Es decir tres números formado por las tres cifras\n",
    "#Importa el orden y hay repetición. Es una variación con repetición de 3 donde saco 3.\n",
    "#Sólo hay 3 casos que cumplen con la condición de que escriban la misma\n",
    "\n",
    "result = 100* (3 / variation_r(3,3))\n",
    "print(\"%.2f %s\" %(result, \"%\"))"
   ]
  },
  {
   "cell_type": "markdown",
   "metadata": {},
   "source": [
    "## Exo\n",
    "Un examen consta de 14 temas. Se eligen 2 al azar y el alumno deberá\n",
    "escoger uno para contestarlo. Calcular la probabilidad de que a un alumno que ha\n",
    "preparado 5 temas le toque al menos uno que sabe."
   ]
  },
  {
   "cell_type": "code",
   "execution_count": 10,
   "metadata": {},
   "outputs": [
    {
     "name": "stdout",
     "output_type": "stream",
     "text": [
      "50.55 %\n"
     ]
    }
   ],
   "source": [
    "#Voy a calcular la probabilidad de que al elegir dos temas al azar, ninguno de ellos se sabe el alumno. El resultado\n",
    "#será la inversa de eso.\n",
    "#Ejemplo, temas 1 y 5. El total de casos es combinación de 14 elementos y se extraen 2.\n",
    "#Los casos que se cumplen son combinaciones de 10 elementos y se extraen 2.\n",
    "\n",
    "result = 100 * (1 - (combination(2, 10) / combination(2, 14)))\n",
    "print(\"%.2f %s\" %(result, \"%\"))"
   ]
  },
  {
   "cell_type": "markdown",
   "metadata": {},
   "source": [
    "## Exo\n",
    "\n",
    "Una aseguradora tiene clientes de riesgo alto, medio y bajo. Estos clientes\n",
    "tienen probabilidades 0.02, 0.01 y 0.0025 de rellenar un impreso de reclamación.\n",
    "Si la proporción de clientes de alto riesgo es 0.1, de riesgo medio 0.2 y de bajo riesgo\n",
    "es 0.7. ¿Cuál es la probabilidad de que un impreso rellenado se de un cliente de alto\n",
    "riesgo?\n"
   ]
  },
  {
   "cell_type": "code",
   "execution_count": 12,
   "metadata": {},
   "outputs": [
    {
     "name": "stdout",
     "output_type": "stream",
     "text": [
      "34.78 %\n"
     ]
    }
   ],
   "source": [
    "# Datos que tenemos:\n",
    "# P(CA) = 0.1\n",
    "# P(CM) = 0.2\n",
    "# P(CB) = 0.7\n",
    "# P(rell|CA) = 0.02\n",
    "# P(rell|CM) = 0.01\n",
    "# P(rell|CB) = 0.0025\n",
    "# P(CA|rell) ?\n",
    "\n",
    "# P(CA|rell) = P(rell|CA) * P(CA) / P(rell)\n",
    "# P(rell) = P(rell|CA) * P(CA) + P(rell|CM) * P(CM) + P(rell|CB) * P(CB)\n",
    "\n",
    "result = 100 * (0.02 * 0.1) / (0.02 * 0.1 + 0.01 * 0.2 + 0.0025 * 0.7)\n",
    "print(\"%.2f %s\" %(result, \"%\"))"
   ]
  },
  {
   "cell_type": "markdown",
   "metadata": {},
   "source": [
    "## Exo\n",
    "\n",
    "Ejercicio 34. Una empresa dedicada al transporte público explota tres lineas de una\n",
    "gran ciudad, de manera que el 60 % de los autobuses cubren el servicio de la linea\n",
    "1, el 30 % cubren el servicio de la linea 2 y el 10 % cubren el servicio de la linea 3. Se\n",
    "sabe que la probabilidad de que , diariamente, un autobús se averíe es:\n",
    "* 2 % en la línea 1,\n",
    "* 4 % en la línea 2,\n",
    "* 1 % en la línea 3.\n",
    "\n",
    "Calcule\n",
    "\n",
    "1. La probabilidad de que un autobús sufra un día una avería.\n",
    "2. Sabiendo que el autobús ha sufrido una avería, cuál es la probabilidad de que\n",
    "preste servicio en la línea 1?\n"
   ]
  },
  {
   "cell_type": "code",
   "execution_count": 13,
   "metadata": {
    "collapsed": true
   },
   "outputs": [],
   "source": [
    "# P(L1) = 0.6\n",
    "# P(L2) = 0.3\n",
    "# P(L3) = 0.1\n",
    "# P(A|L1) = 0.02\n",
    "# P(A|L2) = 0.04\n",
    "# P(A|L3) = 0.01"
   ]
  },
  {
   "cell_type": "code",
   "execution_count": 14,
   "metadata": {},
   "outputs": [
    {
     "name": "stdout",
     "output_type": "stream",
     "text": [
      "2.50 %\n"
     ]
    }
   ],
   "source": [
    "# 1. P(A) = P(A|L1) * P(L1) + P(A|L2) * P(L2) + P(A|L3) * P(L3)\n",
    "result1 = 100 * (0.02 * 0.6 + 0.04 * 0.3 + 0.01 * 0.1)\n",
    "print(\"%.2f %s\" %(result1, \"%\"))"
   ]
  },
  {
   "cell_type": "code",
   "execution_count": 17,
   "metadata": {},
   "outputs": [
    {
     "name": "stdout",
     "output_type": "stream",
     "text": [
      "48.00 %\n"
     ]
    }
   ],
   "source": [
    "# 2. P(L1|A) = P(A|L1) * P(L1) / P(A)\n",
    "result2 = 100 * (0.02 * 0.6 / (result1/100))\n",
    "print(\"%.2f %s\" %(result2, \"%\"))"
   ]
  },
  {
   "cell_type": "markdown",
   "metadata": {},
   "source": [
    "## Variable aleatoria discreta"
   ]
  },
  {
   "cell_type": "markdown",
   "metadata": {},
   "source": [
    "El número de pinchazos medio en los neumáticos de cierto vehículo\n",
    "industrial es de 0.3 por cada 50.000 km. Si el vehículo recorre 100.000 km, se pide:\n",
    "1. probabilidad de que no tenga pinchazos,\n",
    "2. probabilidad de que tenga menos de tres pinchazos,\n",
    "3. número de km. recorridos para que la probabilidad de que no tenga ningún\n",
    "pinchazo sea 0.4066.\n"
   ]
  },
  {
   "cell_type": "code",
   "execution_count": 66,
   "metadata": {},
   "outputs": [
    {
     "name": "stdout",
     "output_type": "stream",
     "text": [
      "Populating the interactive namespace from numpy and matplotlib\n"
     ]
    }
   ],
   "source": [
    "#Es una distribución de poisson en la lambda para 100.000 km será 0.3*2\n",
    "from scipy import stats\n",
    "%pylab inline\n",
    "mi_poisson = stats.poisson(0.6)"
   ]
  },
  {
   "cell_type": "code",
   "execution_count": 67,
   "metadata": {},
   "outputs": [
    {
     "name": "stdout",
     "output_type": "stream",
     "text": [
      "54.88 %\n"
     ]
    }
   ],
   "source": [
    "# 1. Probabilidad de no tener pinchazos es P(x=0)\n",
    "result = 100 * mi_poisson.pmf(0)\n",
    "print(\"%.2f %s\" %(result, \"%\"))"
   ]
  },
  {
   "cell_type": "code",
   "execution_count": 69,
   "metadata": {},
   "outputs": [
    {
     "name": "stdout",
     "output_type": "stream",
     "text": [
      "97.69 %\n"
     ]
    }
   ],
   "source": [
    "# 2. Probabilidad de que tenga menos de tres pinchazos será P(x<=2) \n",
    "result = 100 * mi_poisson.cdf(2)\n",
    "print(\"%.2f %s\" %(result, \"%\"))"
   ]
  },
  {
   "cell_type": "code",
   "execution_count": 91,
   "metadata": {},
   "outputs": [
    {
     "name": "stdout",
     "output_type": "stream",
     "text": [
      "150000\n"
     ]
    }
   ],
   "source": [
    "# 3. Método ppf? No valdría, porque el ppf es la inversa del cdf.\n",
    "for kl in range(1, 20):\n",
    "    k = 10000 * kl\n",
    "    l = 0.3 * k / 50000\n",
    "    #print(k)\n",
    "    #print(stats.poisson(l).pmf(0))\n",
    "result = 150000\n",
    "print(result)"
   ]
  },
  {
   "cell_type": "code",
   "execution_count": 51,
   "metadata": {},
   "outputs": [
    {
     "data": {
      "image/png": "[encoded data removed]",
      "text/plain": [
       "<matplotlib.figure.Figure at 0x13e553aa5f8>"
      ]
     },
     "metadata": {},
     "output_type": "display_data"
    }
   ],
   "source": [
    "ne = np.arange(0,10)\n",
    "pe = list(map(lambda e: mi_poisson.pmf(e), ne))\n",
    "plt.plot(ne, pe)\n",
    "plt.show()"
   ]
  },
  {
   "cell_type": "code",
   "execution_count": 92,
   "metadata": {},
   "outputs": [
    {
     "data": {
      "image/png": "[encoded data removed]",
      "text/plain": [
       "<matplotlib.figure.Figure at 0x13e513eaf28>"
      ]
     },
     "metadata": {},
     "output_type": "display_data"
    }
   ],
   "source": [
    "ne = np.arange(0,4)\n",
    "pe = list(map(lambda e: mi_poisson.cdf(e), ne))\n",
    "plt.plot(ne, pe)\n",
    "plt.show()"
   ]
  },
  {
   "cell_type": "code",
   "execution_count": null,
   "metadata": {
    "collapsed": true
   },
   "outputs": [],
   "source": []
  },
  {
   "cell_type": "markdown",
   "metadata": {},
   "source": [
    "## Exo\n",
    "\n",
    "En un puesto de feria se ofrece la posibilidad de lanzar a ciegas un\n",
    "dardo a unos globos. Si se consigue reventar un globo, se recibe un premio igual a\n",
    "una cantidad oculta tras el globo. Supongamos que la probabilidad de acertar con\n",
    "algún globo es 1/3.\n",
    "Los premios se distribuyen de la siguiente manera:\n",
    "* 40 % de premios de 0,50 euros\n",
    "* 30 % de premios de 1 euros\n",
    "* 20 % de premios de 2 euros\n",
    "* 10 % de premios de 6 euros\n",
    "\n",
    "\n",
    "Si cada lanzamiento cuesta 1 euro, ¿cuál es la \"ganancia.esperada del dueño del\n",
    "puesto en cada lanzamiento?\n"
   ]
  },
  {
   "cell_type": "code",
   "execution_count": 86,
   "metadata": {},
   "outputs": [
    {
     "name": "stdout",
     "output_type": "stream",
     "text": [
      "0.00\n"
     ]
    }
   ],
   "source": [
    "ganancias = np.array([1, 0.5, 0, -1, -5])\n",
    "probab = np.array([1/3, 0.4*2/3, 0.3*2/3, 0.2*2/3, 0.1*2/3])\n",
    "result = sum(probab * ganancias)\n",
    "print(\"%.2f\" %(result))"
   ]
  },
  {
   "cell_type": "markdown",
   "metadata": {},
   "source": [
    "## Exo\n",
    "\n",
    "Una prueba consta de 200 preguntas de verdadero o falso, para un\n",
    "alumno que responde al azar.\n",
    "1. ¿Cuál es la probabilidad de que acierte como máximo 50 preguntas?\n",
    "2. ¿Cuál es la probabilidad de que acierte más de 50 y menos de 100 preguntas?\n",
    "3. ¿Cuál es la probabilidad de que acierte más 120 preguntas?\n"
   ]
  },
  {
   "cell_type": "code",
   "execution_count": 58,
   "metadata": {},
   "outputs": [
    {
     "name": "stdout",
     "output_type": "stream",
     "text": [
      "0.00 %\n"
     ]
    }
   ],
   "source": [
    "p = 0.5\n",
    "n = 200\n",
    "mi_binomial = stats.binom(n,p)\n",
    "result = 100 * mi_binomial.cdf(50)\n",
    "print(\"%.2f %s\" %(result, \"%\"))"
   ]
  },
  {
   "cell_type": "code",
   "execution_count": 59,
   "metadata": {},
   "outputs": [
    {
     "name": "stdout",
     "output_type": "stream",
     "text": [
      "52.82 %\n"
     ]
    }
   ],
   "source": [
    "result = 100 * (mi_binomial.cdf(100) - mi_binomial.cdf(50))\n",
    "print(\"%.2f %s\" %(result, \"%\"))"
   ]
  },
  {
   "cell_type": "code",
   "execution_count": 60,
   "metadata": {},
   "outputs": [
    {
     "name": "stdout",
     "output_type": "stream",
     "text": [
      "0.18 %\n"
     ]
    }
   ],
   "source": [
    "result = 100 * (1 - mi_binomial.cdf(120))\n",
    "print(\"%.2f %s\" %(result, \"%\"))"
   ]
  },
  {
   "cell_type": "markdown",
   "metadata": {},
   "source": [
    "## Variable aleatoria continua"
   ]
  },
  {
   "cell_type": "markdown",
   "metadata": {},
   "source": [
    "## Exo\n",
    "\n",
    "Supongamos que el consumo familiar de un cierto producto se distribuye\n",
    "como una variable aleatoria de distribución uniforme, con esperanza igual a 10 y\n",
    "varianza igual a 1. Determine la probabilidad de que dicho consumo esté comprendido\n",
    "entre 8 y 12 unidades."
   ]
  },
  {
   "cell_type": "code",
   "execution_count": 118,
   "metadata": {
    "collapsed": true
   },
   "outputs": [],
   "source": [
    "import math"
   ]
  },
  {
   "cell_type": "code",
   "execution_count": 122,
   "metadata": {
    "collapsed": true
   },
   "outputs": [],
   "source": [
    "mi_uniforme = stats.uniform(loc = 10-math.sqrt(3), scale = 2*math.sqrt(3))"
   ]
  },
  {
   "cell_type": "code",
   "execution_count": 123,
   "metadata": {},
   "outputs": [
    {
     "data": {
      "text/plain": [
       "10.0"
      ]
     },
     "execution_count": 123,
     "metadata": {},
     "output_type": "execute_result"
    }
   ],
   "source": [
    "mi_uniforme.mean()"
   ]
  },
  {
   "cell_type": "code",
   "execution_count": 124,
   "metadata": {},
   "outputs": [
    {
     "data": {
      "text/plain": [
       "0.99999999999999989"
      ]
     },
     "execution_count": 124,
     "metadata": {},
     "output_type": "execute_result"
    }
   ],
   "source": [
    "mi_uniforme.var()"
   ]
  },
  {
   "cell_type": "code",
   "execution_count": 125,
   "metadata": {},
   "outputs": [
    {
     "name": "stdout",
     "output_type": "stream",
     "text": [
      "100.00 %\n"
     ]
    }
   ],
   "source": [
    "result = 100 * (mi_uniforme.cdf(12) - mi_uniforme.cdf(8))\n",
    "print(\"%.2f %s\" %(result, \"%\"))"
   ]
  },
  {
   "cell_type": "code",
   "execution_count": 126,
   "metadata": {
    "collapsed": true
   },
   "outputs": [],
   "source": [
    "from sympy import *"
   ]
  },
  {
   "cell_type": "code",
   "execution_count": 127,
   "metadata": {
    "collapsed": true
   },
   "outputs": [],
   "source": [
    "a=Symbol(\"a\")\n",
    "b=Symbol(\"b\")"
   ]
  },
  {
   "cell_type": "code",
   "execution_count": 132,
   "metadata": {},
   "outputs": [
    {
     "data": {
      "text/plain": [
       "[{a: -sqrt(3) + 10, b: sqrt(3) + 10}, {a: sqrt(3) + 10, b: -sqrt(3) + 10}]"
      ]
     },
     "execution_count": 132,
     "metadata": {},
     "output_type": "execute_result"
    }
   ],
   "source": [
    "solve([(a+b)/2-10,((b-a)**2)/12-1])"
   ]
  }
 ],
 "metadata": {
  "kernelspec": {
   "display_name": "Python 3",
   "language": "python",
   "name": "python3"
  },
  "language_info": {
   "codemirror_mode": {
    "name": "ipython",
    "version": 3
   },
   "file_extension": ".py",
   "mimetype": "text/x-python",
   "name": "python",
   "nbconvert_exporter": "python",
   "pygments_lexer": "ipython3",
   "version": "3.6.3"
  }
 },
 "nbformat": 4,
 "nbformat_minor": 2
}
