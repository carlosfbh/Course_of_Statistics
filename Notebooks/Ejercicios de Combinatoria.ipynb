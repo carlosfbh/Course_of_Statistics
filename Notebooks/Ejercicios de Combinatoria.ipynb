{
 "cells": [
  {
   "cell_type": "markdown",
   "metadata": {},
   "source": [
    "# Variaciones"
   ]
  },
  {
   "cell_type": "markdown",
   "metadata": {},
   "source": [
    "## Exo 1\n",
    "\n",
    "¿Cuántos números de tres cifras diferentes se pueden formar con los dígitos: 1, 2, 3, 4 y 5?"
   ]
  },
  {
   "cell_type": "code",
   "execution_count": 5,
   "metadata": {},
   "outputs": [
    {
     "data": {
      "text/plain": [
       "60.0"
      ]
     },
     "execution_count": 5,
     "metadata": {},
     "output_type": "execute_result"
    }
   ],
   "source": [
    "#Decimos que no hay repetición\n",
    "#El orden sí importa\n",
    "#Caso de variación sin repetición. De 5 elementos y extraigo 3\n",
    "import math\n",
    "math.factorial(5)/math.factorial(2)"
   ]
  },
  {
   "cell_type": "markdown",
   "metadata": {},
   "source": [
    "## Exo 2\n",
    "\n",
    "¿De cuántas formas diferentes se pueden cubrir los puestos de presidente, vicepresidente y tesorero, (una persona no puede ocupar mas de un puesto), de\n",
    "un club de fútbol sabiendo que hay 12 posibles candidatos?."
   ]
  },
  {
   "cell_type": "code",
   "execution_count": 6,
   "metadata": {},
   "outputs": [
    {
     "data": {
      "text/plain": [
       "1320.0"
      ]
     },
     "execution_count": 6,
     "metadata": {},
     "output_type": "execute_result"
    }
   ],
   "source": [
    "#No hay repetición\n",
    "#El orden sí importa\n",
    "#Caso de variación sin repetición. De 12 elementos y extraigo 3\n",
    "math.factorial(12)/math.factorial(9)\n"
   ]
  },
  {
   "cell_type": "markdown",
   "metadata": {},
   "source": [
    "## Exo 3\n",
    "\n",
    "¿De cuantos partidos consta una liguilla formada por cuatro equipos?"
   ]
  },
  {
   "cell_type": "code",
   "execution_count": 7,
   "metadata": {},
   "outputs": [
    {
     "data": {
      "text/plain": [
       "12.0"
      ]
     },
     "execution_count": 7,
     "metadata": {},
     "output_type": "execute_result"
    }
   ],
   "source": [
    "#No hay repetición\n",
    "#Importa el orden\n",
    "#Variación de 4 elementos y extraigo 2\n",
    "math.factorial(4)/math.factorial(2)"
   ]
  },
  {
   "cell_type": "markdown",
   "metadata": {},
   "source": [
    "## Exo 4\n",
    "\n",
    "A un concurso literario se han presentado 10 candidatos con sus novelas.\n",
    "El cuadro de honor lo forman el ganador, el finalista y un accésit. ¿Cuántos cuadros\n",
    "de honor se pueden formar?"
   ]
  },
  {
   "cell_type": "code",
   "execution_count": 8,
   "metadata": {},
   "outputs": [
    {
     "data": {
      "text/plain": [
       "720.0"
      ]
     },
     "execution_count": 8,
     "metadata": {},
     "output_type": "execute_result"
    }
   ],
   "source": [
    "#No hay repetición\n",
    "#Importa el orden\n",
    "#Variación 10 elementos y extraigo 3\n",
    "math.factorial(10)/math.factorial(7)"
   ]
  },
  {
   "cell_type": "markdown",
   "metadata": {},
   "source": [
    "# Permutaciones"
   ]
  },
  {
   "cell_type": "markdown",
   "metadata": {},
   "source": [
    "## Exo 5\n",
    "\n",
    "¿Cuántos números de 5 cifras diferentes se pueden formar con los dígitos 1, 2, 3, 4 y 5?\n"
   ]
  },
  {
   "cell_type": "code",
   "execution_count": 10,
   "metadata": {},
   "outputs": [
    {
     "data": {
      "text/plain": [
       "120"
      ]
     },
     "execution_count": 10,
     "metadata": {},
     "output_type": "execute_result"
    }
   ],
   "source": [
    "#Esto es lo mismo que las variaciones pero extraigo los mismos elementos que los que tengo.\n",
    "#Este caso es una permutación\n",
    "math.factorial(5)"
   ]
  },
  {
   "cell_type": "markdown",
   "metadata": {},
   "source": [
    "## Exo 6\n",
    "\n",
    "¿De cuántas formas distintas pueden sentarse ocho personas en una fila\n",
    "de butacas?."
   ]
  },
  {
   "cell_type": "code",
   "execution_count": 11,
   "metadata": {},
   "outputs": [
    {
     "data": {
      "text/plain": [
       "40320"
      ]
     },
     "execution_count": 11,
     "metadata": {},
     "output_type": "execute_result"
    }
   ],
   "source": [
    "math.factorial(8)"
   ]
  },
  {
   "cell_type": "markdown",
   "metadata": {},
   "source": [
    "## Exo 7\n",
    "\n",
    "Cuatro libros distintos de matemáticas, seis diferentes de física y dos\n",
    "diferentes de química se colocan en un estante. De cuántas formas es posibles ordenarlos\n",
    "si:\n",
    "1. Los libros de cada asignatura deben estar juntos.\n",
    "2. Solamente los libros de matemáticas deben estar juntos.\n"
   ]
  },
  {
   "cell_type": "code",
   "execution_count": 13,
   "metadata": {},
   "outputs": [
    {
     "data": {
      "text/plain": [
       "207360"
      ]
     },
     "execution_count": 13,
     "metadata": {},
     "output_type": "execute_result"
    }
   ],
   "source": [
    "math.factorial(4) * math.factorial(6) * math.factorial(2) * math.factorial(3)"
   ]
  },
  {
   "cell_type": "code",
   "execution_count": 14,
   "metadata": {},
   "outputs": [
    {
     "data": {
      "text/plain": [
       "8709120"
      ]
     },
     "execution_count": 14,
     "metadata": {},
     "output_type": "execute_result"
    }
   ],
   "source": [
    "math.factorial(4) * math.factorial(9)"
   ]
  },
  {
   "cell_type": "markdown",
   "metadata": {},
   "source": [
    "# Variaciones con repetición"
   ]
  },
  {
   "cell_type": "markdown",
   "metadata": {},
   "source": [
    "## Exo 8\n",
    "\n",
    " ¿Cuántos número de tres cifras se pueden formar con los números: 1, 2, 3, 4 y 5? y con repetición"
   ]
  },
  {
   "cell_type": "code",
   "execution_count": 16,
   "metadata": {},
   "outputs": [
    {
     "data": {
      "text/plain": [
       "3125"
      ]
     },
     "execution_count": 16,
     "metadata": {},
     "output_type": "execute_result"
    }
   ],
   "source": [
    "5 ** 5"
   ]
  },
  {
   "cell_type": "markdown",
   "metadata": {},
   "source": [
    "## Exo 9\n",
    "\n",
    "Halle el número de capicúas de 8 cifras. ¿Cuántos hay de 9 cifras?"
   ]
  },
  {
   "cell_type": "markdown",
   "metadata": {},
   "source": [
    "# Combinaciones"
   ]
  },
  {
   "cell_type": "markdown",
   "metadata": {},
   "source": [
    "## Exo 10\n",
    "\n",
    "A una clase de ingles asisten 5 estudiantes, María (M), Juan (J), Arantxa\n",
    "(A), Pedro (P) y Belén (B). La profesora quiere ver los distintos grupos de 1, 2, 3, 4\n",
    "y 5 estudiantes que puede hacer, con el objetivo de que realicen trabajos en forma\n",
    "conjunta.\n",
    "Si por ejemplo, queremos ver grupos de dos personas, el grupo formado por Juan\n",
    "y Arantxa es el mismo que el formado por Arantxa y Juan. No importa el orden"
   ]
  },
  {
   "cell_type": "code",
   "execution_count": null,
   "metadata": {
    "collapsed": true
   },
   "outputs": [],
   "source": [
    "#no importa el orden, no hay repetición.\n",
    "\n"
   ]
  },
  {
   "cell_type": "markdown",
   "metadata": {},
   "source": [
    "## Exo 11\n",
    "\n",
    "En una clase de 35 alumnos se quiere elegir un comité formado pos tres\n",
    "alumnos. ¿Cuántos comités diferentes se pueden formar?."
   ]
  },
  {
   "cell_type": "code",
   "execution_count": 19,
   "metadata": {},
   "outputs": [],
   "source": [
    "#No hay repetición, no importa el orden\n",
    "#Es una combinación de 35 elementos que extraigo 3\n"
   ]
  },
  {
   "cell_type": "markdown",
   "metadata": {},
   "source": [
    "## Exo 12\n",
    "\n",
    "Una persona tiene cinco monedas de distintos valores. ¿Cuántas sumas diferentes de dinero puede formar con las cinco monedas?"
   ]
  },
  {
   "cell_type": "code",
   "execution_count": null,
   "metadata": {
    "collapsed": true
   },
   "outputs": [],
   "source": [
    "#No se puede repetir\n",
    "#No importa el orden"
   ]
  },
  {
   "cell_type": "markdown",
   "metadata": {},
   "source": [
    "## Exo 13\n",
    "\n",
    "El póker se juega con 32 cartas, cada una de las cuales tiene un \"número\"que\n",
    "puede ser 7, 8, 9, 10, J, Q, K, A y un símbolo (o \"palo\") que puede ser ♣, ♦, ♥,\n",
    "♠. De este modo, (10, ♥) representa el diez de corazones. Un jugador recibe cinco\n",
    "cartas.\n",
    "1. Si de las cinco cartas, hay tres de un mismo número y dos de otro, determine\n",
    "el número de posibles cartas que haya podido recibir.\n",
    "2. Si el jugador recibe cuatro cartas del mismo número ( por tanto la última de\n",
    "distinto), ¿cuántos casos posibles hay?.\n",
    "3. ¿De cuántas maneras puede recibir sus cartas de modo que las cinco sean del\n",
    "mismo palo?.\n"
   ]
  },
  {
   "cell_type": "code",
   "execution_count": null,
   "metadata": {
    "collapsed": true
   },
   "outputs": [],
   "source": []
  }
 ],
 "metadata": {
  "kernelspec": {
   "display_name": "Python 3",
   "language": "python",
   "name": "python3"
  },
  "language_info": {
   "codemirror_mode": {
    "name": "ipython",
    "version": 3
   },
   "file_extension": ".py",
   "mimetype": "text/x-python",
   "name": "python",
   "nbconvert_exporter": "python",
   "pygments_lexer": "ipython3",
   "version": "3.6.3"
  }
 },
 "nbformat": 4,
 "nbformat_minor": 2
}
