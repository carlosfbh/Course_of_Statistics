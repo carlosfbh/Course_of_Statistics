{
 "cells": [
  {
   "cell_type": "code",
   "execution_count": 1,
   "metadata": {},
   "outputs": [],
   "source": [
    "import numpy as np\n",
    "import matplotlib.pyplot as plt\n",
    "%matplotlib inline\n",
    "from scipy import stats\n",
    "import math"
   ]
  },
  {
   "cell_type": "markdown",
   "metadata": {},
   "source": [
    "### One Sample t-Test for a Mean Value\n",
    "\n",
    "Se utiliza cuando la poblecion de referencia sigue una distribucion normal.\n"
   ]
  },
  {
   "cell_type": "markdown",
   "metadata": {},
   "source": [
    "#### Ejercicio\n",
    "\n",
    "Unos estudiantes sacan las siguientes notas: [ 109.4, 76.2, 128.7, 93.7, 85.6,\n",
    "117.7, 117.2, 87.3, 100.3, 55.1]. Son peores estudiantes que los estudiantes de todo el pais que tienen una media de 110 ?"
   ]
  },
  {
   "cell_type": "code",
   "execution_count": 22,
   "metadata": {
    "collapsed": true
   },
   "outputs": [],
   "source": [
    "data = [109.4, 76.2, 128.7, 93.7, 85.6, 117.7, 117.2, 87.3, 100.3, 55.1]"
   ]
  },
  {
   "cell_type": "code",
   "execution_count": null,
   "metadata": {
    "collapsed": true
   },
   "outputs": [],
   "source": [
    "# Hipótesis inicial. La muestra está dentro de la población con media de 110"
   ]
  },
  {
   "cell_type": "code",
   "execution_count": 23,
   "metadata": {},
   "outputs": [
    {
     "data": {
      "text/plain": [
       "97.11999999999999"
      ]
     },
     "execution_count": 23,
     "metadata": {},
     "output_type": "execute_result"
    }
   ],
   "source": [
    "#Saco la media muestral\n",
    "np.mean(data)"
   ]
  },
  {
   "cell_type": "code",
   "execution_count": 4,
   "metadata": {
    "collapsed": true
   },
   "outputs": [],
   "source": [
    "# Vamos a calcular la probabilidad de desviarse de la media de la hipótesis (110) más de 97.11, tanto para un lado \n",
    "# como para el otro lado (110 + (110 - 97.11))"
   ]
  },
  {
   "cell_type": "code",
   "execution_count": 24,
   "metadata": {
    "collapsed": true
   },
   "outputs": [],
   "source": [
    "u = 110\n",
    "n = 10\n",
    "s = np.std(data)"
   ]
  },
  {
   "cell_type": "code",
   "execution_count": 25,
   "metadata": {
    "collapsed": true
   },
   "outputs": [],
   "source": [
    "mi_t = stats.t(9)"
   ]
  },
  {
   "cell_type": "code",
   "execution_count": 26,
   "metadata": {},
   "outputs": [
    {
     "data": {
      "image/png": "[encoded data removed]",
      "text/plain": [
       "<matplotlib.figure.Figure at 0x1a51014ec50>"
      ]
     },
     "metadata": {},
     "output_type": "display_data"
    }
   ],
   "source": [
    "x = np.linspace(90, 130, 1000)\n",
    "d = list(map(mi_t.pdf, (x-u)/(s/math.sqrt(n))))\n",
    "plt.plot(x, d)\n",
    "\n",
    "x1 = np.linspace(90, 97.12, 1000)\n",
    "d1 = list(map(mi_t.pdf, (x1-u)/(s/math.sqrt(n))))\n",
    "plt.fill_between(x = x1, y1 = d1)\n",
    "\n",
    "x2 = np.linspace(123, 130, 1000)\n",
    "d2 = list(map(mi_t.pdf, (x2-u)/(s/math.sqrt(n))))\n",
    "plt.fill_between(x = x2, y1 = d2)\n",
    "\n",
    "plt.show()"
   ]
  },
  {
   "cell_type": "code",
   "execution_count": 27,
   "metadata": {},
   "outputs": [
    {
     "data": {
      "text/plain": [
       "0.08494194770563418"
      ]
     },
     "execution_count": 27,
     "metadata": {},
     "output_type": "execute_result"
    }
   ],
   "source": [
    "2 * mi_t.cdf((97.12 - 110) / (s/math.sqrt(n)))"
   ]
  },
  {
   "cell_type": "code",
   "execution_count": 28,
   "metadata": {
    "collapsed": true
   },
   "outputs": [],
   "source": [
    "# Como esta probabilidad es mayor a 5% entonces no podemos rechazar esta hipótesis. La muestra pertenece a la población\n",
    "# por lo que no podemos decir que son peores de los estudiantes de todo el país porque son parte de los estudiantes de\n",
    "# todo el país"
   ]
  },
  {
   "cell_type": "markdown",
   "metadata": {},
   "source": [
    "### Ejercicio \n",
    "El consumo de energia de 11 mujeres es [5260., 5470., 5640., 6180.,\n",
    "6390., 6515., 6805., 7515., 7515., 8230., 8770.]\n",
    "Es significativamente diferente del valor recomendado de 7725 ?"
   ]
  },
  {
   "cell_type": "code",
   "execution_count": 38,
   "metadata": {},
   "outputs": [],
   "source": [
    "data = [5260, 5470, 5640, 6180, 6390, 6515, 6805, 7515, 7515, 8230, 8770]"
   ]
  },
  {
   "cell_type": "code",
   "execution_count": 39,
   "metadata": {},
   "outputs": [
    {
     "data": {
      "text/plain": [
       "0.018137235176105812"
      ]
     },
     "execution_count": 39,
     "metadata": {},
     "output_type": "execute_result"
    }
   ],
   "source": [
    "media = np.mean(data)\n",
    "u = 7725\n",
    "n = len(data)\n",
    "s = np.std(data, ddof = 1)\n",
    "mi_t = stats.t(n-1)\n",
    "2 * mi_t.cdf((media - u) / (s/math.sqrt(n)))"
   ]
  },
  {
   "cell_type": "code",
   "execution_count": null,
   "metadata": {
    "collapsed": true
   },
   "outputs": [],
   "source": [
    "# Como el p valor es menor al 5% entonces rechazamos la hipótesis"
   ]
  },
  {
   "cell_type": "code",
   "execution_count": 40,
   "metadata": {},
   "outputs": [
    {
     "data": {
      "image/png": "[encoded data removed]",
      "text/plain": [
       "<matplotlib.figure.Figure at 0x1a5111a3198>"
      ]
     },
     "metadata": {},
     "output_type": "display_data"
    }
   ],
   "source": [
    "x = np.linspace(5600, 10000, 1000)\n",
    "d = list(map(mi_t.pdf, (x-u)/(s/math.sqrt(n))))\n",
    "plt.plot(x, d)\n",
    "\n",
    "x1 = np.linspace(5600, media, 1000)\n",
    "d1 = list(map(mi_t.pdf, (x1-u)/(s/math.sqrt(n))))\n",
    "plt.fill_between(x = x1, y1 = d1)\n",
    "\n",
    "x2 = np.linspace(u + abs(u-media), 10000, 1000)\n",
    "d2 = list(map(mi_t.pdf, (x2-u)/(s/math.sqrt(n))))\n",
    "plt.fill_between(x = x2, y1 = d2)\n",
    "\n",
    "plt.show()"
   ]
  },
  {
   "cell_type": "code",
   "execution_count": 41,
   "metadata": {},
   "outputs": [
    {
     "data": {
      "text/plain": [
       "Ttest_1sampResult(statistic=-2.8207540608310198, pvalue=0.018137235176105812)"
      ]
     },
     "execution_count": 41,
     "metadata": {},
     "output_type": "execute_result"
    }
   ],
   "source": [
    "stats.ttest_1samp(data, u)"
   ]
  },
  {
   "cell_type": "markdown",
   "metadata": {},
   "source": [
    "### Two-Sample T-Test\n",
    "\n",
    "Hipotesis nula: La media de ambas distribuciones es la misma"
   ]
  },
  {
   "cell_type": "markdown",
   "metadata": {},
   "source": [
    "#### Ejemplo\n",
    "\n",
    "2 pizzerias envian pizzas a casa y queremos saber si hay una diferencia en el envio medio de pizzas entre la empresa A o B"
   ]
  },
  {
   "cell_type": "code",
   "execution_count": 42,
   "metadata": {
    "collapsed": true
   },
   "outputs": [],
   "source": [
    "pizzeriaA = [20.4,24.2,15.4,21.4,20.2,18.5,21.5]\n",
    "pizzeriaB = [20.2,16.9,18.5,17.3,20.5]"
   ]
  },
  {
   "cell_type": "code",
   "execution_count": 43,
   "metadata": {},
   "outputs": [
    {
     "data": {
      "text/plain": [
       "Ttest_indResult(statistic=1.1193627069386796, pvalue=0.28915100822275147)"
      ]
     },
     "execution_count": 43,
     "metadata": {},
     "output_type": "execute_result"
    }
   ],
   "source": [
    "stats.ttest_ind(pizzeriaA, pizzeriaB)"
   ]
  },
  {
   "cell_type": "code",
   "execution_count": 44,
   "metadata": {
    "collapsed": true
   },
   "outputs": [],
   "source": [
    "#El p valor es mayor que el 5%. No podemos rechazar la hipótesis inicial de que tienen la misma media"
   ]
  },
  {
   "cell_type": "markdown",
   "metadata": {},
   "source": [
    "La diferencia de las 2 muestras sigue una variable de Student: $t=\\frac{(\\bar{X}_1-\\bar{X}_2)}{\\sigma_{\\bar{X}_1-\\bar{X}_2}}$"
   ]
  },
  {
   "cell_type": "markdown",
   "metadata": {},
   "source": [
    "La varianza es calculada con la siguiente formula: Sp = $\\sqrt{\\frac{(n_1-1)s_1^2+(n_2-1)s_2^2}{n_1+n_2-2}}$ $\\sigma_{\\bar{X}_1-\\bar{X}_2}=Sp\\sqrt{1/n_1+1/n_2}$"
   ]
  },
  {
   "cell_type": "code",
   "execution_count": 45,
   "metadata": {
    "collapsed": true
   },
   "outputs": [],
   "source": [
    "#### Ejercicio\n",
    "#### Han cambiado las caracteristicas del coche entre 2 carreras\n",
    "\n",
    "carrera1 = [79, 100,93, 75, 84, 107, 66, 86, 103, 81, 83, 89, 105, 84, 86, 86, 112, 112, 100, 94]\n",
    "carrera2 = [92, 100, 76, 97, 72, 79, 94, 71, 84, 76, 82, 57, 67, 78, 94, 83, 85, 92, 76, 88]"
   ]
  },
  {
   "cell_type": "code",
   "execution_count": 46,
   "metadata": {},
   "outputs": [
    {
     "data": {
      "text/plain": [
       "Ttest_indResult(statistic=2.4347560914234383, pvalue=0.019707660766082435)"
      ]
     },
     "execution_count": 46,
     "metadata": {},
     "output_type": "execute_result"
    }
   ],
   "source": [
    "stats.ttest_ind(carrera1, carrera2)"
   ]
  },
  {
   "cell_type": "code",
   "execution_count": null,
   "metadata": {
    "collapsed": true
   },
   "outputs": [],
   "source": [
    "#Podemos rechazar la hipótesis de que tienen la misma media"
   ]
  },
  {
   "cell_type": "markdown",
   "metadata": {},
   "source": [
    "#### Ejercicio \n",
    "En una clinica, 15 pacientes vagos pesan: [76, 101, 66, 72, 88, 82, 79, 73, 76, 85, 75, 64,\n",
    "76, 81, 86.] kg y los deportistas [ 64, 65, 56, 62, 59, 76, 66, 82, 91,\n",
    "57, 92, 80, 82, 67, 54] kg\n",
    "\n",
    "Son los vagos mas pesados ?"
   ]
  },
  {
   "cell_type": "markdown",
   "metadata": {},
   "source": [
    "### Paired T-test\n",
    "\n",
    "Se utiliza para ver la variacion de una poblacion normal en el tiempo (2 muestras que provienen de la misma poblacion y con la misma varianza).\n",
    "Es equivalente al test con una muestra comparando con una media de cero."
   ]
  },
  {
   "cell_type": "code",
   "execution_count": 15,
   "metadata": {
    "collapsed": true
   },
   "outputs": [],
   "source": [
    "np.random.seed(1234)\n",
    "data = np.random.randn(10)+0.1\n",
    "data1 = np.random.randn(10)*5 \n",
    "data2 = data1 + data "
   ]
  },
  {
   "cell_type": "code",
   "execution_count": 16,
   "metadata": {},
   "outputs": [
    {
     "data": {
      "text/plain": [
       "array([ 0.57143516, -1.09097569,  1.53270697, -0.2126519 , -0.62058873,\n",
       "        0.98716294,  0.95958841, -0.5365235 ,  0.11569637, -2.14268495])"
      ]
     },
     "execution_count": 16,
     "metadata": {},
     "output_type": "execute_result"
    }
   ],
   "source": [
    "data"
   ]
  },
  {
   "cell_type": "markdown",
   "metadata": {},
   "source": [
    "#### Ejercicio"
   ]
  },
  {
   "cell_type": "markdown",
   "metadata": {},
   "source": [
    "Las notas de un conjunto de 8 estudiantes en un test de fisica es: 60, 62, 67, 69, 70, 72, 75, and 78\n",
    "Testear si la media es significativamente distinta de 65.\n",
    "El investigador se da cuenta de que accidentalmente ha puesta 76 en vez de 67. Son las notas corregidas significativamente distintas de 65 ahora ?"
   ]
  },
  {
   "cell_type": "markdown",
   "metadata": {},
   "source": [
    "Se realiza un experimento sobre los efectos del alcohol con respecto a las abilidades motoras. 10 sujetos son testeados 2 veces, una vez tomando 2 copas de alcohol y otra tomando 2 copas de agua. A mayor nota, mejor es la abilidad motora. Comparar ambas distribuciones para ver si el alcohol hace efecto o no."
   ]
  },
  {
   "cell_type": "code",
   "execution_count": 50,
   "metadata": {
    "collapsed": true
   },
   "outputs": [],
   "source": [
    "water = np.array([16.0, 15.0, 11.0, 20.0, 19.0, 14.0, 13.0, 15.0, 14.0, 16.0])\n",
    "alcohol = np.array([13.0, 13.0, 10.0, 18.0, 17.0, 11.0, 10.0, 15.0, 11.0, 16.0])"
   ]
  },
  {
   "cell_type": "code",
   "execution_count": 51,
   "metadata": {},
   "outputs": [
    {
     "data": {
      "text/plain": [
       "Ttest_relResult(statistic=5.0185701660560547, pvalue=0.00072049133854553316)"
      ]
     },
     "execution_count": 51,
     "metadata": {},
     "output_type": "execute_result"
    }
   ],
   "source": [
    "stats.ttest_rel(water, alcohol)"
   ]
  },
  {
   "cell_type": "code",
   "execution_count": 53,
   "metadata": {},
   "outputs": [
    {
     "data": {
      "text/plain": [
       "Ttest_1sampResult(statistic=5.0185701660560547, pvalue=0.00072049133854553316)"
      ]
     },
     "execution_count": 53,
     "metadata": {},
     "output_type": "execute_result"
    }
   ],
   "source": [
    "dif = water - alcohol\n",
    "stats.ttest_1samp(dif, 0)"
   ]
  },
  {
   "cell_type": "markdown",
   "metadata": {
    "collapsed": true
   },
   "source": [
    "Las notas de un test de vocabulario en un grupo de personas de 20 anos y de 60 anos aparecen aqui abajo. Tiene efecto la edad en las notas ?"
   ]
  },
  {
   "cell_type": "code",
   "execution_count": 54,
   "metadata": {
    "collapsed": true
   },
   "outputs": [],
   "source": [
    "age20= [27.0, 26.0, 21.0, 24.0, 15.0, 18.0, 17.0, 12.0, 13.0]\n",
    "age60= [26.0, 29.0, 29.0, 29.0, 27.0, 16.0, 20.0, 27.0]"
   ]
  },
  {
   "cell_type": "code",
   "execution_count": 56,
   "metadata": {},
   "outputs": [
    {
     "data": {
      "text/plain": [
       "Ttest_indResult(statistic=-2.4236422879882413, pvalue=0.028476486004354491)"
      ]
     },
     "execution_count": 56,
     "metadata": {},
     "output_type": "execute_result"
    }
   ],
   "source": [
    "stats.ttest_ind(age20, age60)"
   ]
  },
  {
   "cell_type": "code",
   "execution_count": null,
   "metadata": {
    "collapsed": true
   },
   "outputs": [],
   "source": [
    "#Rechazamos la hipótesis inicial de que tienen la misma media. Tiene efecto la edad"
   ]
  },
  {
   "cell_type": "markdown",
   "metadata": {},
   "source": [
    "### Wilcoxon Signed Rank Sum Test"
   ]
  },
  {
   "cell_type": "markdown",
   "metadata": {},
   "source": [
    "Se utiliza para distribuciones no normales y concierne los rangos:\n",
    "\n",
    "* Calcular la diferencia entre cada observacion y el valor de interes.\n",
    "* Ignorar el signo de la diferencia, ordenarlo por orden de magnitud\n",
    "* Calcular la suma de los rankings con el signo."
   ]
  },
  {
   "cell_type": "markdown",
   "metadata": {},
   "source": [
    "# Ejercicio\n",
    "\n",
    "Se estudia la eficacia de un nuevo medicamento para reducir comportamiento obsesivo en ninos autistas. Se le suministra a  10 ninos y se establece una nota de comportamiento."
   ]
  },
  {
   "cell_type": "code",
   "execution_count": 21,
   "metadata": {
    "collapsed": true
   },
   "outputs": [],
   "source": [
    "before=np.array([125.0, 115.0, 130.0, 140.0, 140.0, 115.0, 140.0, 125.0, 140.0, 135.0])\n",
    "after=np.array([110.0, 122.0, 125.0, 120.0, 140.0, 124.0, 123.0, 137.0, 135.0, 145.0])"
   ]
  },
  {
   "cell_type": "code",
   "execution_count": 30,
   "metadata": {
    "collapsed": true
   },
   "outputs": [],
   "source": [
    "before=np.array([85.0, 70.0, 40.0, 65.0, 80.0, 75.0, 55.0, 20.0])\n",
    "after=np.array([75.0, 50.0, 50.0, 40.0, 20.0, 65.0, 40.0, 25.0])"
   ]
  },
  {
   "cell_type": "code",
   "execution_count": 33,
   "metadata": {
    "collapsed": true
   },
   "outputs": [],
   "source": [
    "### Ejercicio"
   ]
  },
  {
   "cell_type": "code",
   "execution_count": 34,
   "metadata": {
    "collapsed": true
   },
   "outputs": [],
   "source": [
    "before=np.array([125.0,\n",
    " 132.0,\n",
    " 138.0,\n",
    " 120.0,\n",
    " 125.0,\n",
    " 127.0,\n",
    " 136.0,\n",
    " 139.0,\n",
    " 131.0,\n",
    " 132.0,\n",
    " 135.0,\n",
    " 136.0,\n",
    " 128.0,\n",
    " 127.0,\n",
    " 130.0])\n",
    "\n",
    "after=np.array([118.0,\n",
    " 134.0,\n",
    " 130.0,\n",
    " 124.0,\n",
    " 105.0,\n",
    " 130.0,\n",
    " 130.0,\n",
    " 132.0,\n",
    " 123.0,\n",
    " 128.0,\n",
    " 126.0,\n",
    " 140.0,\n",
    " 135.0,\n",
    " 126.0,\n",
    " 132.0])"
   ]
  },
  {
   "cell_type": "markdown",
   "metadata": {},
   "source": [
    "## Por que funciona ?\n",
    "\n",
    "Intuitivamente, los rangos deberian anularse unos a otros: Es decir que el movimiento en el ranking de un elemento seria compensado por el movimiento de otro.\n",
    "Pero para entenderlo mejor, cojamos un ejemplo en el que comparamos la evolucion de una muestra con 3 elementos. Despues de calcular los rankings, tendriamos las siguientes posibilidades para el W positivo (suma de los rankings con signo positivo):"
   ]
  },
  {
   "cell_type": "code",
   "execution_count": 48,
   "metadata": {},
   "outputs": [
    {
     "data": {
      "text/plain": [
       "<matplotlib.image.AxesImage at 0x7f3d0c83efd0>"
      ]
     },
     "execution_count": 48,
     "metadata": {},
     "output_type": "execute_result"
    },
    {
     "data": {
      "image/png": "[encoded data removed]",
      "text/plain": [
       "<matplotlib.figure.Figure at 0x7f3d0c9e3210>"
      ]
     },
     "metadata": {},
     "output_type": "display_data"
    }
   ],
   "source": [
    "plt.imshow(plt.imread(\"ExactW_n3.gif\"))"
   ]
  },
  {
   "cell_type": "markdown",
   "metadata": {},
   "source": [
    "Ya vemos que es mas probable que este en 3 (hay 2 ocurencias)"
   ]
  },
  {
   "cell_type": "markdown",
   "metadata": {},
   "source": [
    "Si aumentamos el numero de N (elementos en la muestra), W tiende a una distribucion normal. Para N inferiores a 10, usamos las tablas de Wilcoxon"
   ]
  },
  {
   "cell_type": "code",
   "execution_count": null,
   "metadata": {
    "collapsed": true
   },
   "outputs": [],
   "source": []
  }
 ],
 "metadata": {
  "kernelspec": {
   "display_name": "Python 3",
   "language": "python",
   "name": "python3"
  },
  "language_info": {
   "codemirror_mode": {
    "name": "ipython",
    "version": 3
   },
   "file_extension": ".py",
   "mimetype": "text/x-python",
   "name": "python",
   "nbconvert_exporter": "python",
   "pygments_lexer": "ipython3",
   "version": "3.6.3"
  }
 },
 "nbformat": 4,
 "nbformat_minor": 1
}
